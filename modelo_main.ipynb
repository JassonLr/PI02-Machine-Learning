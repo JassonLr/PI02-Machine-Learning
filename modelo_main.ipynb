{
  "nbformat": 4,
  "nbformat_minor": 0,
  "metadata": {
    "colab": {
      "provenance": []
    },
    "kernelspec": {
      "name": "python3",
      "display_name": "Python 3"
    },
    "language_info": {
      "name": "python"
    }
  },
  "cells": [
    {
      "cell_type": "code",
      "execution_count": null,
      "metadata": {
        "id": "fVTtswb3qRTO"
      },
      "outputs": [],
      "source": [
        "#Importamos las librerias\n",
        "import pandas as pd #procesamiento de datos\n",
        "import numpy as np #algebra lineal\n",
        "import io\n",
        "import seaborn as sns #graficos avanzados\n",
        "import matplotlib.pyplot as plt #graficos basicos"
      ]
    },
    {
      "cell_type": "code",
      "source": [
        "#Carga de datos en Google Colab\n",
        "from google.colab import files\n",
        " \n",
        "uploaded = files.upload()\n"
      ],
      "metadata": {
        "id": "rBNnSpOZ2A0F",
        "colab": {
          "base_uri": "https://localhost:8080/",
          "height": 73
        },
        "outputId": "d2340dd2-eddd-4a17-b111-2b8a4430755d"
      },
      "execution_count": null,
      "outputs": [
        {
          "output_type": "display_data",
          "data": {
            "text/plain": [
              "<IPython.core.display.HTML object>"
            ],
            "text/html": [
              "\n",
              "     <input type=\"file\" id=\"files-fdc616fb-6fa8-4f80-aed1-74489eccfcac\" name=\"files[]\" multiple disabled\n",
              "        style=\"border:none\" />\n",
              "     <output id=\"result-fdc616fb-6fa8-4f80-aed1-74489eccfcac\">\n",
              "      Upload widget is only available when the cell has been executed in the\n",
              "      current browser session. Please rerun this cell to enable.\n",
              "      </output>\n",
              "      <script>// Copyright 2017 Google LLC\n",
              "//\n",
              "// Licensed under the Apache License, Version 2.0 (the \"License\");\n",
              "// you may not use this file except in compliance with the License.\n",
              "// You may obtain a copy of the License at\n",
              "//\n",
              "//      http://www.apache.org/licenses/LICENSE-2.0\n",
              "//\n",
              "// Unless required by applicable law or agreed to in writing, software\n",
              "// distributed under the License is distributed on an \"AS IS\" BASIS,\n",
              "// WITHOUT WARRANTIES OR CONDITIONS OF ANY KIND, either express or implied.\n",
              "// See the License for the specific language governing permissions and\n",
              "// limitations under the License.\n",
              "\n",
              "/**\n",
              " * @fileoverview Helpers for google.colab Python module.\n",
              " */\n",
              "(function(scope) {\n",
              "function span(text, styleAttributes = {}) {\n",
              "  const element = document.createElement('span');\n",
              "  element.textContent = text;\n",
              "  for (const key of Object.keys(styleAttributes)) {\n",
              "    element.style[key] = styleAttributes[key];\n",
              "  }\n",
              "  return element;\n",
              "}\n",
              "\n",
              "// Max number of bytes which will be uploaded at a time.\n",
              "const MAX_PAYLOAD_SIZE = 100 * 1024;\n",
              "\n",
              "function _uploadFiles(inputId, outputId) {\n",
              "  const steps = uploadFilesStep(inputId, outputId);\n",
              "  const outputElement = document.getElementById(outputId);\n",
              "  // Cache steps on the outputElement to make it available for the next call\n",
              "  // to uploadFilesContinue from Python.\n",
              "  outputElement.steps = steps;\n",
              "\n",
              "  return _uploadFilesContinue(outputId);\n",
              "}\n",
              "\n",
              "// This is roughly an async generator (not supported in the browser yet),\n",
              "// where there are multiple asynchronous steps and the Python side is going\n",
              "// to poll for completion of each step.\n",
              "// This uses a Promise to block the python side on completion of each step,\n",
              "// then passes the result of the previous step as the input to the next step.\n",
              "function _uploadFilesContinue(outputId) {\n",
              "  const outputElement = document.getElementById(outputId);\n",
              "  const steps = outputElement.steps;\n",
              "\n",
              "  const next = steps.next(outputElement.lastPromiseValue);\n",
              "  return Promise.resolve(next.value.promise).then((value) => {\n",
              "    // Cache the last promise value to make it available to the next\n",
              "    // step of the generator.\n",
              "    outputElement.lastPromiseValue = value;\n",
              "    return next.value.response;\n",
              "  });\n",
              "}\n",
              "\n",
              "/**\n",
              " * Generator function which is called between each async step of the upload\n",
              " * process.\n",
              " * @param {string} inputId Element ID of the input file picker element.\n",
              " * @param {string} outputId Element ID of the output display.\n",
              " * @return {!Iterable<!Object>} Iterable of next steps.\n",
              " */\n",
              "function* uploadFilesStep(inputId, outputId) {\n",
              "  const inputElement = document.getElementById(inputId);\n",
              "  inputElement.disabled = false;\n",
              "\n",
              "  const outputElement = document.getElementById(outputId);\n",
              "  outputElement.innerHTML = '';\n",
              "\n",
              "  const pickedPromise = new Promise((resolve) => {\n",
              "    inputElement.addEventListener('change', (e) => {\n",
              "      resolve(e.target.files);\n",
              "    });\n",
              "  });\n",
              "\n",
              "  const cancel = document.createElement('button');\n",
              "  inputElement.parentElement.appendChild(cancel);\n",
              "  cancel.textContent = 'Cancel upload';\n",
              "  const cancelPromise = new Promise((resolve) => {\n",
              "    cancel.onclick = () => {\n",
              "      resolve(null);\n",
              "    };\n",
              "  });\n",
              "\n",
              "  // Wait for the user to pick the files.\n",
              "  const files = yield {\n",
              "    promise: Promise.race([pickedPromise, cancelPromise]),\n",
              "    response: {\n",
              "      action: 'starting',\n",
              "    }\n",
              "  };\n",
              "\n",
              "  cancel.remove();\n",
              "\n",
              "  // Disable the input element since further picks are not allowed.\n",
              "  inputElement.disabled = true;\n",
              "\n",
              "  if (!files) {\n",
              "    return {\n",
              "      response: {\n",
              "        action: 'complete',\n",
              "      }\n",
              "    };\n",
              "  }\n",
              "\n",
              "  for (const file of files) {\n",
              "    const li = document.createElement('li');\n",
              "    li.append(span(file.name, {fontWeight: 'bold'}));\n",
              "    li.append(span(\n",
              "        `(${file.type || 'n/a'}) - ${file.size} bytes, ` +\n",
              "        `last modified: ${\n",
              "            file.lastModifiedDate ? file.lastModifiedDate.toLocaleDateString() :\n",
              "                                    'n/a'} - `));\n",
              "    const percent = span('0% done');\n",
              "    li.appendChild(percent);\n",
              "\n",
              "    outputElement.appendChild(li);\n",
              "\n",
              "    const fileDataPromise = new Promise((resolve) => {\n",
              "      const reader = new FileReader();\n",
              "      reader.onload = (e) => {\n",
              "        resolve(e.target.result);\n",
              "      };\n",
              "      reader.readAsArrayBuffer(file);\n",
              "    });\n",
              "    // Wait for the data to be ready.\n",
              "    let fileData = yield {\n",
              "      promise: fileDataPromise,\n",
              "      response: {\n",
              "        action: 'continue',\n",
              "      }\n",
              "    };\n",
              "\n",
              "    // Use a chunked sending to avoid message size limits. See b/62115660.\n",
              "    let position = 0;\n",
              "    do {\n",
              "      const length = Math.min(fileData.byteLength - position, MAX_PAYLOAD_SIZE);\n",
              "      const chunk = new Uint8Array(fileData, position, length);\n",
              "      position += length;\n",
              "\n",
              "      const base64 = btoa(String.fromCharCode.apply(null, chunk));\n",
              "      yield {\n",
              "        response: {\n",
              "          action: 'append',\n",
              "          file: file.name,\n",
              "          data: base64,\n",
              "        },\n",
              "      };\n",
              "\n",
              "      let percentDone = fileData.byteLength === 0 ?\n",
              "          100 :\n",
              "          Math.round((position / fileData.byteLength) * 100);\n",
              "      percent.textContent = `${percentDone}% done`;\n",
              "\n",
              "    } while (position < fileData.byteLength);\n",
              "  }\n",
              "\n",
              "  // All done.\n",
              "  yield {\n",
              "    response: {\n",
              "      action: 'complete',\n",
              "    }\n",
              "  };\n",
              "}\n",
              "\n",
              "scope.google = scope.google || {};\n",
              "scope.google.colab = scope.google.colab || {};\n",
              "scope.google.colab._files = {\n",
              "  _uploadFiles,\n",
              "  _uploadFilesContinue,\n",
              "};\n",
              "})(self);\n",
              "</script> "
            ]
          },
          "metadata": {}
        },
        {
          "output_type": "stream",
          "name": "stdout",
          "text": [
            "Saving test.parquet to test (1).parquet\n"
          ]
        }
      ]
    },
    {
      "cell_type": "code",
      "source": [
        "#Carga de datos en DataFrame\n",
        "train = pd.read_parquet(io.BytesIO(uploaded['train.parquet']))\n",
        "test = pd.read_parquet(io.BytesIO(uploaded['test.parquet']))"
      ],
      "metadata": {
        "id": "COuvqPhm6sUs"
      },
      "execution_count": null,
      "outputs": []
    },
    {
      "cell_type": "code",
      "source": [
        "#Verificar si 'tren.parquet': Contiene 346479 registros y 22 dimensiones,\n",
        "train.shape"
      ],
      "metadata": {
        "colab": {
          "base_uri": "https://localhost:8080/"
        },
        "id": "geHhxKTl-K3L",
        "outputId": "adac626e-8acb-413e-b9ca-7b88dd040337"
      },
      "execution_count": null,
      "outputs": [
        {
          "output_type": "execute_result",
          "data": {
            "text/plain": [
              "(346479, 22)"
            ]
          },
          "metadata": {},
          "execution_count": 14
        }
      ]
    },
    {
      "cell_type": "markdown",
      "source": [
        "#Idenficar el variable objetivo del modelo: \n",
        "El objetivo es predecir si una propiedad pertenece a la categoría de precios bajos (low). \n",
        "para luego hacer un analisis exploratorio de datos.\n"
      ],
      "metadata": {
        "id": "UjVS1KDiSyWU"
      }
    },
    {
      "cell_type": "code",
      "source": [
        "#Ver duplicados\n",
        "train[train.duplicated()==True]\n",
        "\n",
        "#Eliminar la filas duplicadas\n",
        "train.drop_duplicates()"
      ],
      "metadata": {
        "id": "FUt4r4lhSEnw",
        "colab": {
          "base_uri": "https://localhost:8080/",
          "height": 1000
        },
        "outputId": "a2a5dd6c-a222-4c4f-da6c-0f438a9ec33e"
      },
      "execution_count": null,
      "outputs": [
        {
          "output_type": "execute_result",
          "data": {
            "text/plain": [
              "                id                                                url  \\\n",
              "0       7048013474  https://boise.craigslist.org/apa/d/very-nice-b...   \n",
              "1       7043931179  https://cosprings.craigslist.org/apa/d/colorad...   \n",
              "2       7048254516  https://norfolk.craigslist.org/apa/d/virginia-...   \n",
              "3       7041032577  https://phoenix.craigslist.org/nph/apa/d/phoen...   \n",
              "4       7048588701  https://nashville.craigslist.org/apa/d/antioch...   \n",
              "...            ...                                                ...   \n",
              "346474  7050982281  https://evansville.craigslist.org/apa/d/evansv...   \n",
              "346475  7049418251  https://sandiego.craigslist.org/ssd/apa/d/chul...   \n",
              "346476  7048268235  https://columbia.craigslist.org/apa/d/columbia...   \n",
              "346477  7026721229  https://nd.craigslist.org/apa/d/minot-open-con...   \n",
              "346478  7049657819  https://buffalo.craigslist.org/apa/d/buffalo-a...   \n",
              "\n",
              "                         region                         region_url  price  \\\n",
              "0                         boise       https://boise.craigslist.org   1350   \n",
              "1              colorado springs   https://cosprings.craigslist.org   1115   \n",
              "2       norfolk / hampton roads     https://norfolk.craigslist.org   1129   \n",
              "3                       phoenix     https://phoenix.craigslist.org   1580   \n",
              "4                     nashville   https://nashville.craigslist.org    995   \n",
              "...                         ...                                ...    ...   \n",
              "346474               evansville  https://evansville.craigslist.org    672   \n",
              "346475                san diego    https://sandiego.craigslist.org   2122   \n",
              "346476                 columbia    https://columbia.craigslist.org   1014   \n",
              "346477             north dakota          https://nd.craigslist.org    935   \n",
              "346478                  buffalo     https://buffalo.craigslist.org   1300   \n",
              "\n",
              "             type  sqfeet  beds  baths  cats_allowed  ...  wheelchair_access  \\\n",
              "0           house    1200     2    2.0             1  ...                  0   \n",
              "1       apartment     694     1    1.0             1  ...                  0   \n",
              "2       apartment     900     2    2.0             0  ...                  0   \n",
              "3           house    1469     3    2.0             1  ...                  0   \n",
              "4       apartment     700     1    1.0             1  ...                  0   \n",
              "...           ...     ...   ...    ...           ...  ...                ...   \n",
              "346474  apartment     660     1    1.0             1  ...                  0   \n",
              "346475  apartment    1099     2    2.0             1  ...                  0   \n",
              "346476  apartment    1104     2    2.0             1  ...                  0   \n",
              "346477  apartment    1050     2    2.0             0  ...                  0   \n",
              "346478  apartment    1350     2    2.0             1  ...                  0   \n",
              "\n",
              "        electric_vehicle_charge  comes_furnished  laundry_options  \\\n",
              "0                             0                0      w/d in unit   \n",
              "1                             0                0      w/d in unit   \n",
              "2                             0                0      w/d hookups   \n",
              "3                             0                0      w/d in unit   \n",
              "4                             0                0      w/d in unit   \n",
              "...                         ...              ...              ...   \n",
              "346474                        0                0  laundry on site   \n",
              "346475                        0                0      w/d in unit   \n",
              "346476                        0                0      w/d hookups   \n",
              "346477                        0                0      w/d in unit   \n",
              "346478                        0                0      w/d in unit   \n",
              "\n",
              "           parking_options                                          image_url  \\\n",
              "0          detached garage  https://images.craigslist.org/00B0B_cPiJMEheZe...   \n",
              "1                  carport  https://images.craigslist.org/00R0R_5XAoSKvfrz...   \n",
              "2       off-street parking  https://images.craigslist.org/00f0f_3ZbTFrsHpZ...   \n",
              "3                     None  https://images.craigslist.org/00f0f_aXV5Dkd5qk...   \n",
              "4                  carport  https://images.craigslist.org/00606_gYOGKClOHv...   \n",
              "...                    ...                                                ...   \n",
              "346474                None  https://images.craigslist.org/00x0x_9oaHKZ8Ilp...   \n",
              "346475  off-street parking  https://images.craigslist.org/00O0O_6QsU4p5WMh...   \n",
              "346476  off-street parking  https://images.craigslist.org/00000_dpNWqzYhGK...   \n",
              "346477     detached garage  https://images.craigslist.org/00Z0Z_65g6Cty1RX...   \n",
              "346478  off-street parking  https://images.craigslist.org/00w0w_7irvBxq409...   \n",
              "\n",
              "                                              description      lat      long  \\\n",
              "0       Super cute row house in the Boise bench area. ...  43.5851 -116.2250   \n",
              "1       Windtree Apartment Homes currently has a spaci...  38.9137 -104.7800   \n",
              "2       Call Today!  show contact info   Indian Lakes ...  36.7922  -76.1643   \n",
              "3       Cody Anderson Two Brothers Realty License #: S...  33.5623 -112.0560   \n",
              "4       To schedule a tour We now book our tour appoin...  36.0595  -86.6592   \n",
              "...                                                   ...      ...       ...   \n",
              "346474  The pool, the office, the 24-hour on-site laun...  37.9591  -87.5293   \n",
              "346475  Seize your chance to live in our beautiful apa...  32.6279 -117.0370   \n",
              "346476  Tucked into the rolling landscape of Southeast...  33.9659  -80.9355   \n",
              "346477  Enjoy living at Southwood Apartments! Located ...  48.1995 -101.2800   \n",
              "346478  Description   Huge spacious 2 bedroom.  Beauti...  42.8997  -78.8803   \n",
              "\n",
              "        state  \n",
              "0          id  \n",
              "1          co  \n",
              "2          va  \n",
              "3          az  \n",
              "4          tn  \n",
              "...       ...  \n",
              "346474     in  \n",
              "346475     ca  \n",
              "346476     sc  \n",
              "346477     nd  \n",
              "346478     ny  \n",
              "\n",
              "[346479 rows x 22 columns]"
            ],
            "text/html": [
              "\n",
              "  <div id=\"df-1edcd927-8634-43b0-8627-168c4e7195f1\">\n",
              "    <div class=\"colab-df-container\">\n",
              "      <div>\n",
              "<style scoped>\n",
              "    .dataframe tbody tr th:only-of-type {\n",
              "        vertical-align: middle;\n",
              "    }\n",
              "\n",
              "    .dataframe tbody tr th {\n",
              "        vertical-align: top;\n",
              "    }\n",
              "\n",
              "    .dataframe thead th {\n",
              "        text-align: right;\n",
              "    }\n",
              "</style>\n",
              "<table border=\"1\" class=\"dataframe\">\n",
              "  <thead>\n",
              "    <tr style=\"text-align: right;\">\n",
              "      <th></th>\n",
              "      <th>id</th>\n",
              "      <th>url</th>\n",
              "      <th>region</th>\n",
              "      <th>region_url</th>\n",
              "      <th>price</th>\n",
              "      <th>type</th>\n",
              "      <th>sqfeet</th>\n",
              "      <th>beds</th>\n",
              "      <th>baths</th>\n",
              "      <th>cats_allowed</th>\n",
              "      <th>...</th>\n",
              "      <th>wheelchair_access</th>\n",
              "      <th>electric_vehicle_charge</th>\n",
              "      <th>comes_furnished</th>\n",
              "      <th>laundry_options</th>\n",
              "      <th>parking_options</th>\n",
              "      <th>image_url</th>\n",
              "      <th>description</th>\n",
              "      <th>lat</th>\n",
              "      <th>long</th>\n",
              "      <th>state</th>\n",
              "    </tr>\n",
              "  </thead>\n",
              "  <tbody>\n",
              "    <tr>\n",
              "      <th>0</th>\n",
              "      <td>7048013474</td>\n",
              "      <td>https://boise.craigslist.org/apa/d/very-nice-b...</td>\n",
              "      <td>boise</td>\n",
              "      <td>https://boise.craigslist.org</td>\n",
              "      <td>1350</td>\n",
              "      <td>house</td>\n",
              "      <td>1200</td>\n",
              "      <td>2</td>\n",
              "      <td>2.0</td>\n",
              "      <td>1</td>\n",
              "      <td>...</td>\n",
              "      <td>0</td>\n",
              "      <td>0</td>\n",
              "      <td>0</td>\n",
              "      <td>w/d in unit</td>\n",
              "      <td>detached garage</td>\n",
              "      <td>https://images.craigslist.org/00B0B_cPiJMEheZe...</td>\n",
              "      <td>Super cute row house in the Boise bench area. ...</td>\n",
              "      <td>43.5851</td>\n",
              "      <td>-116.2250</td>\n",
              "      <td>id</td>\n",
              "    </tr>\n",
              "    <tr>\n",
              "      <th>1</th>\n",
              "      <td>7043931179</td>\n",
              "      <td>https://cosprings.craigslist.org/apa/d/colorad...</td>\n",
              "      <td>colorado springs</td>\n",
              "      <td>https://cosprings.craigslist.org</td>\n",
              "      <td>1115</td>\n",
              "      <td>apartment</td>\n",
              "      <td>694</td>\n",
              "      <td>1</td>\n",
              "      <td>1.0</td>\n",
              "      <td>1</td>\n",
              "      <td>...</td>\n",
              "      <td>0</td>\n",
              "      <td>0</td>\n",
              "      <td>0</td>\n",
              "      <td>w/d in unit</td>\n",
              "      <td>carport</td>\n",
              "      <td>https://images.craigslist.org/00R0R_5XAoSKvfrz...</td>\n",
              "      <td>Windtree Apartment Homes currently has a spaci...</td>\n",
              "      <td>38.9137</td>\n",
              "      <td>-104.7800</td>\n",
              "      <td>co</td>\n",
              "    </tr>\n",
              "    <tr>\n",
              "      <th>2</th>\n",
              "      <td>7048254516</td>\n",
              "      <td>https://norfolk.craigslist.org/apa/d/virginia-...</td>\n",
              "      <td>norfolk / hampton roads</td>\n",
              "      <td>https://norfolk.craigslist.org</td>\n",
              "      <td>1129</td>\n",
              "      <td>apartment</td>\n",
              "      <td>900</td>\n",
              "      <td>2</td>\n",
              "      <td>2.0</td>\n",
              "      <td>0</td>\n",
              "      <td>...</td>\n",
              "      <td>0</td>\n",
              "      <td>0</td>\n",
              "      <td>0</td>\n",
              "      <td>w/d hookups</td>\n",
              "      <td>off-street parking</td>\n",
              "      <td>https://images.craigslist.org/00f0f_3ZbTFrsHpZ...</td>\n",
              "      <td>Call Today!  show contact info   Indian Lakes ...</td>\n",
              "      <td>36.7922</td>\n",
              "      <td>-76.1643</td>\n",
              "      <td>va</td>\n",
              "    </tr>\n",
              "    <tr>\n",
              "      <th>3</th>\n",
              "      <td>7041032577</td>\n",
              "      <td>https://phoenix.craigslist.org/nph/apa/d/phoen...</td>\n",
              "      <td>phoenix</td>\n",
              "      <td>https://phoenix.craigslist.org</td>\n",
              "      <td>1580</td>\n",
              "      <td>house</td>\n",
              "      <td>1469</td>\n",
              "      <td>3</td>\n",
              "      <td>2.0</td>\n",
              "      <td>1</td>\n",
              "      <td>...</td>\n",
              "      <td>0</td>\n",
              "      <td>0</td>\n",
              "      <td>0</td>\n",
              "      <td>w/d in unit</td>\n",
              "      <td>None</td>\n",
              "      <td>https://images.craigslist.org/00f0f_aXV5Dkd5qk...</td>\n",
              "      <td>Cody Anderson Two Brothers Realty License #: S...</td>\n",
              "      <td>33.5623</td>\n",
              "      <td>-112.0560</td>\n",
              "      <td>az</td>\n",
              "    </tr>\n",
              "    <tr>\n",
              "      <th>4</th>\n",
              "      <td>7048588701</td>\n",
              "      <td>https://nashville.craigslist.org/apa/d/antioch...</td>\n",
              "      <td>nashville</td>\n",
              "      <td>https://nashville.craigslist.org</td>\n",
              "      <td>995</td>\n",
              "      <td>apartment</td>\n",
              "      <td>700</td>\n",
              "      <td>1</td>\n",
              "      <td>1.0</td>\n",
              "      <td>1</td>\n",
              "      <td>...</td>\n",
              "      <td>0</td>\n",
              "      <td>0</td>\n",
              "      <td>0</td>\n",
              "      <td>w/d in unit</td>\n",
              "      <td>carport</td>\n",
              "      <td>https://images.craigslist.org/00606_gYOGKClOHv...</td>\n",
              "      <td>To schedule a tour We now book our tour appoin...</td>\n",
              "      <td>36.0595</td>\n",
              "      <td>-86.6592</td>\n",
              "      <td>tn</td>\n",
              "    </tr>\n",
              "    <tr>\n",
              "      <th>...</th>\n",
              "      <td>...</td>\n",
              "      <td>...</td>\n",
              "      <td>...</td>\n",
              "      <td>...</td>\n",
              "      <td>...</td>\n",
              "      <td>...</td>\n",
              "      <td>...</td>\n",
              "      <td>...</td>\n",
              "      <td>...</td>\n",
              "      <td>...</td>\n",
              "      <td>...</td>\n",
              "      <td>...</td>\n",
              "      <td>...</td>\n",
              "      <td>...</td>\n",
              "      <td>...</td>\n",
              "      <td>...</td>\n",
              "      <td>...</td>\n",
              "      <td>...</td>\n",
              "      <td>...</td>\n",
              "      <td>...</td>\n",
              "      <td>...</td>\n",
              "    </tr>\n",
              "    <tr>\n",
              "      <th>346474</th>\n",
              "      <td>7050982281</td>\n",
              "      <td>https://evansville.craigslist.org/apa/d/evansv...</td>\n",
              "      <td>evansville</td>\n",
              "      <td>https://evansville.craigslist.org</td>\n",
              "      <td>672</td>\n",
              "      <td>apartment</td>\n",
              "      <td>660</td>\n",
              "      <td>1</td>\n",
              "      <td>1.0</td>\n",
              "      <td>1</td>\n",
              "      <td>...</td>\n",
              "      <td>0</td>\n",
              "      <td>0</td>\n",
              "      <td>0</td>\n",
              "      <td>laundry on site</td>\n",
              "      <td>None</td>\n",
              "      <td>https://images.craigslist.org/00x0x_9oaHKZ8Ilp...</td>\n",
              "      <td>The pool, the office, the 24-hour on-site laun...</td>\n",
              "      <td>37.9591</td>\n",
              "      <td>-87.5293</td>\n",
              "      <td>in</td>\n",
              "    </tr>\n",
              "    <tr>\n",
              "      <th>346475</th>\n",
              "      <td>7049418251</td>\n",
              "      <td>https://sandiego.craigslist.org/ssd/apa/d/chul...</td>\n",
              "      <td>san diego</td>\n",
              "      <td>https://sandiego.craigslist.org</td>\n",
              "      <td>2122</td>\n",
              "      <td>apartment</td>\n",
              "      <td>1099</td>\n",
              "      <td>2</td>\n",
              "      <td>2.0</td>\n",
              "      <td>1</td>\n",
              "      <td>...</td>\n",
              "      <td>0</td>\n",
              "      <td>0</td>\n",
              "      <td>0</td>\n",
              "      <td>w/d in unit</td>\n",
              "      <td>off-street parking</td>\n",
              "      <td>https://images.craigslist.org/00O0O_6QsU4p5WMh...</td>\n",
              "      <td>Seize your chance to live in our beautiful apa...</td>\n",
              "      <td>32.6279</td>\n",
              "      <td>-117.0370</td>\n",
              "      <td>ca</td>\n",
              "    </tr>\n",
              "    <tr>\n",
              "      <th>346476</th>\n",
              "      <td>7048268235</td>\n",
              "      <td>https://columbia.craigslist.org/apa/d/columbia...</td>\n",
              "      <td>columbia</td>\n",
              "      <td>https://columbia.craigslist.org</td>\n",
              "      <td>1014</td>\n",
              "      <td>apartment</td>\n",
              "      <td>1104</td>\n",
              "      <td>2</td>\n",
              "      <td>2.0</td>\n",
              "      <td>1</td>\n",
              "      <td>...</td>\n",
              "      <td>0</td>\n",
              "      <td>0</td>\n",
              "      <td>0</td>\n",
              "      <td>w/d hookups</td>\n",
              "      <td>off-street parking</td>\n",
              "      <td>https://images.craigslist.org/00000_dpNWqzYhGK...</td>\n",
              "      <td>Tucked into the rolling landscape of Southeast...</td>\n",
              "      <td>33.9659</td>\n",
              "      <td>-80.9355</td>\n",
              "      <td>sc</td>\n",
              "    </tr>\n",
              "    <tr>\n",
              "      <th>346477</th>\n",
              "      <td>7026721229</td>\n",
              "      <td>https://nd.craigslist.org/apa/d/minot-open-con...</td>\n",
              "      <td>north dakota</td>\n",
              "      <td>https://nd.craigslist.org</td>\n",
              "      <td>935</td>\n",
              "      <td>apartment</td>\n",
              "      <td>1050</td>\n",
              "      <td>2</td>\n",
              "      <td>2.0</td>\n",
              "      <td>0</td>\n",
              "      <td>...</td>\n",
              "      <td>0</td>\n",
              "      <td>0</td>\n",
              "      <td>0</td>\n",
              "      <td>w/d in unit</td>\n",
              "      <td>detached garage</td>\n",
              "      <td>https://images.craigslist.org/00Z0Z_65g6Cty1RX...</td>\n",
              "      <td>Enjoy living at Southwood Apartments! Located ...</td>\n",
              "      <td>48.1995</td>\n",
              "      <td>-101.2800</td>\n",
              "      <td>nd</td>\n",
              "    </tr>\n",
              "    <tr>\n",
              "      <th>346478</th>\n",
              "      <td>7049657819</td>\n",
              "      <td>https://buffalo.craigslist.org/apa/d/buffalo-a...</td>\n",
              "      <td>buffalo</td>\n",
              "      <td>https://buffalo.craigslist.org</td>\n",
              "      <td>1300</td>\n",
              "      <td>apartment</td>\n",
              "      <td>1350</td>\n",
              "      <td>2</td>\n",
              "      <td>2.0</td>\n",
              "      <td>1</td>\n",
              "      <td>...</td>\n",
              "      <td>0</td>\n",
              "      <td>0</td>\n",
              "      <td>0</td>\n",
              "      <td>w/d in unit</td>\n",
              "      <td>off-street parking</td>\n",
              "      <td>https://images.craigslist.org/00w0w_7irvBxq409...</td>\n",
              "      <td>Description   Huge spacious 2 bedroom.  Beauti...</td>\n",
              "      <td>42.8997</td>\n",
              "      <td>-78.8803</td>\n",
              "      <td>ny</td>\n",
              "    </tr>\n",
              "  </tbody>\n",
              "</table>\n",
              "<p>346479 rows × 22 columns</p>\n",
              "</div>\n",
              "      <button class=\"colab-df-convert\" onclick=\"convertToInteractive('df-1edcd927-8634-43b0-8627-168c4e7195f1')\"\n",
              "              title=\"Convert this dataframe to an interactive table.\"\n",
              "              style=\"display:none;\">\n",
              "        \n",
              "  <svg xmlns=\"http://www.w3.org/2000/svg\" height=\"24px\"viewBox=\"0 0 24 24\"\n",
              "       width=\"24px\">\n",
              "    <path d=\"M0 0h24v24H0V0z\" fill=\"none\"/>\n",
              "    <path d=\"M18.56 5.44l.94 2.06.94-2.06 2.06-.94-2.06-.94-.94-2.06-.94 2.06-2.06.94zm-11 1L8.5 8.5l.94-2.06 2.06-.94-2.06-.94L8.5 2.5l-.94 2.06-2.06.94zm10 10l.94 2.06.94-2.06 2.06-.94-2.06-.94-.94-2.06-.94 2.06-2.06.94z\"/><path d=\"M17.41 7.96l-1.37-1.37c-.4-.4-.92-.59-1.43-.59-.52 0-1.04.2-1.43.59L10.3 9.45l-7.72 7.72c-.78.78-.78 2.05 0 2.83L4 21.41c.39.39.9.59 1.41.59.51 0 1.02-.2 1.41-.59l7.78-7.78 2.81-2.81c.8-.78.8-2.07 0-2.86zM5.41 20L4 18.59l7.72-7.72 1.47 1.35L5.41 20z\"/>\n",
              "  </svg>\n",
              "      </button>\n",
              "      \n",
              "  <style>\n",
              "    .colab-df-container {\n",
              "      display:flex;\n",
              "      flex-wrap:wrap;\n",
              "      gap: 12px;\n",
              "    }\n",
              "\n",
              "    .colab-df-convert {\n",
              "      background-color: #E8F0FE;\n",
              "      border: none;\n",
              "      border-radius: 50%;\n",
              "      cursor: pointer;\n",
              "      display: none;\n",
              "      fill: #1967D2;\n",
              "      height: 32px;\n",
              "      padding: 0 0 0 0;\n",
              "      width: 32px;\n",
              "    }\n",
              "\n",
              "    .colab-df-convert:hover {\n",
              "      background-color: #E2EBFA;\n",
              "      box-shadow: 0px 1px 2px rgba(60, 64, 67, 0.3), 0px 1px 3px 1px rgba(60, 64, 67, 0.15);\n",
              "      fill: #174EA6;\n",
              "    }\n",
              "\n",
              "    [theme=dark] .colab-df-convert {\n",
              "      background-color: #3B4455;\n",
              "      fill: #D2E3FC;\n",
              "    }\n",
              "\n",
              "    [theme=dark] .colab-df-convert:hover {\n",
              "      background-color: #434B5C;\n",
              "      box-shadow: 0px 1px 3px 1px rgba(0, 0, 0, 0.15);\n",
              "      filter: drop-shadow(0px 1px 2px rgba(0, 0, 0, 0.3));\n",
              "      fill: #FFFFFF;\n",
              "    }\n",
              "  </style>\n",
              "\n",
              "      <script>\n",
              "        const buttonEl =\n",
              "          document.querySelector('#df-1edcd927-8634-43b0-8627-168c4e7195f1 button.colab-df-convert');\n",
              "        buttonEl.style.display =\n",
              "          google.colab.kernel.accessAllowed ? 'block' : 'none';\n",
              "\n",
              "        async function convertToInteractive(key) {\n",
              "          const element = document.querySelector('#df-1edcd927-8634-43b0-8627-168c4e7195f1');\n",
              "          const dataTable =\n",
              "            await google.colab.kernel.invokeFunction('convertToInteractive',\n",
              "                                                     [key], {});\n",
              "          if (!dataTable) return;\n",
              "\n",
              "          const docLinkHtml = 'Like what you see? Visit the ' +\n",
              "            '<a target=\"_blank\" href=https://colab.research.google.com/notebooks/data_table.ipynb>data table notebook</a>'\n",
              "            + ' to learn more about interactive tables.';\n",
              "          element.innerHTML = '';\n",
              "          dataTable['output_type'] = 'display_data';\n",
              "          await google.colab.output.renderOutput(dataTable, element);\n",
              "          const docLink = document.createElement('div');\n",
              "          docLink.innerHTML = docLinkHtml;\n",
              "          element.appendChild(docLink);\n",
              "        }\n",
              "      </script>\n",
              "    </div>\n",
              "  </div>\n",
              "  "
            ]
          },
          "metadata": {},
          "execution_count": 15
        }
      ]
    },
    {
      "cell_type": "code",
      "source": [
        "#revisar la cantidad de valores nulos\n",
        "#train.isnull().sum() \n",
        "train.isna().sum() #contar los valores nulos"
      ],
      "metadata": {
        "id": "9abvwdeKSquC",
        "colab": {
          "base_uri": "https://localhost:8080/"
        },
        "outputId": "4dc3b67e-996e-494e-908c-7fb591b332d6"
      },
      "execution_count": null,
      "outputs": [
        {
          "output_type": "execute_result",
          "data": {
            "text/plain": [
              "id                              0\n",
              "url                             0\n",
              "region                          0\n",
              "region_url                      0\n",
              "price                           0\n",
              "type                            0\n",
              "sqfeet                          0\n",
              "beds                            0\n",
              "baths                           0\n",
              "cats_allowed                    0\n",
              "dogs_allowed                    0\n",
              "smoking_allowed                 0\n",
              "wheelchair_access               0\n",
              "electric_vehicle_charge         0\n",
              "comes_furnished                 0\n",
              "laundry_options             71171\n",
              "parking_options            126682\n",
              "image_url                       0\n",
              "description                     2\n",
              "lat                          1722\n",
              "long                         1722\n",
              "state                           0\n",
              "dtype: int64"
            ]
          },
          "metadata": {},
          "execution_count": 16
        }
      ]
    },
    {
      "cell_type": "code",
      "source": [
        "#Oservamos algunos valores\n",
        "train.describe()"
      ],
      "metadata": {
        "id": "e_cQMnWOUYZ8",
        "colab": {
          "base_uri": "https://localhost:8080/",
          "height": 364
        },
        "outputId": "6054a120-c810-411b-cfde-d11da93576b7"
      },
      "execution_count": null,
      "outputs": [
        {
          "output_type": "execute_result",
          "data": {
            "text/plain": [
              "                 id         price        sqfeet           beds          baths  \\\n",
              "count  3.464790e+05  3.464790e+05  3.464790e+05  346479.000000  346479.000000   \n",
              "mean   7.040988e+09  9.664420e+03  1.066326e+03       1.903189       1.480339   \n",
              "std    8.802214e+06  4.703573e+06  2.018537e+04       3.162685       0.608246   \n",
              "min    7.003808e+09  0.000000e+00  0.000000e+00       0.000000       0.000000   \n",
              "25%    7.035988e+09  8.050000e+02  7.500000e+02       1.000000       1.000000   \n",
              "50%    7.043325e+09  1.036000e+03  9.490000e+02       2.000000       1.000000   \n",
              "75%    7.048431e+09  1.395000e+03  1.150000e+03       2.000000       2.000000   \n",
              "max    7.051292e+09  2.768307e+09  8.388607e+06    1100.000000      75.000000   \n",
              "\n",
              "        cats_allowed   dogs_allowed  smoking_allowed  wheelchair_access  \\\n",
              "count  346479.000000  346479.000000    346479.000000       346479.00000   \n",
              "mean        0.726803       0.707861         0.731738            0.08197   \n",
              "std         0.445602       0.454746         0.443055            0.27432   \n",
              "min         0.000000       0.000000         0.000000            0.00000   \n",
              "25%         0.000000       0.000000         0.000000            0.00000   \n",
              "50%         1.000000       1.000000         1.000000            0.00000   \n",
              "75%         1.000000       1.000000         1.000000            0.00000   \n",
              "max         1.000000       1.000000         1.000000            1.00000   \n",
              "\n",
              "       electric_vehicle_charge  comes_furnished            lat           long  \n",
              "count            346479.000000    346479.000000  344757.000000  344757.000000  \n",
              "mean                  0.012792         0.048141      37.234363     -92.705415  \n",
              "std                   0.112374         0.214065       5.550956      16.551071  \n",
              "min                   0.000000         0.000000     -43.533300    -163.894000  \n",
              "25%                   0.000000         0.000000      33.453100    -100.784000  \n",
              "50%                   0.000000         0.000000      37.650100     -87.710800  \n",
              "75%                   0.000000         0.000000      41.137900     -81.174600  \n",
              "max                   1.000000         1.000000     102.036000     172.633000  "
            ],
            "text/html": [
              "\n",
              "  <div id=\"df-8681d85f-40e0-486e-864f-602a5679d8aa\">\n",
              "    <div class=\"colab-df-container\">\n",
              "      <div>\n",
              "<style scoped>\n",
              "    .dataframe tbody tr th:only-of-type {\n",
              "        vertical-align: middle;\n",
              "    }\n",
              "\n",
              "    .dataframe tbody tr th {\n",
              "        vertical-align: top;\n",
              "    }\n",
              "\n",
              "    .dataframe thead th {\n",
              "        text-align: right;\n",
              "    }\n",
              "</style>\n",
              "<table border=\"1\" class=\"dataframe\">\n",
              "  <thead>\n",
              "    <tr style=\"text-align: right;\">\n",
              "      <th></th>\n",
              "      <th>id</th>\n",
              "      <th>price</th>\n",
              "      <th>sqfeet</th>\n",
              "      <th>beds</th>\n",
              "      <th>baths</th>\n",
              "      <th>cats_allowed</th>\n",
              "      <th>dogs_allowed</th>\n",
              "      <th>smoking_allowed</th>\n",
              "      <th>wheelchair_access</th>\n",
              "      <th>electric_vehicle_charge</th>\n",
              "      <th>comes_furnished</th>\n",
              "      <th>lat</th>\n",
              "      <th>long</th>\n",
              "    </tr>\n",
              "  </thead>\n",
              "  <tbody>\n",
              "    <tr>\n",
              "      <th>count</th>\n",
              "      <td>3.464790e+05</td>\n",
              "      <td>3.464790e+05</td>\n",
              "      <td>3.464790e+05</td>\n",
              "      <td>346479.000000</td>\n",
              "      <td>346479.000000</td>\n",
              "      <td>346479.000000</td>\n",
              "      <td>346479.000000</td>\n",
              "      <td>346479.000000</td>\n",
              "      <td>346479.00000</td>\n",
              "      <td>346479.000000</td>\n",
              "      <td>346479.000000</td>\n",
              "      <td>344757.000000</td>\n",
              "      <td>344757.000000</td>\n",
              "    </tr>\n",
              "    <tr>\n",
              "      <th>mean</th>\n",
              "      <td>7.040988e+09</td>\n",
              "      <td>9.664420e+03</td>\n",
              "      <td>1.066326e+03</td>\n",
              "      <td>1.903189</td>\n",
              "      <td>1.480339</td>\n",
              "      <td>0.726803</td>\n",
              "      <td>0.707861</td>\n",
              "      <td>0.731738</td>\n",
              "      <td>0.08197</td>\n",
              "      <td>0.012792</td>\n",
              "      <td>0.048141</td>\n",
              "      <td>37.234363</td>\n",
              "      <td>-92.705415</td>\n",
              "    </tr>\n",
              "    <tr>\n",
              "      <th>std</th>\n",
              "      <td>8.802214e+06</td>\n",
              "      <td>4.703573e+06</td>\n",
              "      <td>2.018537e+04</td>\n",
              "      <td>3.162685</td>\n",
              "      <td>0.608246</td>\n",
              "      <td>0.445602</td>\n",
              "      <td>0.454746</td>\n",
              "      <td>0.443055</td>\n",
              "      <td>0.27432</td>\n",
              "      <td>0.112374</td>\n",
              "      <td>0.214065</td>\n",
              "      <td>5.550956</td>\n",
              "      <td>16.551071</td>\n",
              "    </tr>\n",
              "    <tr>\n",
              "      <th>min</th>\n",
              "      <td>7.003808e+09</td>\n",
              "      <td>0.000000e+00</td>\n",
              "      <td>0.000000e+00</td>\n",
              "      <td>0.000000</td>\n",
              "      <td>0.000000</td>\n",
              "      <td>0.000000</td>\n",
              "      <td>0.000000</td>\n",
              "      <td>0.000000</td>\n",
              "      <td>0.00000</td>\n",
              "      <td>0.000000</td>\n",
              "      <td>0.000000</td>\n",
              "      <td>-43.533300</td>\n",
              "      <td>-163.894000</td>\n",
              "    </tr>\n",
              "    <tr>\n",
              "      <th>25%</th>\n",
              "      <td>7.035988e+09</td>\n",
              "      <td>8.050000e+02</td>\n",
              "      <td>7.500000e+02</td>\n",
              "      <td>1.000000</td>\n",
              "      <td>1.000000</td>\n",
              "      <td>0.000000</td>\n",
              "      <td>0.000000</td>\n",
              "      <td>0.000000</td>\n",
              "      <td>0.00000</td>\n",
              "      <td>0.000000</td>\n",
              "      <td>0.000000</td>\n",
              "      <td>33.453100</td>\n",
              "      <td>-100.784000</td>\n",
              "    </tr>\n",
              "    <tr>\n",
              "      <th>50%</th>\n",
              "      <td>7.043325e+09</td>\n",
              "      <td>1.036000e+03</td>\n",
              "      <td>9.490000e+02</td>\n",
              "      <td>2.000000</td>\n",
              "      <td>1.000000</td>\n",
              "      <td>1.000000</td>\n",
              "      <td>1.000000</td>\n",
              "      <td>1.000000</td>\n",
              "      <td>0.00000</td>\n",
              "      <td>0.000000</td>\n",
              "      <td>0.000000</td>\n",
              "      <td>37.650100</td>\n",
              "      <td>-87.710800</td>\n",
              "    </tr>\n",
              "    <tr>\n",
              "      <th>75%</th>\n",
              "      <td>7.048431e+09</td>\n",
              "      <td>1.395000e+03</td>\n",
              "      <td>1.150000e+03</td>\n",
              "      <td>2.000000</td>\n",
              "      <td>2.000000</td>\n",
              "      <td>1.000000</td>\n",
              "      <td>1.000000</td>\n",
              "      <td>1.000000</td>\n",
              "      <td>0.00000</td>\n",
              "      <td>0.000000</td>\n",
              "      <td>0.000000</td>\n",
              "      <td>41.137900</td>\n",
              "      <td>-81.174600</td>\n",
              "    </tr>\n",
              "    <tr>\n",
              "      <th>max</th>\n",
              "      <td>7.051292e+09</td>\n",
              "      <td>2.768307e+09</td>\n",
              "      <td>8.388607e+06</td>\n",
              "      <td>1100.000000</td>\n",
              "      <td>75.000000</td>\n",
              "      <td>1.000000</td>\n",
              "      <td>1.000000</td>\n",
              "      <td>1.000000</td>\n",
              "      <td>1.00000</td>\n",
              "      <td>1.000000</td>\n",
              "      <td>1.000000</td>\n",
              "      <td>102.036000</td>\n",
              "      <td>172.633000</td>\n",
              "    </tr>\n",
              "  </tbody>\n",
              "</table>\n",
              "</div>\n",
              "      <button class=\"colab-df-convert\" onclick=\"convertToInteractive('df-8681d85f-40e0-486e-864f-602a5679d8aa')\"\n",
              "              title=\"Convert this dataframe to an interactive table.\"\n",
              "              style=\"display:none;\">\n",
              "        \n",
              "  <svg xmlns=\"http://www.w3.org/2000/svg\" height=\"24px\"viewBox=\"0 0 24 24\"\n",
              "       width=\"24px\">\n",
              "    <path d=\"M0 0h24v24H0V0z\" fill=\"none\"/>\n",
              "    <path d=\"M18.56 5.44l.94 2.06.94-2.06 2.06-.94-2.06-.94-.94-2.06-.94 2.06-2.06.94zm-11 1L8.5 8.5l.94-2.06 2.06-.94-2.06-.94L8.5 2.5l-.94 2.06-2.06.94zm10 10l.94 2.06.94-2.06 2.06-.94-2.06-.94-.94-2.06-.94 2.06-2.06.94z\"/><path d=\"M17.41 7.96l-1.37-1.37c-.4-.4-.92-.59-1.43-.59-.52 0-1.04.2-1.43.59L10.3 9.45l-7.72 7.72c-.78.78-.78 2.05 0 2.83L4 21.41c.39.39.9.59 1.41.59.51 0 1.02-.2 1.41-.59l7.78-7.78 2.81-2.81c.8-.78.8-2.07 0-2.86zM5.41 20L4 18.59l7.72-7.72 1.47 1.35L5.41 20z\"/>\n",
              "  </svg>\n",
              "      </button>\n",
              "      \n",
              "  <style>\n",
              "    .colab-df-container {\n",
              "      display:flex;\n",
              "      flex-wrap:wrap;\n",
              "      gap: 12px;\n",
              "    }\n",
              "\n",
              "    .colab-df-convert {\n",
              "      background-color: #E8F0FE;\n",
              "      border: none;\n",
              "      border-radius: 50%;\n",
              "      cursor: pointer;\n",
              "      display: none;\n",
              "      fill: #1967D2;\n",
              "      height: 32px;\n",
              "      padding: 0 0 0 0;\n",
              "      width: 32px;\n",
              "    }\n",
              "\n",
              "    .colab-df-convert:hover {\n",
              "      background-color: #E2EBFA;\n",
              "      box-shadow: 0px 1px 2px rgba(60, 64, 67, 0.3), 0px 1px 3px 1px rgba(60, 64, 67, 0.15);\n",
              "      fill: #174EA6;\n",
              "    }\n",
              "\n",
              "    [theme=dark] .colab-df-convert {\n",
              "      background-color: #3B4455;\n",
              "      fill: #D2E3FC;\n",
              "    }\n",
              "\n",
              "    [theme=dark] .colab-df-convert:hover {\n",
              "      background-color: #434B5C;\n",
              "      box-shadow: 0px 1px 3px 1px rgba(0, 0, 0, 0.15);\n",
              "      filter: drop-shadow(0px 1px 2px rgba(0, 0, 0, 0.3));\n",
              "      fill: #FFFFFF;\n",
              "    }\n",
              "  </style>\n",
              "\n",
              "      <script>\n",
              "        const buttonEl =\n",
              "          document.querySelector('#df-8681d85f-40e0-486e-864f-602a5679d8aa button.colab-df-convert');\n",
              "        buttonEl.style.display =\n",
              "          google.colab.kernel.accessAllowed ? 'block' : 'none';\n",
              "\n",
              "        async function convertToInteractive(key) {\n",
              "          const element = document.querySelector('#df-8681d85f-40e0-486e-864f-602a5679d8aa');\n",
              "          const dataTable =\n",
              "            await google.colab.kernel.invokeFunction('convertToInteractive',\n",
              "                                                     [key], {});\n",
              "          if (!dataTable) return;\n",
              "\n",
              "          const docLinkHtml = 'Like what you see? Visit the ' +\n",
              "            '<a target=\"_blank\" href=https://colab.research.google.com/notebooks/data_table.ipynb>data table notebook</a>'\n",
              "            + ' to learn more about interactive tables.';\n",
              "          element.innerHTML = '';\n",
              "          dataTable['output_type'] = 'display_data';\n",
              "          await google.colab.output.renderOutput(dataTable, element);\n",
              "          const docLink = document.createElement('div');\n",
              "          docLink.innerHTML = docLinkHtml;\n",
              "          element.appendChild(docLink);\n",
              "        }\n",
              "      </script>\n",
              "    </div>\n",
              "  </div>\n",
              "  "
            ]
          },
          "metadata": {},
          "execution_count": 17
        }
      ]
    },
    {
      "cell_type": "code",
      "source": [
        "#para saber cuantos valores del precio son igual a cero\n",
        "#train[train['price']==0].count()\n",
        "(train['price'] == 0).sum()"
      ],
      "metadata": {
        "colab": {
          "base_uri": "https://localhost:8080/"
        },
        "id": "4es9a_YGUvE9",
        "outputId": "08b0200b-14f8-434d-b11e-40c851319712"
      },
      "execution_count": null,
      "outputs": [
        {
          "output_type": "execute_result",
          "data": {
            "text/plain": [
              "1175"
            ]
          },
          "metadata": {},
          "execution_count": 18
        }
      ]
    },
    {
      "cell_type": "code",
      "source": [
        "#Eliminamos esos los valores que son igual a cero del precio\n",
        "train = train[train['price'] != 0]"
      ],
      "metadata": {
        "id": "XNUK77rKYPvp"
      },
      "execution_count": null,
      "outputs": []
    },
    {
      "cell_type": "code",
      "source": [
        "#Verificar si se eliminaron\n",
        "train.shape"
      ],
      "metadata": {
        "colab": {
          "base_uri": "https://localhost:8080/"
        },
        "id": "DlM7t-IFYbqp",
        "outputId": "8f4694a3-f3e4-4f95-b975-79bcd9c38593"
      },
      "execution_count": null,
      "outputs": [
        {
          "output_type": "execute_result",
          "data": {
            "text/plain": [
              "(345304, 22)"
            ]
          },
          "metadata": {},
          "execution_count": 20
        }
      ]
    },
    {
      "cell_type": "markdown",
      "source": [
        "Crear la columna `category_price`, en la cual se consideran las categorías\n",
        "   \n",
        "  * 'low': Para precios entre 0 y 999 dólares (debe tomar valor 1 en el archivo con las predicciones).\n",
        "  * 'medium': Para precios entre 1000 y 1999 dólares (debe tomar valor 0 en el archivo con las predicciones).\n",
        "  * 'high': Para precios desde 2000 dólares en adelante (debe tomar valor 0 en el archivo con las predicciones). \n",
        "​\n",
        "\n",
        "Considerando esta categorización, el objetivo es predecir si una propiedad pertenece a la categoría de precios bajos (low).\n",
        "​"
      ],
      "metadata": {
        "id": "gNi8XVQ4U2-r"
      }
    },
    {
      "cell_type": "code",
      "source": [
        "#Creamos un columna tomando el valor de 1 y 0 \n",
        "train[\"category_price\"] = train['price'].where(train['price'] >= 1000, 1).where(train['price'] < 1000, 0)"
      ],
      "metadata": {
        "id": "AP0YUG3jaw0U"
      },
      "execution_count": null,
      "outputs": []
    },
    {
      "cell_type": "code",
      "source": [
        "# Graficamos la distribución de la nueva columna\n",
        "sns.countplot(x='category_price', data=train)"
      ],
      "metadata": {
        "id": "7q6RhhMepSnO",
        "colab": {
          "base_uri": "https://localhost:8080/",
          "height": 297
        },
        "outputId": "e79d2a2e-001d-476a-c0bf-30becfc6845a"
      },
      "execution_count": null,
      "outputs": [
        {
          "output_type": "execute_result",
          "data": {
            "text/plain": [
              "<matplotlib.axes._subplots.AxesSubplot at 0x7f0a42b3f460>"
            ]
          },
          "metadata": {},
          "execution_count": 22
        },
        {
          "output_type": "display_data",
          "data": {
            "text/plain": [
              "<Figure size 432x288 with 1 Axes>"
            ],
            "image/png": "[encoded data removed]"
          },
          "metadata": {
            "needs_background": "light"
          }
        }
      ]
    },
    {
      "cell_type": "code",
      "source": [
        "train.head()"
      ],
      "metadata": {
        "id": "-LEAqThDLTMi",
        "colab": {
          "base_uri": "https://localhost:8080/",
          "height": 629
        },
        "outputId": "2f0889da-6575-4e0d-b2ef-15b2b134e9d7"
      },
      "execution_count": null,
      "outputs": [
        {
          "output_type": "execute_result",
          "data": {
            "text/plain": [
              "           id                                                url  \\\n",
              "0  7048013474  https://boise.craigslist.org/apa/d/very-nice-b...   \n",
              "1  7043931179  https://cosprings.craigslist.org/apa/d/colorad...   \n",
              "2  7048254516  https://norfolk.craigslist.org/apa/d/virginia-...   \n",
              "3  7041032577  https://phoenix.craigslist.org/nph/apa/d/phoen...   \n",
              "4  7048588701  https://nashville.craigslist.org/apa/d/antioch...   \n",
              "\n",
              "                    region                        region_url  price  \\\n",
              "0                    boise      https://boise.craigslist.org   1350   \n",
              "1         colorado springs  https://cosprings.craigslist.org   1115   \n",
              "2  norfolk / hampton roads    https://norfolk.craigslist.org   1129   \n",
              "3                  phoenix    https://phoenix.craigslist.org   1580   \n",
              "4                nashville  https://nashville.craigslist.org    995   \n",
              "\n",
              "        type  sqfeet  beds  baths  cats_allowed  ...  electric_vehicle_charge  \\\n",
              "0      house    1200     2    2.0             1  ...                        0   \n",
              "1  apartment     694     1    1.0             1  ...                        0   \n",
              "2  apartment     900     2    2.0             0  ...                        0   \n",
              "3      house    1469     3    2.0             1  ...                        0   \n",
              "4  apartment     700     1    1.0             1  ...                        0   \n",
              "\n",
              "   comes_furnished  laundry_options     parking_options  \\\n",
              "0                0      w/d in unit     detached garage   \n",
              "1                0      w/d in unit             carport   \n",
              "2                0      w/d hookups  off-street parking   \n",
              "3                0      w/d in unit                None   \n",
              "4                0      w/d in unit             carport   \n",
              "\n",
              "                                           image_url  \\\n",
              "0  https://images.craigslist.org/00B0B_cPiJMEheZe...   \n",
              "1  https://images.craigslist.org/00R0R_5XAoSKvfrz...   \n",
              "2  https://images.craigslist.org/00f0f_3ZbTFrsHpZ...   \n",
              "3  https://images.craigslist.org/00f0f_aXV5Dkd5qk...   \n",
              "4  https://images.craigslist.org/00606_gYOGKClOHv...   \n",
              "\n",
              "                                         description      lat      long state  \\\n",
              "0  Super cute row house in the Boise bench area. ...  43.5851 -116.2250    id   \n",
              "1  Windtree Apartment Homes currently has a spaci...  38.9137 -104.7800    co   \n",
              "2  Call Today!  show contact info   Indian Lakes ...  36.7922  -76.1643    va   \n",
              "3  Cody Anderson Two Brothers Realty License #: S...  33.5623 -112.0560    az   \n",
              "4  To schedule a tour We now book our tour appoin...  36.0595  -86.6592    tn   \n",
              "\n",
              "   category_price  \n",
              "0               0  \n",
              "1               0  \n",
              "2               0  \n",
              "3               0  \n",
              "4               1  \n",
              "\n",
              "[5 rows x 23 columns]"
            ],
            "text/html": [
              "\n",
              "  <div id=\"df-ad7f67eb-1c71-4735-9d6e-7b001bb5f418\">\n",
              "    <div class=\"colab-df-container\">\n",
              "      <div>\n",
              "<style scoped>\n",
              "    .dataframe tbody tr th:only-of-type {\n",
              "        vertical-align: middle;\n",
              "    }\n",
              "\n",
              "    .dataframe tbody tr th {\n",
              "        vertical-align: top;\n",
              "    }\n",
              "\n",
              "    .dataframe thead th {\n",
              "        text-align: right;\n",
              "    }\n",
              "</style>\n",
              "<table border=\"1\" class=\"dataframe\">\n",
              "  <thead>\n",
              "    <tr style=\"text-align: right;\">\n",
              "      <th></th>\n",
              "      <th>id</th>\n",
              "      <th>url</th>\n",
              "      <th>region</th>\n",
              "      <th>region_url</th>\n",
              "      <th>price</th>\n",
              "      <th>type</th>\n",
              "      <th>sqfeet</th>\n",
              "      <th>beds</th>\n",
              "      <th>baths</th>\n",
              "      <th>cats_allowed</th>\n",
              "      <th>...</th>\n",
              "      <th>electric_vehicle_charge</th>\n",
              "      <th>comes_furnished</th>\n",
              "      <th>laundry_options</th>\n",
              "      <th>parking_options</th>\n",
              "      <th>image_url</th>\n",
              "      <th>description</th>\n",
              "      <th>lat</th>\n",
              "      <th>long</th>\n",
              "      <th>state</th>\n",
              "      <th>category_price</th>\n",
              "    </tr>\n",
              "  </thead>\n",
              "  <tbody>\n",
              "    <tr>\n",
              "      <th>0</th>\n",
              "      <td>7048013474</td>\n",
              "      <td>https://boise.craigslist.org/apa/d/very-nice-b...</td>\n",
              "      <td>boise</td>\n",
              "      <td>https://boise.craigslist.org</td>\n",
              "      <td>1350</td>\n",
              "      <td>house</td>\n",
              "      <td>1200</td>\n",
              "      <td>2</td>\n",
              "      <td>2.0</td>\n",
              "      <td>1</td>\n",
              "      <td>...</td>\n",
              "      <td>0</td>\n",
              "      <td>0</td>\n",
              "      <td>w/d in unit</td>\n",
              "      <td>detached garage</td>\n",
              "      <td>https://images.craigslist.org/00B0B_cPiJMEheZe...</td>\n",
              "      <td>Super cute row house in the Boise bench area. ...</td>\n",
              "      <td>43.5851</td>\n",
              "      <td>-116.2250</td>\n",
              "      <td>id</td>\n",
              "      <td>0</td>\n",
              "    </tr>\n",
              "    <tr>\n",
              "      <th>1</th>\n",
              "      <td>7043931179</td>\n",
              "      <td>https://cosprings.craigslist.org/apa/d/colorad...</td>\n",
              "      <td>colorado springs</td>\n",
              "      <td>https://cosprings.craigslist.org</td>\n",
              "      <td>1115</td>\n",
              "      <td>apartment</td>\n",
              "      <td>694</td>\n",
              "      <td>1</td>\n",
              "      <td>1.0</td>\n",
              "      <td>1</td>\n",
              "      <td>...</td>\n",
              "      <td>0</td>\n",
              "      <td>0</td>\n",
              "      <td>w/d in unit</td>\n",
              "      <td>carport</td>\n",
              "      <td>https://images.craigslist.org/00R0R_5XAoSKvfrz...</td>\n",
              "      <td>Windtree Apartment Homes currently has a spaci...</td>\n",
              "      <td>38.9137</td>\n",
              "      <td>-104.7800</td>\n",
              "      <td>co</td>\n",
              "      <td>0</td>\n",
              "    </tr>\n",
              "    <tr>\n",
              "      <th>2</th>\n",
              "      <td>7048254516</td>\n",
              "      <td>https://norfolk.craigslist.org/apa/d/virginia-...</td>\n",
              "      <td>norfolk / hampton roads</td>\n",
              "      <td>https://norfolk.craigslist.org</td>\n",
              "      <td>1129</td>\n",
              "      <td>apartment</td>\n",
              "      <td>900</td>\n",
              "      <td>2</td>\n",
              "      <td>2.0</td>\n",
              "      <td>0</td>\n",
              "      <td>...</td>\n",
              "      <td>0</td>\n",
              "      <td>0</td>\n",
              "      <td>w/d hookups</td>\n",
              "      <td>off-street parking</td>\n",
              "      <td>https://images.craigslist.org/00f0f_3ZbTFrsHpZ...</td>\n",
              "      <td>Call Today!  show contact info   Indian Lakes ...</td>\n",
              "      <td>36.7922</td>\n",
              "      <td>-76.1643</td>\n",
              "      <td>va</td>\n",
              "      <td>0</td>\n",
              "    </tr>\n",
              "    <tr>\n",
              "      <th>3</th>\n",
              "      <td>7041032577</td>\n",
              "      <td>https://phoenix.craigslist.org/nph/apa/d/phoen...</td>\n",
              "      <td>phoenix</td>\n",
              "      <td>https://phoenix.craigslist.org</td>\n",
              "      <td>1580</td>\n",
              "      <td>house</td>\n",
              "      <td>1469</td>\n",
              "      <td>3</td>\n",
              "      <td>2.0</td>\n",
              "      <td>1</td>\n",
              "      <td>...</td>\n",
              "      <td>0</td>\n",
              "      <td>0</td>\n",
              "      <td>w/d in unit</td>\n",
              "      <td>None</td>\n",
              "      <td>https://images.craigslist.org/00f0f_aXV5Dkd5qk...</td>\n",
              "      <td>Cody Anderson Two Brothers Realty License #: S...</td>\n",
              "      <td>33.5623</td>\n",
              "      <td>-112.0560</td>\n",
              "      <td>az</td>\n",
              "      <td>0</td>\n",
              "    </tr>\n",
              "    <tr>\n",
              "      <th>4</th>\n",
              "      <td>7048588701</td>\n",
              "      <td>https://nashville.craigslist.org/apa/d/antioch...</td>\n",
              "      <td>nashville</td>\n",
              "      <td>https://nashville.craigslist.org</td>\n",
              "      <td>995</td>\n",
              "      <td>apartment</td>\n",
              "      <td>700</td>\n",
              "      <td>1</td>\n",
              "      <td>1.0</td>\n",
              "      <td>1</td>\n",
              "      <td>...</td>\n",
              "      <td>0</td>\n",
              "      <td>0</td>\n",
              "      <td>w/d in unit</td>\n",
              "      <td>carport</td>\n",
              "      <td>https://images.craigslist.org/00606_gYOGKClOHv...</td>\n",
              "      <td>To schedule a tour We now book our tour appoin...</td>\n",
              "      <td>36.0595</td>\n",
              "      <td>-86.6592</td>\n",
              "      <td>tn</td>\n",
              "      <td>1</td>\n",
              "    </tr>\n",
              "  </tbody>\n",
              "</table>\n",
              "<p>5 rows × 23 columns</p>\n",
              "</div>\n",
              "      <button class=\"colab-df-convert\" onclick=\"convertToInteractive('df-ad7f67eb-1c71-4735-9d6e-7b001bb5f418')\"\n",
              "              title=\"Convert this dataframe to an interactive table.\"\n",
              "              style=\"display:none;\">\n",
              "        \n",
              "  <svg xmlns=\"http://www.w3.org/2000/svg\" height=\"24px\"viewBox=\"0 0 24 24\"\n",
              "       width=\"24px\">\n",
              "    <path d=\"M0 0h24v24H0V0z\" fill=\"none\"/>\n",
              "    <path d=\"M18.56 5.44l.94 2.06.94-2.06 2.06-.94-2.06-.94-.94-2.06-.94 2.06-2.06.94zm-11 1L8.5 8.5l.94-2.06 2.06-.94-2.06-.94L8.5 2.5l-.94 2.06-2.06.94zm10 10l.94 2.06.94-2.06 2.06-.94-2.06-.94-.94-2.06-.94 2.06-2.06.94z\"/><path d=\"M17.41 7.96l-1.37-1.37c-.4-.4-.92-.59-1.43-.59-.52 0-1.04.2-1.43.59L10.3 9.45l-7.72 7.72c-.78.78-.78 2.05 0 2.83L4 21.41c.39.39.9.59 1.41.59.51 0 1.02-.2 1.41-.59l7.78-7.78 2.81-2.81c.8-.78.8-2.07 0-2.86zM5.41 20L4 18.59l7.72-7.72 1.47 1.35L5.41 20z\"/>\n",
              "  </svg>\n",
              "      </button>\n",
              "      \n",
              "  <style>\n",
              "    .colab-df-container {\n",
              "      display:flex;\n",
              "      flex-wrap:wrap;\n",
              "      gap: 12px;\n",
              "    }\n",
              "\n",
              "    .colab-df-convert {\n",
              "      background-color: #E8F0FE;\n",
              "      border: none;\n",
              "      border-radius: 50%;\n",
              "      cursor: pointer;\n",
              "      display: none;\n",
              "      fill: #1967D2;\n",
              "      height: 32px;\n",
              "      padding: 0 0 0 0;\n",
              "      width: 32px;\n",
              "    }\n",
              "\n",
              "    .colab-df-convert:hover {\n",
              "      background-color: #E2EBFA;\n",
              "      box-shadow: 0px 1px 2px rgba(60, 64, 67, 0.3), 0px 1px 3px 1px rgba(60, 64, 67, 0.15);\n",
              "      fill: #174EA6;\n",
              "    }\n",
              "\n",
              "    [theme=dark] .colab-df-convert {\n",
              "      background-color: #3B4455;\n",
              "      fill: #D2E3FC;\n",
              "    }\n",
              "\n",
              "    [theme=dark] .colab-df-convert:hover {\n",
              "      background-color: #434B5C;\n",
              "      box-shadow: 0px 1px 3px 1px rgba(0, 0, 0, 0.15);\n",
              "      filter: drop-shadow(0px 1px 2px rgba(0, 0, 0, 0.3));\n",
              "      fill: #FFFFFF;\n",
              "    }\n",
              "  </style>\n",
              "\n",
              "      <script>\n",
              "        const buttonEl =\n",
              "          document.querySelector('#df-ad7f67eb-1c71-4735-9d6e-7b001bb5f418 button.colab-df-convert');\n",
              "        buttonEl.style.display =\n",
              "          google.colab.kernel.accessAllowed ? 'block' : 'none';\n",
              "\n",
              "        async function convertToInteractive(key) {\n",
              "          const element = document.querySelector('#df-ad7f67eb-1c71-4735-9d6e-7b001bb5f418');\n",
              "          const dataTable =\n",
              "            await google.colab.kernel.invokeFunction('convertToInteractive',\n",
              "                                                     [key], {});\n",
              "          if (!dataTable) return;\n",
              "\n",
              "          const docLinkHtml = 'Like what you see? Visit the ' +\n",
              "            '<a target=\"_blank\" href=https://colab.research.google.com/notebooks/data_table.ipynb>data table notebook</a>'\n",
              "            + ' to learn more about interactive tables.';\n",
              "          element.innerHTML = '';\n",
              "          dataTable['output_type'] = 'display_data';\n",
              "          await google.colab.output.renderOutput(dataTable, element);\n",
              "          const docLink = document.createElement('div');\n",
              "          docLink.innerHTML = docLinkHtml;\n",
              "          element.appendChild(docLink);\n",
              "        }\n",
              "      </script>\n",
              "    </div>\n",
              "  </div>\n",
              "  "
            ]
          },
          "metadata": {},
          "execution_count": 23
        }
      ]
    },
    {
      "cell_type": "markdown",
      "source": [
        "El dataset tiene descripciones repetidas, que generalmente tienen el mismo precio de alquiler y la misma URL de la imagen de la propiedad. Por lo tanto, se decidió eliminar estos registros repetidos utilizando la columna de la URL de la imagen como referencia para determinar si se trata de la misma propiedad en alquiler. Además, se incorporó una columna con la cantidad de veces que se publicó el aviso, ya que se consideró que esto puede ser un indicativo del valor de su alquiler."
      ],
      "metadata": {
        "id": "UlvrhJBM36Ex"
      }
    },
    {
      "cell_type": "code",
      "source": [
        "# Contamos la cantidad de valores repetidos en la columna \"image_url\"\n",
        "len(train['image_url'])-len(train['image_url'].drop_duplicates())"
      ],
      "metadata": {
        "id": "xS1bknBs-Jmi",
        "colab": {
          "base_uri": "https://localhost:8080/"
        },
        "outputId": "4dda71d0-7389-4dfd-ff88-1f5bd3c6a4fb"
      },
      "execution_count": null,
      "outputs": [
        {
          "output_type": "execute_result",
          "data": {
            "text/plain": [
              "177651"
            ]
          },
          "metadata": {},
          "execution_count": 24
        }
      ]
    },
    {
      "cell_type": "code",
      "source": [
        "#Ver duplicados\n",
        "len(train[train['image_url'].duplicated()==True])"
      ],
      "metadata": {
        "colab": {
          "base_uri": "https://localhost:8080/"
        },
        "id": "tXWAhthc1DrH",
        "outputId": "d7bc5572-6748-434f-9668-20611daad4e2"
      },
      "execution_count": null,
      "outputs": [
        {
          "output_type": "execute_result",
          "data": {
            "text/plain": [
              "177651"
            ]
          },
          "metadata": {},
          "execution_count": 25
        }
      ]
    },
    {
      "cell_type": "code",
      "source": [
        "#borrar duplicados\n",
        "len(train['image_url'].drop_duplicates())"
      ],
      "metadata": {
        "colab": {
          "base_uri": "https://localhost:8080/"
        },
        "id": "Cpc7xFsD1qkz",
        "outputId": "0edcb7f2-ec46-4b84-9c45-33947d29e246"
      },
      "execution_count": null,
      "outputs": [
        {
          "output_type": "execute_result",
          "data": {
            "text/plain": [
              "167653"
            ]
          },
          "metadata": {},
          "execution_count": 26
        }
      ]
    },
    {
      "cell_type": "code",
      "source": [
        "train.shape"
      ],
      "metadata": {
        "colab": {
          "base_uri": "https://localhost:8080/"
        },
        "id": "tr4Pj_Ng2uLt",
        "outputId": "6786d9bd-4101-49a3-8fa1-e81d89564a4f"
      },
      "execution_count": null,
      "outputs": [
        {
          "output_type": "execute_result",
          "data": {
            "text/plain": [
              "(345304, 23)"
            ]
          },
          "metadata": {},
          "execution_count": 27
        }
      ]
    },
    {
      "cell_type": "markdown",
      "source": [
        "Este script busca y elimina los valores duplicados de la columna \"image_url\" en el dataframe \"train\" y devuelve una lista de índices donde se encuentran los valores duplicados. Utiliza el método \"loc\", \"groupby\" y una función lambda para llevar a cabo esta tarea."
      ],
      "metadata": {
        "id": "EvVNhfwm3_tl"
      }
    },
    {
      "cell_type": "code",
      "source": [
        "df = train.loc[train['image_url'].duplicated(keep=False),'image_url']\n",
        "df = df.groupby(df).apply(lambda x: tuple(x.index)).tolist()\n",
        "df[32] #accede al índice 32 de esa lista."
      ],
      "metadata": {
        "colab": {
          "base_uri": "https://localhost:8080/"
        },
        "id": "qydo8GSg4FK6",
        "outputId": "37b5b276-0968-40ec-c556-38da304ee476"
      },
      "execution_count": null,
      "outputs": [
        {
          "output_type": "execute_result",
          "data": {
            "text/plain": [
              "(34967, 38330, 100838, 136641, 242593, 278640, 286345, 289896, 330349)"
            ]
          },
          "metadata": {},
          "execution_count": 28
        }
      ]
    },
    {
      "cell_type": "code",
      "source": [
        "#Del indice 32 Comparamos para ver que tienen el mismo valor 'image_url'\n",
        "train.loc[[34967, 38330, 100838, 136641, 242593, 278640, 286345, 289896, 330349],['price','image_url','description']]"
      ],
      "metadata": {
        "colab": {
          "base_uri": "https://localhost:8080/",
          "height": 497
        },
        "id": "zv3pl5UA9BLU",
        "outputId": "20854731-9ac4-45f6-d347-ae6bc3ee815e"
      },
      "execution_count": null,
      "outputs": [
        {
          "output_type": "execute_result",
          "data": {
            "text/plain": [
              "        price                                          image_url  \\\n",
              "34967     686  https://images.craigslist.org/00000_2BC2tlv2e2...   \n",
              "38330     895  https://images.craigslist.org/00000_2BC2tlv2e2...   \n",
              "100838    895  https://images.craigslist.org/00000_2BC2tlv2e2...   \n",
              "136641    895  https://images.craigslist.org/00000_2BC2tlv2e2...   \n",
              "242593    895  https://images.craigslist.org/00000_2BC2tlv2e2...   \n",
              "278640    895  https://images.craigslist.org/00000_2BC2tlv2e2...   \n",
              "286345    895  https://images.craigslist.org/00000_2BC2tlv2e2...   \n",
              "289896    780  https://images.craigslist.org/00000_2BC2tlv2e2...   \n",
              "330349    895  https://images.craigslist.org/00000_2BC2tlv2e2...   \n",
              "\n",
              "                                              description  \n",
              "34967   Penbrooke Place\\t                        Prope...  \n",
              "38330   Winter is coming! Fountainhead apartments can ...  \n",
              "100838  Winter is coming! Fountainhead apartments can ...  \n",
              "136641  Winter is coming! Fountainhead apartments can ...  \n",
              "242593  Winter is coming! Fountainhead apartments can ...  \n",
              "278640  Winter is coming! Fountainhead apartments can ...  \n",
              "286345  Winter is coming! Fountainhead apartments can ...  \n",
              "289896  Penbrooke Place\\t                        Prope...  \n",
              "330349  Winter is coming! Fountainhead apartments can ...  "
            ],
            "text/html": [
              "\n",
              "  <div id=\"df-3888ed79-e5c4-4288-8e8a-83c31c894195\">\n",
              "    <div class=\"colab-df-container\">\n",
              "      <div>\n",
              "<style scoped>\n",
              "    .dataframe tbody tr th:only-of-type {\n",
              "        vertical-align: middle;\n",
              "    }\n",
              "\n",
              "    .dataframe tbody tr th {\n",
              "        vertical-align: top;\n",
              "    }\n",
              "\n",
              "    .dataframe thead th {\n",
              "        text-align: right;\n",
              "    }\n",
              "</style>\n",
              "<table border=\"1\" class=\"dataframe\">\n",
              "  <thead>\n",
              "    <tr style=\"text-align: right;\">\n",
              "      <th></th>\n",
              "      <th>price</th>\n",
              "      <th>image_url</th>\n",
              "      <th>description</th>\n",
              "    </tr>\n",
              "  </thead>\n",
              "  <tbody>\n",
              "    <tr>\n",
              "      <th>34967</th>\n",
              "      <td>686</td>\n",
              "      <td>https://images.craigslist.org/00000_2BC2tlv2e2...</td>\n",
              "      <td>Penbrooke Place\\t                        Prope...</td>\n",
              "    </tr>\n",
              "    <tr>\n",
              "      <th>38330</th>\n",
              "      <td>895</td>\n",
              "      <td>https://images.craigslist.org/00000_2BC2tlv2e2...</td>\n",
              "      <td>Winter is coming! Fountainhead apartments can ...</td>\n",
              "    </tr>\n",
              "    <tr>\n",
              "      <th>100838</th>\n",
              "      <td>895</td>\n",
              "      <td>https://images.craigslist.org/00000_2BC2tlv2e2...</td>\n",
              "      <td>Winter is coming! Fountainhead apartments can ...</td>\n",
              "    </tr>\n",
              "    <tr>\n",
              "      <th>136641</th>\n",
              "      <td>895</td>\n",
              "      <td>https://images.craigslist.org/00000_2BC2tlv2e2...</td>\n",
              "      <td>Winter is coming! Fountainhead apartments can ...</td>\n",
              "    </tr>\n",
              "    <tr>\n",
              "      <th>242593</th>\n",
              "      <td>895</td>\n",
              "      <td>https://images.craigslist.org/00000_2BC2tlv2e2...</td>\n",
              "      <td>Winter is coming! Fountainhead apartments can ...</td>\n",
              "    </tr>\n",
              "    <tr>\n",
              "      <th>278640</th>\n",
              "      <td>895</td>\n",
              "      <td>https://images.craigslist.org/00000_2BC2tlv2e2...</td>\n",
              "      <td>Winter is coming! Fountainhead apartments can ...</td>\n",
              "    </tr>\n",
              "    <tr>\n",
              "      <th>286345</th>\n",
              "      <td>895</td>\n",
              "      <td>https://images.craigslist.org/00000_2BC2tlv2e2...</td>\n",
              "      <td>Winter is coming! Fountainhead apartments can ...</td>\n",
              "    </tr>\n",
              "    <tr>\n",
              "      <th>289896</th>\n",
              "      <td>780</td>\n",
              "      <td>https://images.craigslist.org/00000_2BC2tlv2e2...</td>\n",
              "      <td>Penbrooke Place\\t                        Prope...</td>\n",
              "    </tr>\n",
              "    <tr>\n",
              "      <th>330349</th>\n",
              "      <td>895</td>\n",
              "      <td>https://images.craigslist.org/00000_2BC2tlv2e2...</td>\n",
              "      <td>Winter is coming! Fountainhead apartments can ...</td>\n",
              "    </tr>\n",
              "  </tbody>\n",
              "</table>\n",
              "</div>\n",
              "      <button class=\"colab-df-convert\" onclick=\"convertToInteractive('df-3888ed79-e5c4-4288-8e8a-83c31c894195')\"\n",
              "              title=\"Convert this dataframe to an interactive table.\"\n",
              "              style=\"display:none;\">\n",
              "        \n",
              "  <svg xmlns=\"http://www.w3.org/2000/svg\" height=\"24px\"viewBox=\"0 0 24 24\"\n",
              "       width=\"24px\">\n",
              "    <path d=\"M0 0h24v24H0V0z\" fill=\"none\"/>\n",
              "    <path d=\"M18.56 5.44l.94 2.06.94-2.06 2.06-.94-2.06-.94-.94-2.06-.94 2.06-2.06.94zm-11 1L8.5 8.5l.94-2.06 2.06-.94-2.06-.94L8.5 2.5l-.94 2.06-2.06.94zm10 10l.94 2.06.94-2.06 2.06-.94-2.06-.94-.94-2.06-.94 2.06-2.06.94z\"/><path d=\"M17.41 7.96l-1.37-1.37c-.4-.4-.92-.59-1.43-.59-.52 0-1.04.2-1.43.59L10.3 9.45l-7.72 7.72c-.78.78-.78 2.05 0 2.83L4 21.41c.39.39.9.59 1.41.59.51 0 1.02-.2 1.41-.59l7.78-7.78 2.81-2.81c.8-.78.8-2.07 0-2.86zM5.41 20L4 18.59l7.72-7.72 1.47 1.35L5.41 20z\"/>\n",
              "  </svg>\n",
              "      </button>\n",
              "      \n",
              "  <style>\n",
              "    .colab-df-container {\n",
              "      display:flex;\n",
              "      flex-wrap:wrap;\n",
              "      gap: 12px;\n",
              "    }\n",
              "\n",
              "    .colab-df-convert {\n",
              "      background-color: #E8F0FE;\n",
              "      border: none;\n",
              "      border-radius: 50%;\n",
              "      cursor: pointer;\n",
              "      display: none;\n",
              "      fill: #1967D2;\n",
              "      height: 32px;\n",
              "      padding: 0 0 0 0;\n",
              "      width: 32px;\n",
              "    }\n",
              "\n",
              "    .colab-df-convert:hover {\n",
              "      background-color: #E2EBFA;\n",
              "      box-shadow: 0px 1px 2px rgba(60, 64, 67, 0.3), 0px 1px 3px 1px rgba(60, 64, 67, 0.15);\n",
              "      fill: #174EA6;\n",
              "    }\n",
              "\n",
              "    [theme=dark] .colab-df-convert {\n",
              "      background-color: #3B4455;\n",
              "      fill: #D2E3FC;\n",
              "    }\n",
              "\n",
              "    [theme=dark] .colab-df-convert:hover {\n",
              "      background-color: #434B5C;\n",
              "      box-shadow: 0px 1px 3px 1px rgba(0, 0, 0, 0.15);\n",
              "      filter: drop-shadow(0px 1px 2px rgba(0, 0, 0, 0.3));\n",
              "      fill: #FFFFFF;\n",
              "    }\n",
              "  </style>\n",
              "\n",
              "      <script>\n",
              "        const buttonEl =\n",
              "          document.querySelector('#df-3888ed79-e5c4-4288-8e8a-83c31c894195 button.colab-df-convert');\n",
              "        buttonEl.style.display =\n",
              "          google.colab.kernel.accessAllowed ? 'block' : 'none';\n",
              "\n",
              "        async function convertToInteractive(key) {\n",
              "          const element = document.querySelector('#df-3888ed79-e5c4-4288-8e8a-83c31c894195');\n",
              "          const dataTable =\n",
              "            await google.colab.kernel.invokeFunction('convertToInteractive',\n",
              "                                                     [key], {});\n",
              "          if (!dataTable) return;\n",
              "\n",
              "          const docLinkHtml = 'Like what you see? Visit the ' +\n",
              "            '<a target=\"_blank\" href=https://colab.research.google.com/notebooks/data_table.ipynb>data table notebook</a>'\n",
              "            + ' to learn more about interactive tables.';\n",
              "          element.innerHTML = '';\n",
              "          dataTable['output_type'] = 'display_data';\n",
              "          await google.colab.output.renderOutput(dataTable, element);\n",
              "          const docLink = document.createElement('div');\n",
              "          docLink.innerHTML = docLinkHtml;\n",
              "          element.appendChild(docLink);\n",
              "        }\n",
              "      </script>\n",
              "    </div>\n",
              "  </div>\n",
              "  "
            ]
          },
          "metadata": {},
          "execution_count": 29
        }
      ]
    },
    {
      "cell_type": "markdown",
      "source": [
        "Este script utiliza el método \"groupby\" para agrupar los valores de la columna 'image_url' en el dataframe \"train\" y contar cuántas veces aparece cada valor. El resultado es una nueva columna llamada \"publicaciones\" con el número de veces que aparece cada valor en la columna \"image_url\" del dataframe \"train\""
      ],
      "metadata": {
        "id": "Zl34qqI3Cew6"
      }
    },
    {
      "cell_type": "code",
      "source": [
        "train['publicaciones'] = train.groupby(['image_url'])['image_url'].transform('count')\n",
        "test['publicaciones'] = test.groupby(['image_url'])['image_url'].transform('count')\n",
        "train"
      ],
      "metadata": {
        "colab": {
          "base_uri": "https://localhost:8080/",
          "height": 1000
        },
        "id": "AKGdzDo2_y5i",
        "outputId": "23cb55cc-3953-4f56-d23a-f3ca7e09d720"
      },
      "execution_count": null,
      "outputs": [
        {
          "output_type": "execute_result",
          "data": {
            "text/plain": [
              "                id                                                url  \\\n",
              "0       7048013474  https://boise.craigslist.org/apa/d/very-nice-b...   \n",
              "1       7043931179  https://cosprings.craigslist.org/apa/d/colorad...   \n",
              "2       7048254516  https://norfolk.craigslist.org/apa/d/virginia-...   \n",
              "3       7041032577  https://phoenix.craigslist.org/nph/apa/d/phoen...   \n",
              "4       7048588701  https://nashville.craigslist.org/apa/d/antioch...   \n",
              "...            ...                                                ...   \n",
              "346474  7050982281  https://evansville.craigslist.org/apa/d/evansv...   \n",
              "346475  7049418251  https://sandiego.craigslist.org/ssd/apa/d/chul...   \n",
              "346476  7048268235  https://columbia.craigslist.org/apa/d/columbia...   \n",
              "346477  7026721229  https://nd.craigslist.org/apa/d/minot-open-con...   \n",
              "346478  7049657819  https://buffalo.craigslist.org/apa/d/buffalo-a...   \n",
              "\n",
              "                         region                         region_url  price  \\\n",
              "0                         boise       https://boise.craigslist.org   1350   \n",
              "1              colorado springs   https://cosprings.craigslist.org   1115   \n",
              "2       norfolk / hampton roads     https://norfolk.craigslist.org   1129   \n",
              "3                       phoenix     https://phoenix.craigslist.org   1580   \n",
              "4                     nashville   https://nashville.craigslist.org    995   \n",
              "...                         ...                                ...    ...   \n",
              "346474               evansville  https://evansville.craigslist.org    672   \n",
              "346475                san diego    https://sandiego.craigslist.org   2122   \n",
              "346476                 columbia    https://columbia.craigslist.org   1014   \n",
              "346477             north dakota          https://nd.craigslist.org    935   \n",
              "346478                  buffalo     https://buffalo.craigslist.org   1300   \n",
              "\n",
              "             type  sqfeet  beds  baths  cats_allowed  ...  comes_furnished  \\\n",
              "0           house    1200     2    2.0             1  ...                0   \n",
              "1       apartment     694     1    1.0             1  ...                0   \n",
              "2       apartment     900     2    2.0             0  ...                0   \n",
              "3           house    1469     3    2.0             1  ...                0   \n",
              "4       apartment     700     1    1.0             1  ...                0   \n",
              "...           ...     ...   ...    ...           ...  ...              ...   \n",
              "346474  apartment     660     1    1.0             1  ...                0   \n",
              "346475  apartment    1099     2    2.0             1  ...                0   \n",
              "346476  apartment    1104     2    2.0             1  ...                0   \n",
              "346477  apartment    1050     2    2.0             0  ...                0   \n",
              "346478  apartment    1350     2    2.0             1  ...                0   \n",
              "\n",
              "        laundry_options     parking_options  \\\n",
              "0           w/d in unit     detached garage   \n",
              "1           w/d in unit             carport   \n",
              "2           w/d hookups  off-street parking   \n",
              "3           w/d in unit                None   \n",
              "4           w/d in unit             carport   \n",
              "...                 ...                 ...   \n",
              "346474  laundry on site                None   \n",
              "346475      w/d in unit  off-street parking   \n",
              "346476      w/d hookups  off-street parking   \n",
              "346477      w/d in unit     detached garage   \n",
              "346478      w/d in unit  off-street parking   \n",
              "\n",
              "                                                image_url  \\\n",
              "0       https://images.craigslist.org/00B0B_cPiJMEheZe...   \n",
              "1       https://images.craigslist.org/00R0R_5XAoSKvfrz...   \n",
              "2       https://images.craigslist.org/00f0f_3ZbTFrsHpZ...   \n",
              "3       https://images.craigslist.org/00f0f_aXV5Dkd5qk...   \n",
              "4       https://images.craigslist.org/00606_gYOGKClOHv...   \n",
              "...                                                   ...   \n",
              "346474  https://images.craigslist.org/00x0x_9oaHKZ8Ilp...   \n",
              "346475  https://images.craigslist.org/00O0O_6QsU4p5WMh...   \n",
              "346476  https://images.craigslist.org/00000_dpNWqzYhGK...   \n",
              "346477  https://images.craigslist.org/00Z0Z_65g6Cty1RX...   \n",
              "346478  https://images.craigslist.org/00w0w_7irvBxq409...   \n",
              "\n",
              "                                              description      lat      long  \\\n",
              "0       Super cute row house in the Boise bench area. ...  43.5851 -116.2250   \n",
              "1       Windtree Apartment Homes currently has a spaci...  38.9137 -104.7800   \n",
              "2       Call Today!  show contact info   Indian Lakes ...  36.7922  -76.1643   \n",
              "3       Cody Anderson Two Brothers Realty License #: S...  33.5623 -112.0560   \n",
              "4       To schedule a tour We now book our tour appoin...  36.0595  -86.6592   \n",
              "...                                                   ...      ...       ...   \n",
              "346474  The pool, the office, the 24-hour on-site laun...  37.9591  -87.5293   \n",
              "346475  Seize your chance to live in our beautiful apa...  32.6279 -117.0370   \n",
              "346476  Tucked into the rolling landscape of Southeast...  33.9659  -80.9355   \n",
              "346477  Enjoy living at Southwood Apartments! Located ...  48.1995 -101.2800   \n",
              "346478  Description   Huge spacious 2 bedroom.  Beauti...  42.8997  -78.8803   \n",
              "\n",
              "       state category_price  publicaciones  \n",
              "0         id              0              1  \n",
              "1         co              0              2  \n",
              "2         va              0              1  \n",
              "3         az              0              1  \n",
              "4         tn              1              4  \n",
              "...      ...            ...            ...  \n",
              "346474    in              1              2  \n",
              "346475    ca              0              1  \n",
              "346476    sc              0              7  \n",
              "346477    nd              1             21  \n",
              "346478    ny              0              1  \n",
              "\n",
              "[345304 rows x 24 columns]"
            ],
            "text/html": [
              "\n",
              "  <div id=\"df-2e503d0e-7a17-407c-81cb-9baa20002bc2\">\n",
              "    <div class=\"colab-df-container\">\n",
              "      <div>\n",
              "<style scoped>\n",
              "    .dataframe tbody tr th:only-of-type {\n",
              "        vertical-align: middle;\n",
              "    }\n",
              "\n",
              "    .dataframe tbody tr th {\n",
              "        vertical-align: top;\n",
              "    }\n",
              "\n",
              "    .dataframe thead th {\n",
              "        text-align: right;\n",
              "    }\n",
              "</style>\n",
              "<table border=\"1\" class=\"dataframe\">\n",
              "  <thead>\n",
              "    <tr style=\"text-align: right;\">\n",
              "      <th></th>\n",
              "      <th>id</th>\n",
              "      <th>url</th>\n",
              "      <th>region</th>\n",
              "      <th>region_url</th>\n",
              "      <th>price</th>\n",
              "      <th>type</th>\n",
              "      <th>sqfeet</th>\n",
              "      <th>beds</th>\n",
              "      <th>baths</th>\n",
              "      <th>cats_allowed</th>\n",
              "      <th>...</th>\n",
              "      <th>comes_furnished</th>\n",
              "      <th>laundry_options</th>\n",
              "      <th>parking_options</th>\n",
              "      <th>image_url</th>\n",
              "      <th>description</th>\n",
              "      <th>lat</th>\n",
              "      <th>long</th>\n",
              "      <th>state</th>\n",
              "      <th>category_price</th>\n",
              "      <th>publicaciones</th>\n",
              "    </tr>\n",
              "  </thead>\n",
              "  <tbody>\n",
              "    <tr>\n",
              "      <th>0</th>\n",
              "      <td>7048013474</td>\n",
              "      <td>https://boise.craigslist.org/apa/d/very-nice-b...</td>\n",
              "      <td>boise</td>\n",
              "      <td>https://boise.craigslist.org</td>\n",
              "      <td>1350</td>\n",
              "      <td>house</td>\n",
              "      <td>1200</td>\n",
              "      <td>2</td>\n",
              "      <td>2.0</td>\n",
              "      <td>1</td>\n",
              "      <td>...</td>\n",
              "      <td>0</td>\n",
              "      <td>w/d in unit</td>\n",
              "      <td>detached garage</td>\n",
              "      <td>https://images.craigslist.org/00B0B_cPiJMEheZe...</td>\n",
              "      <td>Super cute row house in the Boise bench area. ...</td>\n",
              "      <td>43.5851</td>\n",
              "      <td>-116.2250</td>\n",
              "      <td>id</td>\n",
              "      <td>0</td>\n",
              "      <td>1</td>\n",
              "    </tr>\n",
              "    <tr>\n",
              "      <th>1</th>\n",
              "      <td>7043931179</td>\n",
              "      <td>https://cosprings.craigslist.org/apa/d/colorad...</td>\n",
              "      <td>colorado springs</td>\n",
              "      <td>https://cosprings.craigslist.org</td>\n",
              "      <td>1115</td>\n",
              "      <td>apartment</td>\n",
              "      <td>694</td>\n",
              "      <td>1</td>\n",
              "      <td>1.0</td>\n",
              "      <td>1</td>\n",
              "      <td>...</td>\n",
              "      <td>0</td>\n",
              "      <td>w/d in unit</td>\n",
              "      <td>carport</td>\n",
              "      <td>https://images.craigslist.org/00R0R_5XAoSKvfrz...</td>\n",
              "      <td>Windtree Apartment Homes currently has a spaci...</td>\n",
              "      <td>38.9137</td>\n",
              "      <td>-104.7800</td>\n",
              "      <td>co</td>\n",
              "      <td>0</td>\n",
              "      <td>2</td>\n",
              "    </tr>\n",
              "    <tr>\n",
              "      <th>2</th>\n",
              "      <td>7048254516</td>\n",
              "      <td>https://norfolk.craigslist.org/apa/d/virginia-...</td>\n",
              "      <td>norfolk / hampton roads</td>\n",
              "      <td>https://norfolk.craigslist.org</td>\n",
              "      <td>1129</td>\n",
              "      <td>apartment</td>\n",
              "      <td>900</td>\n",
              "      <td>2</td>\n",
              "      <td>2.0</td>\n",
              "      <td>0</td>\n",
              "      <td>...</td>\n",
              "      <td>0</td>\n",
              "      <td>w/d hookups</td>\n",
              "      <td>off-street parking</td>\n",
              "      <td>https://images.craigslist.org/00f0f_3ZbTFrsHpZ...</td>\n",
              "      <td>Call Today!  show contact info   Indian Lakes ...</td>\n",
              "      <td>36.7922</td>\n",
              "      <td>-76.1643</td>\n",
              "      <td>va</td>\n",
              "      <td>0</td>\n",
              "      <td>1</td>\n",
              "    </tr>\n",
              "    <tr>\n",
              "      <th>3</th>\n",
              "      <td>7041032577</td>\n",
              "      <td>https://phoenix.craigslist.org/nph/apa/d/phoen...</td>\n",
              "      <td>phoenix</td>\n",
              "      <td>https://phoenix.craigslist.org</td>\n",
              "      <td>1580</td>\n",
              "      <td>house</td>\n",
              "      <td>1469</td>\n",
              "      <td>3</td>\n",
              "      <td>2.0</td>\n",
              "      <td>1</td>\n",
              "      <td>...</td>\n",
              "      <td>0</td>\n",
              "      <td>w/d in unit</td>\n",
              "      <td>None</td>\n",
              "      <td>https://images.craigslist.org/00f0f_aXV5Dkd5qk...</td>\n",
              "      <td>Cody Anderson Two Brothers Realty License #: S...</td>\n",
              "      <td>33.5623</td>\n",
              "      <td>-112.0560</td>\n",
              "      <td>az</td>\n",
              "      <td>0</td>\n",
              "      <td>1</td>\n",
              "    </tr>\n",
              "    <tr>\n",
              "      <th>4</th>\n",
              "      <td>7048588701</td>\n",
              "      <td>https://nashville.craigslist.org/apa/d/antioch...</td>\n",
              "      <td>nashville</td>\n",
              "      <td>https://nashville.craigslist.org</td>\n",
              "      <td>995</td>\n",
              "      <td>apartment</td>\n",
              "      <td>700</td>\n",
              "      <td>1</td>\n",
              "      <td>1.0</td>\n",
              "      <td>1</td>\n",
              "      <td>...</td>\n",
              "      <td>0</td>\n",
              "      <td>w/d in unit</td>\n",
              "      <td>carport</td>\n",
              "      <td>https://images.craigslist.org/00606_gYOGKClOHv...</td>\n",
              "      <td>To schedule a tour We now book our tour appoin...</td>\n",
              "      <td>36.0595</td>\n",
              "      <td>-86.6592</td>\n",
              "      <td>tn</td>\n",
              "      <td>1</td>\n",
              "      <td>4</td>\n",
              "    </tr>\n",
              "    <tr>\n",
              "      <th>...</th>\n",
              "      <td>...</td>\n",
              "      <td>...</td>\n",
              "      <td>...</td>\n",
              "      <td>...</td>\n",
              "      <td>...</td>\n",
              "      <td>...</td>\n",
              "      <td>...</td>\n",
              "      <td>...</td>\n",
              "      <td>...</td>\n",
              "      <td>...</td>\n",
              "      <td>...</td>\n",
              "      <td>...</td>\n",
              "      <td>...</td>\n",
              "      <td>...</td>\n",
              "      <td>...</td>\n",
              "      <td>...</td>\n",
              "      <td>...</td>\n",
              "      <td>...</td>\n",
              "      <td>...</td>\n",
              "      <td>...</td>\n",
              "      <td>...</td>\n",
              "    </tr>\n",
              "    <tr>\n",
              "      <th>346474</th>\n",
              "      <td>7050982281</td>\n",
              "      <td>https://evansville.craigslist.org/apa/d/evansv...</td>\n",
              "      <td>evansville</td>\n",
              "      <td>https://evansville.craigslist.org</td>\n",
              "      <td>672</td>\n",
              "      <td>apartment</td>\n",
              "      <td>660</td>\n",
              "      <td>1</td>\n",
              "      <td>1.0</td>\n",
              "      <td>1</td>\n",
              "      <td>...</td>\n",
              "      <td>0</td>\n",
              "      <td>laundry on site</td>\n",
              "      <td>None</td>\n",
              "      <td>https://images.craigslist.org/00x0x_9oaHKZ8Ilp...</td>\n",
              "      <td>The pool, the office, the 24-hour on-site laun...</td>\n",
              "      <td>37.9591</td>\n",
              "      <td>-87.5293</td>\n",
              "      <td>in</td>\n",
              "      <td>1</td>\n",
              "      <td>2</td>\n",
              "    </tr>\n",
              "    <tr>\n",
              "      <th>346475</th>\n",
              "      <td>7049418251</td>\n",
              "      <td>https://sandiego.craigslist.org/ssd/apa/d/chul...</td>\n",
              "      <td>san diego</td>\n",
              "      <td>https://sandiego.craigslist.org</td>\n",
              "      <td>2122</td>\n",
              "      <td>apartment</td>\n",
              "      <td>1099</td>\n",
              "      <td>2</td>\n",
              "      <td>2.0</td>\n",
              "      <td>1</td>\n",
              "      <td>...</td>\n",
              "      <td>0</td>\n",
              "      <td>w/d in unit</td>\n",
              "      <td>off-street parking</td>\n",
              "      <td>https://images.craigslist.org/00O0O_6QsU4p5WMh...</td>\n",
              "      <td>Seize your chance to live in our beautiful apa...</td>\n",
              "      <td>32.6279</td>\n",
              "      <td>-117.0370</td>\n",
              "      <td>ca</td>\n",
              "      <td>0</td>\n",
              "      <td>1</td>\n",
              "    </tr>\n",
              "    <tr>\n",
              "      <th>346476</th>\n",
              "      <td>7048268235</td>\n",
              "      <td>https://columbia.craigslist.org/apa/d/columbia...</td>\n",
              "      <td>columbia</td>\n",
              "      <td>https://columbia.craigslist.org</td>\n",
              "      <td>1014</td>\n",
              "      <td>apartment</td>\n",
              "      <td>1104</td>\n",
              "      <td>2</td>\n",
              "      <td>2.0</td>\n",
              "      <td>1</td>\n",
              "      <td>...</td>\n",
              "      <td>0</td>\n",
              "      <td>w/d hookups</td>\n",
              "      <td>off-street parking</td>\n",
              "      <td>https://images.craigslist.org/00000_dpNWqzYhGK...</td>\n",
              "      <td>Tucked into the rolling landscape of Southeast...</td>\n",
              "      <td>33.9659</td>\n",
              "      <td>-80.9355</td>\n",
              "      <td>sc</td>\n",
              "      <td>0</td>\n",
              "      <td>7</td>\n",
              "    </tr>\n",
              "    <tr>\n",
              "      <th>346477</th>\n",
              "      <td>7026721229</td>\n",
              "      <td>https://nd.craigslist.org/apa/d/minot-open-con...</td>\n",
              "      <td>north dakota</td>\n",
              "      <td>https://nd.craigslist.org</td>\n",
              "      <td>935</td>\n",
              "      <td>apartment</td>\n",
              "      <td>1050</td>\n",
              "      <td>2</td>\n",
              "      <td>2.0</td>\n",
              "      <td>0</td>\n",
              "      <td>...</td>\n",
              "      <td>0</td>\n",
              "      <td>w/d in unit</td>\n",
              "      <td>detached garage</td>\n",
              "      <td>https://images.craigslist.org/00Z0Z_65g6Cty1RX...</td>\n",
              "      <td>Enjoy living at Southwood Apartments! Located ...</td>\n",
              "      <td>48.1995</td>\n",
              "      <td>-101.2800</td>\n",
              "      <td>nd</td>\n",
              "      <td>1</td>\n",
              "      <td>21</td>\n",
              "    </tr>\n",
              "    <tr>\n",
              "      <th>346478</th>\n",
              "      <td>7049657819</td>\n",
              "      <td>https://buffalo.craigslist.org/apa/d/buffalo-a...</td>\n",
              "      <td>buffalo</td>\n",
              "      <td>https://buffalo.craigslist.org</td>\n",
              "      <td>1300</td>\n",
              "      <td>apartment</td>\n",
              "      <td>1350</td>\n",
              "      <td>2</td>\n",
              "      <td>2.0</td>\n",
              "      <td>1</td>\n",
              "      <td>...</td>\n",
              "      <td>0</td>\n",
              "      <td>w/d in unit</td>\n",
              "      <td>off-street parking</td>\n",
              "      <td>https://images.craigslist.org/00w0w_7irvBxq409...</td>\n",
              "      <td>Description   Huge spacious 2 bedroom.  Beauti...</td>\n",
              "      <td>42.8997</td>\n",
              "      <td>-78.8803</td>\n",
              "      <td>ny</td>\n",
              "      <td>0</td>\n",
              "      <td>1</td>\n",
              "    </tr>\n",
              "  </tbody>\n",
              "</table>\n",
              "<p>345304 rows × 24 columns</p>\n",
              "</div>\n",
              "      <button class=\"colab-df-convert\" onclick=\"convertToInteractive('df-2e503d0e-7a17-407c-81cb-9baa20002bc2')\"\n",
              "              title=\"Convert this dataframe to an interactive table.\"\n",
              "              style=\"display:none;\">\n",
              "        \n",
              "  <svg xmlns=\"http://www.w3.org/2000/svg\" height=\"24px\"viewBox=\"0 0 24 24\"\n",
              "       width=\"24px\">\n",
              "    <path d=\"M0 0h24v24H0V0z\" fill=\"none\"/>\n",
              "    <path d=\"M18.56 5.44l.94 2.06.94-2.06 2.06-.94-2.06-.94-.94-2.06-.94 2.06-2.06.94zm-11 1L8.5 8.5l.94-2.06 2.06-.94-2.06-.94L8.5 2.5l-.94 2.06-2.06.94zm10 10l.94 2.06.94-2.06 2.06-.94-2.06-.94-.94-2.06-.94 2.06-2.06.94z\"/><path d=\"M17.41 7.96l-1.37-1.37c-.4-.4-.92-.59-1.43-.59-.52 0-1.04.2-1.43.59L10.3 9.45l-7.72 7.72c-.78.78-.78 2.05 0 2.83L4 21.41c.39.39.9.59 1.41.59.51 0 1.02-.2 1.41-.59l7.78-7.78 2.81-2.81c.8-.78.8-2.07 0-2.86zM5.41 20L4 18.59l7.72-7.72 1.47 1.35L5.41 20z\"/>\n",
              "  </svg>\n",
              "      </button>\n",
              "      \n",
              "  <style>\n",
              "    .colab-df-container {\n",
              "      display:flex;\n",
              "      flex-wrap:wrap;\n",
              "      gap: 12px;\n",
              "    }\n",
              "\n",
              "    .colab-df-convert {\n",
              "      background-color: #E8F0FE;\n",
              "      border: none;\n",
              "      border-radius: 50%;\n",
              "      cursor: pointer;\n",
              "      display: none;\n",
              "      fill: #1967D2;\n",
              "      height: 32px;\n",
              "      padding: 0 0 0 0;\n",
              "      width: 32px;\n",
              "    }\n",
              "\n",
              "    .colab-df-convert:hover {\n",
              "      background-color: #E2EBFA;\n",
              "      box-shadow: 0px 1px 2px rgba(60, 64, 67, 0.3), 0px 1px 3px 1px rgba(60, 64, 67, 0.15);\n",
              "      fill: #174EA6;\n",
              "    }\n",
              "\n",
              "    [theme=dark] .colab-df-convert {\n",
              "      background-color: #3B4455;\n",
              "      fill: #D2E3FC;\n",
              "    }\n",
              "\n",
              "    [theme=dark] .colab-df-convert:hover {\n",
              "      background-color: #434B5C;\n",
              "      box-shadow: 0px 1px 3px 1px rgba(0, 0, 0, 0.15);\n",
              "      filter: drop-shadow(0px 1px 2px rgba(0, 0, 0, 0.3));\n",
              "      fill: #FFFFFF;\n",
              "    }\n",
              "  </style>\n",
              "\n",
              "      <script>\n",
              "        const buttonEl =\n",
              "          document.querySelector('#df-2e503d0e-7a17-407c-81cb-9baa20002bc2 button.colab-df-convert');\n",
              "        buttonEl.style.display =\n",
              "          google.colab.kernel.accessAllowed ? 'block' : 'none';\n",
              "\n",
              "        async function convertToInteractive(key) {\n",
              "          const element = document.querySelector('#df-2e503d0e-7a17-407c-81cb-9baa20002bc2');\n",
              "          const dataTable =\n",
              "            await google.colab.kernel.invokeFunction('convertToInteractive',\n",
              "                                                     [key], {});\n",
              "          if (!dataTable) return;\n",
              "\n",
              "          const docLinkHtml = 'Like what you see? Visit the ' +\n",
              "            '<a target=\"_blank\" href=https://colab.research.google.com/notebooks/data_table.ipynb>data table notebook</a>'\n",
              "            + ' to learn more about interactive tables.';\n",
              "          element.innerHTML = '';\n",
              "          dataTable['output_type'] = 'display_data';\n",
              "          await google.colab.output.renderOutput(dataTable, element);\n",
              "          const docLink = document.createElement('div');\n",
              "          docLink.innerHTML = docLinkHtml;\n",
              "          element.appendChild(docLink);\n",
              "        }\n",
              "      </script>\n",
              "    </div>\n",
              "  </div>\n",
              "  "
            ]
          },
          "metadata": {},
          "execution_count": 30
        }
      ]
    },
    {
      "cell_type": "code",
      "source": [
        "# Ahora si eliminamos los 'image_url' duplicados\n",
        "train.drop_duplicates(subset='image_url', inplace=True)"
      ],
      "metadata": {
        "id": "lcmRAJaUCz80"
      },
      "execution_count": null,
      "outputs": []
    },
    {
      "cell_type": "code",
      "source": [
        "train.shape"
      ],
      "metadata": {
        "colab": {
          "base_uri": "https://localhost:8080/"
        },
        "id": "WD3Rji7-FU9M",
        "outputId": "659e5f8f-51d9-41c7-f47e-3a538c58258e"
      },
      "execution_count": null,
      "outputs": [
        {
          "output_type": "execute_result",
          "data": {
            "text/plain": [
              "(167653, 24)"
            ]
          },
          "metadata": {},
          "execution_count": 32
        }
      ]
    },
    {
      "cell_type": "markdown",
      "source": [
        "Reducidomos el dataset en un 51,4% del total de registros originales"
      ],
      "metadata": {
        "id": "mBbJICW9FhH9"
      }
    },
    {
      "cell_type": "code",
      "source": [
        "# Volvemos a revisar la distribución del target\n",
        "sns.countplot(x='category_price', data=train)"
      ],
      "metadata": {
        "colab": {
          "base_uri": "https://localhost:8080/",
          "height": 297
        },
        "id": "BHL33-bOFjbV",
        "outputId": "20c4635d-2fbb-4bfb-8d0e-52568a638652"
      },
      "execution_count": null,
      "outputs": [
        {
          "output_type": "execute_result",
          "data": {
            "text/plain": [
              "<matplotlib.axes._subplots.AxesSubplot at 0x7f0a42ac81c0>"
            ]
          },
          "metadata": {},
          "execution_count": 33
        },
        {
          "output_type": "display_data",
          "data": {
            "text/plain": [
              "<Figure size 432x288 with 1 Axes>"
            ],
            "image/png": "[encoded data removed]"
          },
          "metadata": {
            "needs_background": "light"
          }
        }
      ]
    },
    {
      "cell_type": "code",
      "source": [
        "train.describe()"
      ],
      "metadata": {
        "colab": {
          "base_uri": "https://localhost:8080/",
          "height": 364
        },
        "id": "UMvtFyvNFzyw",
        "outputId": "960fabda-4266-4f64-efd5-f13f8247d5cc"
      },
      "execution_count": null,
      "outputs": [
        {
          "output_type": "execute_result",
          "data": {
            "text/plain": [
              "                 id         price        sqfeet           beds          baths  \\\n",
              "count  1.676530e+05  1.676530e+05  1.676530e+05  167653.000000  167653.000000   \n",
              "mean   7.041582e+09  1.829952e+04  1.130363e+03       1.984528       1.493549   \n",
              "std    9.130365e+06  6.761322e+06  2.144519e+04       4.467664       0.647880   \n",
              "min    7.004042e+09  1.000000e+00  0.000000e+00       0.000000       0.000000   \n",
              "25%    7.036552e+09  8.490000e+02  7.500000e+02       1.000000       1.000000   \n",
              "50%    7.044527e+09  1.100000e+03  9.600000e+02       2.000000       1.000000   \n",
              "75%    7.049007e+09  1.500000e+03  1.200000e+03       2.000000       2.000000   \n",
              "max    7.051292e+09  2.768307e+09  8.388607e+06    1100.000000      75.000000   \n",
              "\n",
              "        cats_allowed   dogs_allowed  smoking_allowed  wheelchair_access  \\\n",
              "count  167653.000000  167653.000000    167653.000000      167653.000000   \n",
              "mean        0.677954       0.657125         0.679206           0.080708   \n",
              "std         0.467262       0.474672         0.466783           0.272388   \n",
              "min         0.000000       0.000000         0.000000           0.000000   \n",
              "25%         0.000000       0.000000         0.000000           0.000000   \n",
              "50%         1.000000       1.000000         1.000000           0.000000   \n",
              "75%         1.000000       1.000000         1.000000           0.000000   \n",
              "max         1.000000       1.000000         1.000000           1.000000   \n",
              "\n",
              "       electric_vehicle_charge  comes_furnished            lat           long  \\\n",
              "count            167653.000000    167653.000000  166741.000000  166741.000000   \n",
              "mean                  0.016677         0.056665      37.689079     -94.288160   \n",
              "std                   0.128060         0.231201       5.832061      17.417899   \n",
              "min                   0.000000         0.000000     -43.533300    -163.894000   \n",
              "25%                   0.000000         0.000000      33.737700    -105.117000   \n",
              "50%                   0.000000         0.000000      38.254700     -89.258400   \n",
              "75%                   0.000000         0.000000      41.685000     -81.257700   \n",
              "max                   1.000000         1.000000     102.036000     172.633000   \n",
              "\n",
              "       category_price  publicaciones  \n",
              "count   167653.000000  167653.000000  \n",
              "mean         0.412030       2.059635  \n",
              "std          0.492202       4.014569  \n",
              "min          0.000000       1.000000  \n",
              "25%          0.000000       1.000000  \n",
              "50%          0.000000       1.000000  \n",
              "75%          1.000000       2.000000  \n",
              "max          1.000000     363.000000  "
            ],
            "text/html": [
              "\n",
              "  <div id=\"df-36f7cbce-83cd-4e0b-95ed-301764927f26\">\n",
              "    <div class=\"colab-df-container\">\n",
              "      <div>\n",
              "<style scoped>\n",
              "    .dataframe tbody tr th:only-of-type {\n",
              "        vertical-align: middle;\n",
              "    }\n",
              "\n",
              "    .dataframe tbody tr th {\n",
              "        vertical-align: top;\n",
              "    }\n",
              "\n",
              "    .dataframe thead th {\n",
              "        text-align: right;\n",
              "    }\n",
              "</style>\n",
              "<table border=\"1\" class=\"dataframe\">\n",
              "  <thead>\n",
              "    <tr style=\"text-align: right;\">\n",
              "      <th></th>\n",
              "      <th>id</th>\n",
              "      <th>price</th>\n",
              "      <th>sqfeet</th>\n",
              "      <th>beds</th>\n",
              "      <th>baths</th>\n",
              "      <th>cats_allowed</th>\n",
              "      <th>dogs_allowed</th>\n",
              "      <th>smoking_allowed</th>\n",
              "      <th>wheelchair_access</th>\n",
              "      <th>electric_vehicle_charge</th>\n",
              "      <th>comes_furnished</th>\n",
              "      <th>lat</th>\n",
              "      <th>long</th>\n",
              "      <th>category_price</th>\n",
              "      <th>publicaciones</th>\n",
              "    </tr>\n",
              "  </thead>\n",
              "  <tbody>\n",
              "    <tr>\n",
              "      <th>count</th>\n",
              "      <td>1.676530e+05</td>\n",
              "      <td>1.676530e+05</td>\n",
              "      <td>1.676530e+05</td>\n",
              "      <td>167653.000000</td>\n",
              "      <td>167653.000000</td>\n",
              "      <td>167653.000000</td>\n",
              "      <td>167653.000000</td>\n",
              "      <td>167653.000000</td>\n",
              "      <td>167653.000000</td>\n",
              "      <td>167653.000000</td>\n",
              "      <td>167653.000000</td>\n",
              "      <td>166741.000000</td>\n",
              "      <td>166741.000000</td>\n",
              "      <td>167653.000000</td>\n",
              "      <td>167653.000000</td>\n",
              "    </tr>\n",
              "    <tr>\n",
              "      <th>mean</th>\n",
              "      <td>7.041582e+09</td>\n",
              "      <td>1.829952e+04</td>\n",
              "      <td>1.130363e+03</td>\n",
              "      <td>1.984528</td>\n",
              "      <td>1.493549</td>\n",
              "      <td>0.677954</td>\n",
              "      <td>0.657125</td>\n",
              "      <td>0.679206</td>\n",
              "      <td>0.080708</td>\n",
              "      <td>0.016677</td>\n",
              "      <td>0.056665</td>\n",
              "      <td>37.689079</td>\n",
              "      <td>-94.288160</td>\n",
              "      <td>0.412030</td>\n",
              "      <td>2.059635</td>\n",
              "    </tr>\n",
              "    <tr>\n",
              "      <th>std</th>\n",
              "      <td>9.130365e+06</td>\n",
              "      <td>6.761322e+06</td>\n",
              "      <td>2.144519e+04</td>\n",
              "      <td>4.467664</td>\n",
              "      <td>0.647880</td>\n",
              "      <td>0.467262</td>\n",
              "      <td>0.474672</td>\n",
              "      <td>0.466783</td>\n",
              "      <td>0.272388</td>\n",
              "      <td>0.128060</td>\n",
              "      <td>0.231201</td>\n",
              "      <td>5.832061</td>\n",
              "      <td>17.417899</td>\n",
              "      <td>0.492202</td>\n",
              "      <td>4.014569</td>\n",
              "    </tr>\n",
              "    <tr>\n",
              "      <th>min</th>\n",
              "      <td>7.004042e+09</td>\n",
              "      <td>1.000000e+00</td>\n",
              "      <td>0.000000e+00</td>\n",
              "      <td>0.000000</td>\n",
              "      <td>0.000000</td>\n",
              "      <td>0.000000</td>\n",
              "      <td>0.000000</td>\n",
              "      <td>0.000000</td>\n",
              "      <td>0.000000</td>\n",
              "      <td>0.000000</td>\n",
              "      <td>0.000000</td>\n",
              "      <td>-43.533300</td>\n",
              "      <td>-163.894000</td>\n",
              "      <td>0.000000</td>\n",
              "      <td>1.000000</td>\n",
              "    </tr>\n",
              "    <tr>\n",
              "      <th>25%</th>\n",
              "      <td>7.036552e+09</td>\n",
              "      <td>8.490000e+02</td>\n",
              "      <td>7.500000e+02</td>\n",
              "      <td>1.000000</td>\n",
              "      <td>1.000000</td>\n",
              "      <td>0.000000</td>\n",
              "      <td>0.000000</td>\n",
              "      <td>0.000000</td>\n",
              "      <td>0.000000</td>\n",
              "      <td>0.000000</td>\n",
              "      <td>0.000000</td>\n",
              "      <td>33.737700</td>\n",
              "      <td>-105.117000</td>\n",
              "      <td>0.000000</td>\n",
              "      <td>1.000000</td>\n",
              "    </tr>\n",
              "    <tr>\n",
              "      <th>50%</th>\n",
              "      <td>7.044527e+09</td>\n",
              "      <td>1.100000e+03</td>\n",
              "      <td>9.600000e+02</td>\n",
              "      <td>2.000000</td>\n",
              "      <td>1.000000</td>\n",
              "      <td>1.000000</td>\n",
              "      <td>1.000000</td>\n",
              "      <td>1.000000</td>\n",
              "      <td>0.000000</td>\n",
              "      <td>0.000000</td>\n",
              "      <td>0.000000</td>\n",
              "      <td>38.254700</td>\n",
              "      <td>-89.258400</td>\n",
              "      <td>0.000000</td>\n",
              "      <td>1.000000</td>\n",
              "    </tr>\n",
              "    <tr>\n",
              "      <th>75%</th>\n",
              "      <td>7.049007e+09</td>\n",
              "      <td>1.500000e+03</td>\n",
              "      <td>1.200000e+03</td>\n",
              "      <td>2.000000</td>\n",
              "      <td>2.000000</td>\n",
              "      <td>1.000000</td>\n",
              "      <td>1.000000</td>\n",
              "      <td>1.000000</td>\n",
              "      <td>0.000000</td>\n",
              "      <td>0.000000</td>\n",
              "      <td>0.000000</td>\n",
              "      <td>41.685000</td>\n",
              "      <td>-81.257700</td>\n",
              "      <td>1.000000</td>\n",
              "      <td>2.000000</td>\n",
              "    </tr>\n",
              "    <tr>\n",
              "      <th>max</th>\n",
              "      <td>7.051292e+09</td>\n",
              "      <td>2.768307e+09</td>\n",
              "      <td>8.388607e+06</td>\n",
              "      <td>1100.000000</td>\n",
              "      <td>75.000000</td>\n",
              "      <td>1.000000</td>\n",
              "      <td>1.000000</td>\n",
              "      <td>1.000000</td>\n",
              "      <td>1.000000</td>\n",
              "      <td>1.000000</td>\n",
              "      <td>1.000000</td>\n",
              "      <td>102.036000</td>\n",
              "      <td>172.633000</td>\n",
              "      <td>1.000000</td>\n",
              "      <td>363.000000</td>\n",
              "    </tr>\n",
              "  </tbody>\n",
              "</table>\n",
              "</div>\n",
              "      <button class=\"colab-df-convert\" onclick=\"convertToInteractive('df-36f7cbce-83cd-4e0b-95ed-301764927f26')\"\n",
              "              title=\"Convert this dataframe to an interactive table.\"\n",
              "              style=\"display:none;\">\n",
              "        \n",
              "  <svg xmlns=\"http://www.w3.org/2000/svg\" height=\"24px\"viewBox=\"0 0 24 24\"\n",
              "       width=\"24px\">\n",
              "    <path d=\"M0 0h24v24H0V0z\" fill=\"none\"/>\n",
              "    <path d=\"M18.56 5.44l.94 2.06.94-2.06 2.06-.94-2.06-.94-.94-2.06-.94 2.06-2.06.94zm-11 1L8.5 8.5l.94-2.06 2.06-.94-2.06-.94L8.5 2.5l-.94 2.06-2.06.94zm10 10l.94 2.06.94-2.06 2.06-.94-2.06-.94-.94-2.06-.94 2.06-2.06.94z\"/><path d=\"M17.41 7.96l-1.37-1.37c-.4-.4-.92-.59-1.43-.59-.52 0-1.04.2-1.43.59L10.3 9.45l-7.72 7.72c-.78.78-.78 2.05 0 2.83L4 21.41c.39.39.9.59 1.41.59.51 0 1.02-.2 1.41-.59l7.78-7.78 2.81-2.81c.8-.78.8-2.07 0-2.86zM5.41 20L4 18.59l7.72-7.72 1.47 1.35L5.41 20z\"/>\n",
              "  </svg>\n",
              "      </button>\n",
              "      \n",
              "  <style>\n",
              "    .colab-df-container {\n",
              "      display:flex;\n",
              "      flex-wrap:wrap;\n",
              "      gap: 12px;\n",
              "    }\n",
              "\n",
              "    .colab-df-convert {\n",
              "      background-color: #E8F0FE;\n",
              "      border: none;\n",
              "      border-radius: 50%;\n",
              "      cursor: pointer;\n",
              "      display: none;\n",
              "      fill: #1967D2;\n",
              "      height: 32px;\n",
              "      padding: 0 0 0 0;\n",
              "      width: 32px;\n",
              "    }\n",
              "\n",
              "    .colab-df-convert:hover {\n",
              "      background-color: #E2EBFA;\n",
              "      box-shadow: 0px 1px 2px rgba(60, 64, 67, 0.3), 0px 1px 3px 1px rgba(60, 64, 67, 0.15);\n",
              "      fill: #174EA6;\n",
              "    }\n",
              "\n",
              "    [theme=dark] .colab-df-convert {\n",
              "      background-color: #3B4455;\n",
              "      fill: #D2E3FC;\n",
              "    }\n",
              "\n",
              "    [theme=dark] .colab-df-convert:hover {\n",
              "      background-color: #434B5C;\n",
              "      box-shadow: 0px 1px 3px 1px rgba(0, 0, 0, 0.15);\n",
              "      filter: drop-shadow(0px 1px 2px rgba(0, 0, 0, 0.3));\n",
              "      fill: #FFFFFF;\n",
              "    }\n",
              "  </style>\n",
              "\n",
              "      <script>\n",
              "        const buttonEl =\n",
              "          document.querySelector('#df-36f7cbce-83cd-4e0b-95ed-301764927f26 button.colab-df-convert');\n",
              "        buttonEl.style.display =\n",
              "          google.colab.kernel.accessAllowed ? 'block' : 'none';\n",
              "\n",
              "        async function convertToInteractive(key) {\n",
              "          const element = document.querySelector('#df-36f7cbce-83cd-4e0b-95ed-301764927f26');\n",
              "          const dataTable =\n",
              "            await google.colab.kernel.invokeFunction('convertToInteractive',\n",
              "                                                     [key], {});\n",
              "          if (!dataTable) return;\n",
              "\n",
              "          const docLinkHtml = 'Like what you see? Visit the ' +\n",
              "            '<a target=\"_blank\" href=https://colab.research.google.com/notebooks/data_table.ipynb>data table notebook</a>'\n",
              "            + ' to learn more about interactive tables.';\n",
              "          element.innerHTML = '';\n",
              "          dataTable['output_type'] = 'display_data';\n",
              "          await google.colab.output.renderOutput(dataTable, element);\n",
              "          const docLink = document.createElement('div');\n",
              "          docLink.innerHTML = docLinkHtml;\n",
              "          element.appendChild(docLink);\n",
              "        }\n",
              "      </script>\n",
              "    </div>\n",
              "  </div>\n",
              "  "
            ]
          },
          "metadata": {},
          "execution_count": 34
        }
      ]
    },
    {
      "cell_type": "markdown",
      "source": [
        "Notamos la existencia de outliers en varias columnas, por ejemplo, un valor máximo de 1.100 camas o 75 baños. Analizaremos a continuación cada una de las columnas"
      ],
      "metadata": {
        "id": "5fQ-6Vj1G309"
      }
    },
    {
      "cell_type": "code",
      "source": [
        "#Analizemos \"sqfeet\" en busqueda de outliers\n",
        "train.sort_values(\"sqfeet\",ascending=False)"
      ],
      "metadata": {
        "colab": {
          "base_uri": "https://localhost:8080/",
          "height": 1000
        },
        "id": "VeXVTmm3G0RY",
        "outputId": "504aa250-e818-4d57-ef4f-26cd4777e1d3"
      },
      "execution_count": null,
      "outputs": [
        {
          "output_type": "execute_result",
          "data": {
            "text/plain": [
              "                id                                                url  \\\n",
              "249237  7017516227  https://mankato.craigslist.org/apa/d/new-ulm-2...   \n",
              "141803  7046432288  https://santabarbara.craigslist.org/apa/d/sant...   \n",
              "47651   7046395842  https://santabarbara.craigslist.org/apa/d/sant...   \n",
              "241443  7046343123  https://syracuse.craigslist.org/apa/d/syracuse...   \n",
              "41478   7048286226  https://newlondon.craigslist.org/apa/d/new-lon...   \n",
              "...            ...                                                ...   \n",
              "124652  7039526517  https://boston.craigslist.org/gbs/apa/d/watert...   \n",
              "142634  7049105318  https://nashville.craigslist.org/apa/d/nashvil...   \n",
              "197290  7031904235  https://honolulu.craigslist.org/oah/apa/d/hono...   \n",
              "99563   7039387979  https://lakeland.craigslist.org/apa/d/huge-lak...   \n",
              "45445   7042564282  https://inlandempire.craigslist.org/apa/d/more...   \n",
              "\n",
              "               region                           region_url  price  \\\n",
              "249237        mankato       https://mankato.craigslist.org    750   \n",
              "141803  santa barbara  https://santabarbara.craigslist.org  11350   \n",
              "47651   santa barbara  https://santabarbara.craigslist.org   7250   \n",
              "241443       syracuse      https://syracuse.craigslist.org    625   \n",
              "41478      eastern CT     https://newlondon.craigslist.org    750   \n",
              "...               ...                                  ...    ...   \n",
              "124652         boston        https://boston.craigslist.org   2500   \n",
              "142634      nashville     https://nashville.craigslist.org   1040   \n",
              "197290         hawaii      https://honolulu.craigslist.org   1995   \n",
              "99563        lakeland      https://lakeland.craigslist.org   1200   \n",
              "45445   inland empire  https://inlandempire.craigslist.org   2228   \n",
              "\n",
              "                 type   sqfeet  beds  baths  cats_allowed  ...  \\\n",
              "249237      apartment  8388607     2    1.0             0  ...   \n",
              "141803          house  1019856     5    4.0             1  ...   \n",
              "47651           house  1019856     4    2.0             1  ...   \n",
              "241443         duplex   999999     1    1.0             0  ...   \n",
              "41478       apartment   999999     1    1.0             0  ...   \n",
              "...               ...      ...   ...    ...           ...  ...   \n",
              "124652      apartment        0     2    2.5             0  ...   \n",
              "142634      apartment        0     2    1.0             1  ...   \n",
              "197290  cottage/cabin        0     2    1.0             0  ...   \n",
              "99563    manufactured        0     3    2.0             1  ...   \n",
              "45445           house        0     4    2.5             1  ...   \n",
              "\n",
              "        comes_furnished  laundry_options     parking_options  \\\n",
              "249237                0  laundry in bldg     detached garage   \n",
              "141803                1  laundry in bldg     attached garage   \n",
              "47651                 1  laundry in bldg     attached garage   \n",
              "241443                0             None  off-street parking   \n",
              "41478                 0  laundry in bldg  off-street parking   \n",
              "...                 ...              ...                 ...   \n",
              "124652                0      w/d in unit      street parking   \n",
              "142634                0  laundry on site                None   \n",
              "197290                0             None                None   \n",
              "99563                 0      w/d hookups  off-street parking   \n",
              "45445                 0      w/d hookups     attached garage   \n",
              "\n",
              "                                                image_url  \\\n",
              "249237  https://images.craigslist.org/00w0w_nq1l2oBn6W...   \n",
              "141803  https://images.craigslist.org/00m0m_a6iuP3382d...   \n",
              "47651   https://images.craigslist.org/00k0k_lqGX8GjJBg...   \n",
              "241443  https://images.craigslist.org/00F0F_bmaTZRhAVn...   \n",
              "41478   https://images.craigslist.org/00H0H_3MbpR6z8x0...   \n",
              "...                                                   ...   \n",
              "124652  https://images.craigslist.org/00l0l_jUWnSxUubm...   \n",
              "142634  https://images.craigslist.org/00R0R_kFU3kboYnd...   \n",
              "197290  https://images.craigslist.org/00U0U_ddIcqmk764...   \n",
              "99563   https://images.craigslist.org/00l0l_fMNR7R9BLc...   \n",
              "45445   https://images.craigslist.org/00Y0Y_e0fkw0mxtw...   \n",
              "\n",
              "                                              description      lat      long  \\\n",
              "249237  Description   2-bedroom, 1-bath unit with smal...  44.3262  -94.4804   \n",
              "141803  Stunning Ocean View and Gated Luxury Home with...  34.4478 -119.7030   \n",
              "47651   WALK EVERYWHERE IN SANTA BARBARA! Wonderfully ...  34.4308 -119.7020   \n",
              "241443  Rowland St Street | Apt 2 | Syracuse, NY 13204...  43.0444  -76.1758   \n",
              "41478   Various one bedroom apartments All remodeled, ...  41.3507  -72.1062   \n",
              "...                                                   ...      ...       ...   \n",
              "124652  NO BROKER FEE!  1. *Available- January 1st, 20...  42.3677  -71.1879   \n",
              "142634  POP IN FOR OUR OPEN HOUSE !!! COME AND TAKE A ...  36.0725  -86.7240   \n",
              "197290  Remodeled Two Bedrooms/One Bath/One Parking Gr...  21.2735 -157.8060   \n",
              "99563   *LARGE 3BR/2BA DOUBLE WIDE MOBILE HOME LAKLEAN...      NaN       NaN   \n",
              "45445   Month in and month out you pay rent to your La...  33.9182 -117.1560   \n",
              "\n",
              "       state category_price  publicaciones  \n",
              "249237    mn              1              1  \n",
              "141803    ca              0              1  \n",
              "47651     ca              0              1  \n",
              "241443    ny              1              1  \n",
              "41478     ct              1              1  \n",
              "...      ...            ...            ...  \n",
              "124652    ma              0              1  \n",
              "142634    tn              0              2  \n",
              "197290    hi              0              1  \n",
              "99563     fl              0              1  \n",
              "45445     ca              0              1  \n",
              "\n",
              "[167653 rows x 24 columns]"
            ],
            "text/html": [
              "\n",
              "  <div id=\"df-42706dd5-e378-4518-ada2-7dae14ebc200\">\n",
              "    <div class=\"colab-df-container\">\n",
              "      <div>\n",
              "<style scoped>\n",
              "    .dataframe tbody tr th:only-of-type {\n",
              "        vertical-align: middle;\n",
              "    }\n",
              "\n",
              "    .dataframe tbody tr th {\n",
              "        vertical-align: top;\n",
              "    }\n",
              "\n",
              "    .dataframe thead th {\n",
              "        text-align: right;\n",
              "    }\n",
              "</style>\n",
              "<table border=\"1\" class=\"dataframe\">\n",
              "  <thead>\n",
              "    <tr style=\"text-align: right;\">\n",
              "      <th></th>\n",
              "      <th>id</th>\n",
              "      <th>url</th>\n",
              "      <th>region</th>\n",
              "      <th>region_url</th>\n",
              "      <th>price</th>\n",
              "      <th>type</th>\n",
              "      <th>sqfeet</th>\n",
              "      <th>beds</th>\n",
              "      <th>baths</th>\n",
              "      <th>cats_allowed</th>\n",
              "      <th>...</th>\n",
              "      <th>comes_furnished</th>\n",
              "      <th>laundry_options</th>\n",
              "      <th>parking_options</th>\n",
              "      <th>image_url</th>\n",
              "      <th>description</th>\n",
              "      <th>lat</th>\n",
              "      <th>long</th>\n",
              "      <th>state</th>\n",
              "      <th>category_price</th>\n",
              "      <th>publicaciones</th>\n",
              "    </tr>\n",
              "  </thead>\n",
              "  <tbody>\n",
              "    <tr>\n",
              "      <th>249237</th>\n",
              "      <td>7017516227</td>\n",
              "      <td>https://mankato.craigslist.org/apa/d/new-ulm-2...</td>\n",
              "      <td>mankato</td>\n",
              "      <td>https://mankato.craigslist.org</td>\n",
              "      <td>750</td>\n",
              "      <td>apartment</td>\n",
              "      <td>8388607</td>\n",
              "      <td>2</td>\n",
              "      <td>1.0</td>\n",
              "      <td>0</td>\n",
              "      <td>...</td>\n",
              "      <td>0</td>\n",
              "      <td>laundry in bldg</td>\n",
              "      <td>detached garage</td>\n",
              "      <td>https://images.craigslist.org/00w0w_nq1l2oBn6W...</td>\n",
              "      <td>Description   2-bedroom, 1-bath unit with smal...</td>\n",
              "      <td>44.3262</td>\n",
              "      <td>-94.4804</td>\n",
              "      <td>mn</td>\n",
              "      <td>1</td>\n",
              "      <td>1</td>\n",
              "    </tr>\n",
              "    <tr>\n",
              "      <th>141803</th>\n",
              "      <td>7046432288</td>\n",
              "      <td>https://santabarbara.craigslist.org/apa/d/sant...</td>\n",
              "      <td>santa barbara</td>\n",
              "      <td>https://santabarbara.craigslist.org</td>\n",
              "      <td>11350</td>\n",
              "      <td>house</td>\n",
              "      <td>1019856</td>\n",
              "      <td>5</td>\n",
              "      <td>4.0</td>\n",
              "      <td>1</td>\n",
              "      <td>...</td>\n",
              "      <td>1</td>\n",
              "      <td>laundry in bldg</td>\n",
              "      <td>attached garage</td>\n",
              "      <td>https://images.craigslist.org/00m0m_a6iuP3382d...</td>\n",
              "      <td>Stunning Ocean View and Gated Luxury Home with...</td>\n",
              "      <td>34.4478</td>\n",
              "      <td>-119.7030</td>\n",
              "      <td>ca</td>\n",
              "      <td>0</td>\n",
              "      <td>1</td>\n",
              "    </tr>\n",
              "    <tr>\n",
              "      <th>47651</th>\n",
              "      <td>7046395842</td>\n",
              "      <td>https://santabarbara.craigslist.org/apa/d/sant...</td>\n",
              "      <td>santa barbara</td>\n",
              "      <td>https://santabarbara.craigslist.org</td>\n",
              "      <td>7250</td>\n",
              "      <td>house</td>\n",
              "      <td>1019856</td>\n",
              "      <td>4</td>\n",
              "      <td>2.0</td>\n",
              "      <td>1</td>\n",
              "      <td>...</td>\n",
              "      <td>1</td>\n",
              "      <td>laundry in bldg</td>\n",
              "      <td>attached garage</td>\n",
              "      <td>https://images.craigslist.org/00k0k_lqGX8GjJBg...</td>\n",
              "      <td>WALK EVERYWHERE IN SANTA BARBARA! Wonderfully ...</td>\n",
              "      <td>34.4308</td>\n",
              "      <td>-119.7020</td>\n",
              "      <td>ca</td>\n",
              "      <td>0</td>\n",
              "      <td>1</td>\n",
              "    </tr>\n",
              "    <tr>\n",
              "      <th>241443</th>\n",
              "      <td>7046343123</td>\n",
              "      <td>https://syracuse.craigslist.org/apa/d/syracuse...</td>\n",
              "      <td>syracuse</td>\n",
              "      <td>https://syracuse.craigslist.org</td>\n",
              "      <td>625</td>\n",
              "      <td>duplex</td>\n",
              "      <td>999999</td>\n",
              "      <td>1</td>\n",
              "      <td>1.0</td>\n",
              "      <td>0</td>\n",
              "      <td>...</td>\n",
              "      <td>0</td>\n",
              "      <td>None</td>\n",
              "      <td>off-street parking</td>\n",
              "      <td>https://images.craigslist.org/00F0F_bmaTZRhAVn...</td>\n",
              "      <td>Rowland St Street | Apt 2 | Syracuse, NY 13204...</td>\n",
              "      <td>43.0444</td>\n",
              "      <td>-76.1758</td>\n",
              "      <td>ny</td>\n",
              "      <td>1</td>\n",
              "      <td>1</td>\n",
              "    </tr>\n",
              "    <tr>\n",
              "      <th>41478</th>\n",
              "      <td>7048286226</td>\n",
              "      <td>https://newlondon.craigslist.org/apa/d/new-lon...</td>\n",
              "      <td>eastern CT</td>\n",
              "      <td>https://newlondon.craigslist.org</td>\n",
              "      <td>750</td>\n",
              "      <td>apartment</td>\n",
              "      <td>999999</td>\n",
              "      <td>1</td>\n",
              "      <td>1.0</td>\n",
              "      <td>0</td>\n",
              "      <td>...</td>\n",
              "      <td>0</td>\n",
              "      <td>laundry in bldg</td>\n",
              "      <td>off-street parking</td>\n",
              "      <td>https://images.craigslist.org/00H0H_3MbpR6z8x0...</td>\n",
              "      <td>Various one bedroom apartments All remodeled, ...</td>\n",
              "      <td>41.3507</td>\n",
              "      <td>-72.1062</td>\n",
              "      <td>ct</td>\n",
              "      <td>1</td>\n",
              "      <td>1</td>\n",
              "    </tr>\n",
              "    <tr>\n",
              "      <th>...</th>\n",
              "      <td>...</td>\n",
              "      <td>...</td>\n",
              "      <td>...</td>\n",
              "      <td>...</td>\n",
              "      <td>...</td>\n",
              "      <td>...</td>\n",
              "      <td>...</td>\n",
              "      <td>...</td>\n",
              "      <td>...</td>\n",
              "      <td>...</td>\n",
              "      <td>...</td>\n",
              "      <td>...</td>\n",
              "      <td>...</td>\n",
              "      <td>...</td>\n",
              "      <td>...</td>\n",
              "      <td>...</td>\n",
              "      <td>...</td>\n",
              "      <td>...</td>\n",
              "      <td>...</td>\n",
              "      <td>...</td>\n",
              "      <td>...</td>\n",
              "    </tr>\n",
              "    <tr>\n",
              "      <th>124652</th>\n",
              "      <td>7039526517</td>\n",
              "      <td>https://boston.craigslist.org/gbs/apa/d/watert...</td>\n",
              "      <td>boston</td>\n",
              "      <td>https://boston.craigslist.org</td>\n",
              "      <td>2500</td>\n",
              "      <td>apartment</td>\n",
              "      <td>0</td>\n",
              "      <td>2</td>\n",
              "      <td>2.5</td>\n",
              "      <td>0</td>\n",
              "      <td>...</td>\n",
              "      <td>0</td>\n",
              "      <td>w/d in unit</td>\n",
              "      <td>street parking</td>\n",
              "      <td>https://images.craigslist.org/00l0l_jUWnSxUubm...</td>\n",
              "      <td>NO BROKER FEE!  1. *Available- January 1st, 20...</td>\n",
              "      <td>42.3677</td>\n",
              "      <td>-71.1879</td>\n",
              "      <td>ma</td>\n",
              "      <td>0</td>\n",
              "      <td>1</td>\n",
              "    </tr>\n",
              "    <tr>\n",
              "      <th>142634</th>\n",
              "      <td>7049105318</td>\n",
              "      <td>https://nashville.craigslist.org/apa/d/nashvil...</td>\n",
              "      <td>nashville</td>\n",
              "      <td>https://nashville.craigslist.org</td>\n",
              "      <td>1040</td>\n",
              "      <td>apartment</td>\n",
              "      <td>0</td>\n",
              "      <td>2</td>\n",
              "      <td>1.0</td>\n",
              "      <td>1</td>\n",
              "      <td>...</td>\n",
              "      <td>0</td>\n",
              "      <td>laundry on site</td>\n",
              "      <td>None</td>\n",
              "      <td>https://images.craigslist.org/00R0R_kFU3kboYnd...</td>\n",
              "      <td>POP IN FOR OUR OPEN HOUSE !!! COME AND TAKE A ...</td>\n",
              "      <td>36.0725</td>\n",
              "      <td>-86.7240</td>\n",
              "      <td>tn</td>\n",
              "      <td>0</td>\n",
              "      <td>2</td>\n",
              "    </tr>\n",
              "    <tr>\n",
              "      <th>197290</th>\n",
              "      <td>7031904235</td>\n",
              "      <td>https://honolulu.craigslist.org/oah/apa/d/hono...</td>\n",
              "      <td>hawaii</td>\n",
              "      <td>https://honolulu.craigslist.org</td>\n",
              "      <td>1995</td>\n",
              "      <td>cottage/cabin</td>\n",
              "      <td>0</td>\n",
              "      <td>2</td>\n",
              "      <td>1.0</td>\n",
              "      <td>0</td>\n",
              "      <td>...</td>\n",
              "      <td>0</td>\n",
              "      <td>None</td>\n",
              "      <td>None</td>\n",
              "      <td>https://images.craigslist.org/00U0U_ddIcqmk764...</td>\n",
              "      <td>Remodeled Two Bedrooms/One Bath/One Parking Gr...</td>\n",
              "      <td>21.2735</td>\n",
              "      <td>-157.8060</td>\n",
              "      <td>hi</td>\n",
              "      <td>0</td>\n",
              "      <td>1</td>\n",
              "    </tr>\n",
              "    <tr>\n",
              "      <th>99563</th>\n",
              "      <td>7039387979</td>\n",
              "      <td>https://lakeland.craigslist.org/apa/d/huge-lak...</td>\n",
              "      <td>lakeland</td>\n",
              "      <td>https://lakeland.craigslist.org</td>\n",
              "      <td>1200</td>\n",
              "      <td>manufactured</td>\n",
              "      <td>0</td>\n",
              "      <td>3</td>\n",
              "      <td>2.0</td>\n",
              "      <td>1</td>\n",
              "      <td>...</td>\n",
              "      <td>0</td>\n",
              "      <td>w/d hookups</td>\n",
              "      <td>off-street parking</td>\n",
              "      <td>https://images.craigslist.org/00l0l_fMNR7R9BLc...</td>\n",
              "      <td>*LARGE 3BR/2BA DOUBLE WIDE MOBILE HOME LAKLEAN...</td>\n",
              "      <td>NaN</td>\n",
              "      <td>NaN</td>\n",
              "      <td>fl</td>\n",
              "      <td>0</td>\n",
              "      <td>1</td>\n",
              "    </tr>\n",
              "    <tr>\n",
              "      <th>45445</th>\n",
              "      <td>7042564282</td>\n",
              "      <td>https://inlandempire.craigslist.org/apa/d/more...</td>\n",
              "      <td>inland empire</td>\n",
              "      <td>https://inlandempire.craigslist.org</td>\n",
              "      <td>2228</td>\n",
              "      <td>house</td>\n",
              "      <td>0</td>\n",
              "      <td>4</td>\n",
              "      <td>2.5</td>\n",
              "      <td>1</td>\n",
              "      <td>...</td>\n",
              "      <td>0</td>\n",
              "      <td>w/d hookups</td>\n",
              "      <td>attached garage</td>\n",
              "      <td>https://images.craigslist.org/00Y0Y_e0fkw0mxtw...</td>\n",
              "      <td>Month in and month out you pay rent to your La...</td>\n",
              "      <td>33.9182</td>\n",
              "      <td>-117.1560</td>\n",
              "      <td>ca</td>\n",
              "      <td>0</td>\n",
              "      <td>1</td>\n",
              "    </tr>\n",
              "  </tbody>\n",
              "</table>\n",
              "<p>167653 rows × 24 columns</p>\n",
              "</div>\n",
              "      <button class=\"colab-df-convert\" onclick=\"convertToInteractive('df-42706dd5-e378-4518-ada2-7dae14ebc200')\"\n",
              "              title=\"Convert this dataframe to an interactive table.\"\n",
              "              style=\"display:none;\">\n",
              "        \n",
              "  <svg xmlns=\"http://www.w3.org/2000/svg\" height=\"24px\"viewBox=\"0 0 24 24\"\n",
              "       width=\"24px\">\n",
              "    <path d=\"M0 0h24v24H0V0z\" fill=\"none\"/>\n",
              "    <path d=\"M18.56 5.44l.94 2.06.94-2.06 2.06-.94-2.06-.94-.94-2.06-.94 2.06-2.06.94zm-11 1L8.5 8.5l.94-2.06 2.06-.94-2.06-.94L8.5 2.5l-.94 2.06-2.06.94zm10 10l.94 2.06.94-2.06 2.06-.94-2.06-.94-.94-2.06-.94 2.06-2.06.94z\"/><path d=\"M17.41 7.96l-1.37-1.37c-.4-.4-.92-.59-1.43-.59-.52 0-1.04.2-1.43.59L10.3 9.45l-7.72 7.72c-.78.78-.78 2.05 0 2.83L4 21.41c.39.39.9.59 1.41.59.51 0 1.02-.2 1.41-.59l7.78-7.78 2.81-2.81c.8-.78.8-2.07 0-2.86zM5.41 20L4 18.59l7.72-7.72 1.47 1.35L5.41 20z\"/>\n",
              "  </svg>\n",
              "      </button>\n",
              "      \n",
              "  <style>\n",
              "    .colab-df-container {\n",
              "      display:flex;\n",
              "      flex-wrap:wrap;\n",
              "      gap: 12px;\n",
              "    }\n",
              "\n",
              "    .colab-df-convert {\n",
              "      background-color: #E8F0FE;\n",
              "      border: none;\n",
              "      border-radius: 50%;\n",
              "      cursor: pointer;\n",
              "      display: none;\n",
              "      fill: #1967D2;\n",
              "      height: 32px;\n",
              "      padding: 0 0 0 0;\n",
              "      width: 32px;\n",
              "    }\n",
              "\n",
              "    .colab-df-convert:hover {\n",
              "      background-color: #E2EBFA;\n",
              "      box-shadow: 0px 1px 2px rgba(60, 64, 67, 0.3), 0px 1px 3px 1px rgba(60, 64, 67, 0.15);\n",
              "      fill: #174EA6;\n",
              "    }\n",
              "\n",
              "    [theme=dark] .colab-df-convert {\n",
              "      background-color: #3B4455;\n",
              "      fill: #D2E3FC;\n",
              "    }\n",
              "\n",
              "    [theme=dark] .colab-df-convert:hover {\n",
              "      background-color: #434B5C;\n",
              "      box-shadow: 0px 1px 3px 1px rgba(0, 0, 0, 0.15);\n",
              "      filter: drop-shadow(0px 1px 2px rgba(0, 0, 0, 0.3));\n",
              "      fill: #FFFFFF;\n",
              "    }\n",
              "  </style>\n",
              "\n",
              "      <script>\n",
              "        const buttonEl =\n",
              "          document.querySelector('#df-42706dd5-e378-4518-ada2-7dae14ebc200 button.colab-df-convert');\n",
              "        buttonEl.style.display =\n",
              "          google.colab.kernel.accessAllowed ? 'block' : 'none';\n",
              "\n",
              "        async function convertToInteractive(key) {\n",
              "          const element = document.querySelector('#df-42706dd5-e378-4518-ada2-7dae14ebc200');\n",
              "          const dataTable =\n",
              "            await google.colab.kernel.invokeFunction('convertToInteractive',\n",
              "                                                     [key], {});\n",
              "          if (!dataTable) return;\n",
              "\n",
              "          const docLinkHtml = 'Like what you see? Visit the ' +\n",
              "            '<a target=\"_blank\" href=https://colab.research.google.com/notebooks/data_table.ipynb>data table notebook</a>'\n",
              "            + ' to learn more about interactive tables.';\n",
              "          element.innerHTML = '';\n",
              "          dataTable['output_type'] = 'display_data';\n",
              "          await google.colab.output.renderOutput(dataTable, element);\n",
              "          const docLink = document.createElement('div');\n",
              "          docLink.innerHTML = docLinkHtml;\n",
              "          element.appendChild(docLink);\n",
              "        }\n",
              "      </script>\n",
              "    </div>\n",
              "  </div>\n",
              "  "
            ]
          },
          "metadata": {},
          "execution_count": 35
        }
      ]
    },
    {
      "cell_type": "markdown",
      "source": [
        "Se analiza la columna de square feet en un dataset de viviendas en alquiler en Estados Unidos y se consideran como errores los valores superiores a 50.000 y valores muy bajos, ya que no se ajustan al promedio encontrado en artículos de referencia. Se utilizará el método del Rango Intercuartílico para calcular los outliers."
      ],
      "metadata": {
        "id": "2RE_vA7T7I-C"
      }
    },
    {
      "cell_type": "markdown",
      "source": [
        "La función comienza ordenando los valores de la columna de datos (datacolumn) utilizando el método \"sorted\".\n",
        "Luego, utiliza la función \"percentile\" de numpy para calcular el primer y tercer cuartil (Q1 y Q3) de la columna de datos.\n",
        "El rango intercuartil (IQR) se calcula restando Q1-Q3.\n",
        "Luego, se calcula el rango inferior (lower_range) y el rango superior (upper_range) utilizando los valores de IQR y multiplicando por 1.5.\n",
        "La función finalmente devuelve los valores de lower_range y upper_range."
      ],
      "metadata": {
        "id": "GQK2RtA7TeOK"
      }
    },
    {
      "cell_type": "code",
      "source": [
        "#Definimos una función para detectar outliers(valores atipicos)\n",
        "def outlier_treatment(datacolumn):\n",
        "    sorted(datacolumn) \n",
        "    Q1,Q3 = np.percentile(datacolumn , [25,75])\n",
        "    IQR = Q3 - Q1\n",
        "    lower_range = Q1 - (1.5 * IQR)\n",
        "    upper_range = Q3 + (1.5 * IQR)\n",
        "    return lower_range,upper_range"
      ],
      "metadata": {
        "id": "_yy3zRDrHkiO"
      },
      "execution_count": null,
      "outputs": []
    },
    {
      "cell_type": "code",
      "source": [
        "# Obtenemos los valores límites inferior y superior\n",
        "lowerbound,upperbound = outlier_treatment(train.sqfeet)\n",
        "print (\"Lower:\",lowerbound,\" \",\"Upper\",upperbound)"
      ],
      "metadata": {
        "colab": {
          "base_uri": "https://localhost:8080/"
        },
        "id": "fRTeABKTT2dn",
        "outputId": "e238dd77-e550-469a-c5c6-c3e162abf697"
      },
      "execution_count": null,
      "outputs": [
        {
          "output_type": "stream",
          "name": "stdout",
          "text": [
            "Lower: 75.0   Upper 1875.0\n"
          ]
        }
      ]
    },
    {
      "cell_type": "code",
      "source": [
        "#Obtenemos algunos ejemplos de outliers\n",
        "train[(train.sqfeet < lowerbound) | (train.sqfeet > upperbound)]"
      ],
      "metadata": {
        "colab": {
          "base_uri": "https://localhost:8080/",
          "height": 1000
        },
        "id": "QAvnwXA9UGZn",
        "outputId": "ffe2b3e6-f937-423e-888a-ec059d7881ea"
      },
      "execution_count": null,
      "outputs": [
        {
          "output_type": "execute_result",
          "data": {
            "text/plain": [
              "                id                                                url  \\\n",
              "33      7032658920  https://prescott.craigslist.org/apa/d/prescott...   \n",
              "42      7043485903  https://albany.craigslist.org/apa/d/albany-roo...   \n",
              "48      7024919810  https://treasure.craigslist.org/apa/d/port-sai...   \n",
              "74      7044025591  https://sandiego.craigslist.org/csd/apa/d/san-...   \n",
              "144     7048383653  https://reno.craigslist.org/apa/d/sparks-6578-...   \n",
              "...            ...                                                ...   \n",
              "346026  7046428127  https://honolulu.craigslist.org/oah/apa/d/hono...   \n",
              "346192  7015150936  https://charlottesville.craigslist.org/apa/d/c...   \n",
              "346216  7035130210  https://sarasota.craigslist.org/apa/d/venice-2...   \n",
              "346338  7050590699  https://harrisburg.craigslist.org/apa/d/carlis...   \n",
              "346447  7023150486  https://chattanooga.craigslist.org/apa/d/signa...   \n",
              "\n",
              "                    region                              region_url  price  \\\n",
              "33                prescott         https://prescott.craigslist.org   2500   \n",
              "42                  albany           https://albany.craigslist.org   2975   \n",
              "48          treasure coast         https://treasure.craigslist.org   1750   \n",
              "74               san diego         https://sandiego.craigslist.org   4500   \n",
              "144           reno / tahoe             https://reno.craigslist.org   1995   \n",
              "...                    ...                                     ...    ...   \n",
              "346026              hawaii         https://honolulu.craigslist.org   4500   \n",
              "346192     charlottesville  https://charlottesville.craigslist.org   2275   \n",
              "346216  sarasota-bradenton         https://sarasota.craigslist.org   1650   \n",
              "346338          harrisburg       https://harrisburg.craigslist.org   1025   \n",
              "346447         chattanooga      https://chattanooga.craigslist.org   2250   \n",
              "\n",
              "             type  sqfeet  beds  baths  cats_allowed  ...  comes_furnished  \\\n",
              "33          house    3622     3    2.0             1  ...                0   \n",
              "42      apartment    1946     2    2.0             1  ...                0   \n",
              "48          house    2424     3    2.0             0  ...                0   \n",
              "74      apartment    2000     3    2.5             0  ...                1   \n",
              "144         house    2172     3    3.5             0  ...                0   \n",
              "...           ...     ...   ...    ...           ...  ...              ...   \n",
              "346026      house    1950     3    2.0             1  ...                0   \n",
              "346192      house    3536     4    3.0             0  ...                0   \n",
              "346216      house    2043     2    2.0             0  ...                0   \n",
              "346338      condo    1883     4    2.0             0  ...                0   \n",
              "346447      house    2268     3    2.0             1  ...                0   \n",
              "\n",
              "        laundry_options     parking_options  \\\n",
              "33          w/d in unit     attached garage   \n",
              "42          w/d in unit     detached garage   \n",
              "48                 None                None   \n",
              "74          w/d in unit     attached garage   \n",
              "144         w/d hookups     attached garage   \n",
              "...                 ...                 ...   \n",
              "346026      w/d in unit             carport   \n",
              "346192      w/d in unit  off-street parking   \n",
              "346216      w/d in unit     attached garage   \n",
              "346338             None                None   \n",
              "346447      w/d in unit     attached garage   \n",
              "\n",
              "                                                image_url  \\\n",
              "33      https://images.craigslist.org/00D0D_6FAXLgugIp...   \n",
              "42      https://images.craigslist.org/00a0a_5p2eIdMlBN...   \n",
              "48      https://images.craigslist.org/00w0w_43uLLx92Pb...   \n",
              "74      https://images.craigslist.org/00P0P_aUxDoj4L4M...   \n",
              "144     https://images.craigslist.org/00U0U_c6Td50scIz...   \n",
              "...                                                   ...   \n",
              "346026  https://images.craigslist.org/00m0m_cF4sBpSiEe...   \n",
              "346192  https://images.craigslist.org/00i0i_3ckkrYFzQ4...   \n",
              "346216  https://images.craigslist.org/00C0C_5fp3PRC8Yk...   \n",
              "346338  https://images.craigslist.org/00v0v_bpPVCDZJhL...   \n",
              "346447  https://images.craigslist.org/00W0W_3YuqZlbfFl...   \n",
              "\n",
              "                                              description      lat      long  \\\n",
              "33      Ranch at Prescott home backs to the Prescott N...  34.4958 -112.3780   \n",
              "42      ***If you are inquiring by email, please inclu...  42.6362  -73.7545   \n",
              "48      Beautiful PSL Home. Back patio will be refurbi...  27.2889  -80.2980   \n",
              "74      Newer Condo (build in 2008) with Ocean Views. ...  32.7927 -117.2540   \n",
              "144     6578 Aston Circle Sparks NV 89436             ...  39.6132 -119.6910   \n",
              "...                                                   ...      ...       ...   \n",
              "346026  This gorgeous three-bedroom two bath single fa...  21.3117 -157.8300   \n",
              "346192  Short or Long term considered ( min 4 months w...  38.0580  -78.4411   \n",
              "346216  Annual Rental 2BR/2BA/2CG single family home i...  27.0791  -82.3889   \n",
              "346338  A park-like setting surrounds this updated cha...  40.2526  -77.2002   \n",
              "346447  Beautiful, spacious, 3 bdrm, 2 bath home. Big ...  35.1732  -85.3338   \n",
              "\n",
              "       state category_price  publicaciones  \n",
              "33        az              0              1  \n",
              "42        ny              0              2  \n",
              "48        fl              0              1  \n",
              "74        ca              0              3  \n",
              "144       ca              0              9  \n",
              "...      ...            ...            ...  \n",
              "346026    hi              0              1  \n",
              "346192    va              0              1  \n",
              "346216    fl              0              1  \n",
              "346338    pa              0              1  \n",
              "346447    tn              0              1  \n",
              "\n",
              "[8461 rows x 24 columns]"
            ],
            "text/html": [
              "\n",
              "  <div id=\"df-142ab227-108d-4d3c-bfb9-f4bd320c3bcd\">\n",
              "    <div class=\"colab-df-container\">\n",
              "      <div>\n",
              "<style scoped>\n",
              "    .dataframe tbody tr th:only-of-type {\n",
              "        vertical-align: middle;\n",
              "    }\n",
              "\n",
              "    .dataframe tbody tr th {\n",
              "        vertical-align: top;\n",
              "    }\n",
              "\n",
              "    .dataframe thead th {\n",
              "        text-align: right;\n",
              "    }\n",
              "</style>\n",
              "<table border=\"1\" class=\"dataframe\">\n",
              "  <thead>\n",
              "    <tr style=\"text-align: right;\">\n",
              "      <th></th>\n",
              "      <th>id</th>\n",
              "      <th>url</th>\n",
              "      <th>region</th>\n",
              "      <th>region_url</th>\n",
              "      <th>price</th>\n",
              "      <th>type</th>\n",
              "      <th>sqfeet</th>\n",
              "      <th>beds</th>\n",
              "      <th>baths</th>\n",
              "      <th>cats_allowed</th>\n",
              "      <th>...</th>\n",
              "      <th>comes_furnished</th>\n",
              "      <th>laundry_options</th>\n",
              "      <th>parking_options</th>\n",
              "      <th>image_url</th>\n",
              "      <th>description</th>\n",
              "      <th>lat</th>\n",
              "      <th>long</th>\n",
              "      <th>state</th>\n",
              "      <th>category_price</th>\n",
              "      <th>publicaciones</th>\n",
              "    </tr>\n",
              "  </thead>\n",
              "  <tbody>\n",
              "    <tr>\n",
              "      <th>33</th>\n",
              "      <td>7032658920</td>\n",
              "      <td>https://prescott.craigslist.org/apa/d/prescott...</td>\n",
              "      <td>prescott</td>\n",
              "      <td>https://prescott.craigslist.org</td>\n",
              "      <td>2500</td>\n",
              "      <td>house</td>\n",
              "      <td>3622</td>\n",
              "      <td>3</td>\n",
              "      <td>2.0</td>\n",
              "      <td>1</td>\n",
              "      <td>...</td>\n",
              "      <td>0</td>\n",
              "      <td>w/d in unit</td>\n",
              "      <td>attached garage</td>\n",
              "      <td>https://images.craigslist.org/00D0D_6FAXLgugIp...</td>\n",
              "      <td>Ranch at Prescott home backs to the Prescott N...</td>\n",
              "      <td>34.4958</td>\n",
              "      <td>-112.3780</td>\n",
              "      <td>az</td>\n",
              "      <td>0</td>\n",
              "      <td>1</td>\n",
              "    </tr>\n",
              "    <tr>\n",
              "      <th>42</th>\n",
              "      <td>7043485903</td>\n",
              "      <td>https://albany.craigslist.org/apa/d/albany-roo...</td>\n",
              "      <td>albany</td>\n",
              "      <td>https://albany.craigslist.org</td>\n",
              "      <td>2975</td>\n",
              "      <td>apartment</td>\n",
              "      <td>1946</td>\n",
              "      <td>2</td>\n",
              "      <td>2.0</td>\n",
              "      <td>1</td>\n",
              "      <td>...</td>\n",
              "      <td>0</td>\n",
              "      <td>w/d in unit</td>\n",
              "      <td>detached garage</td>\n",
              "      <td>https://images.craigslist.org/00a0a_5p2eIdMlBN...</td>\n",
              "      <td>***If you are inquiring by email, please inclu...</td>\n",
              "      <td>42.6362</td>\n",
              "      <td>-73.7545</td>\n",
              "      <td>ny</td>\n",
              "      <td>0</td>\n",
              "      <td>2</td>\n",
              "    </tr>\n",
              "    <tr>\n",
              "      <th>48</th>\n",
              "      <td>7024919810</td>\n",
              "      <td>https://treasure.craigslist.org/apa/d/port-sai...</td>\n",
              "      <td>treasure coast</td>\n",
              "      <td>https://treasure.craigslist.org</td>\n",
              "      <td>1750</td>\n",
              "      <td>house</td>\n",
              "      <td>2424</td>\n",
              "      <td>3</td>\n",
              "      <td>2.0</td>\n",
              "      <td>0</td>\n",
              "      <td>...</td>\n",
              "      <td>0</td>\n",
              "      <td>None</td>\n",
              "      <td>None</td>\n",
              "      <td>https://images.craigslist.org/00w0w_43uLLx92Pb...</td>\n",
              "      <td>Beautiful PSL Home. Back patio will be refurbi...</td>\n",
              "      <td>27.2889</td>\n",
              "      <td>-80.2980</td>\n",
              "      <td>fl</td>\n",
              "      <td>0</td>\n",
              "      <td>1</td>\n",
              "    </tr>\n",
              "    <tr>\n",
              "      <th>74</th>\n",
              "      <td>7044025591</td>\n",
              "      <td>https://sandiego.craigslist.org/csd/apa/d/san-...</td>\n",
              "      <td>san diego</td>\n",
              "      <td>https://sandiego.craigslist.org</td>\n",
              "      <td>4500</td>\n",
              "      <td>apartment</td>\n",
              "      <td>2000</td>\n",
              "      <td>3</td>\n",
              "      <td>2.5</td>\n",
              "      <td>0</td>\n",
              "      <td>...</td>\n",
              "      <td>1</td>\n",
              "      <td>w/d in unit</td>\n",
              "      <td>attached garage</td>\n",
              "      <td>https://images.craigslist.org/00P0P_aUxDoj4L4M...</td>\n",
              "      <td>Newer Condo (build in 2008) with Ocean Views. ...</td>\n",
              "      <td>32.7927</td>\n",
              "      <td>-117.2540</td>\n",
              "      <td>ca</td>\n",
              "      <td>0</td>\n",
              "      <td>3</td>\n",
              "    </tr>\n",
              "    <tr>\n",
              "      <th>144</th>\n",
              "      <td>7048383653</td>\n",
              "      <td>https://reno.craigslist.org/apa/d/sparks-6578-...</td>\n",
              "      <td>reno / tahoe</td>\n",
              "      <td>https://reno.craigslist.org</td>\n",
              "      <td>1995</td>\n",
              "      <td>house</td>\n",
              "      <td>2172</td>\n",
              "      <td>3</td>\n",
              "      <td>3.5</td>\n",
              "      <td>0</td>\n",
              "      <td>...</td>\n",
              "      <td>0</td>\n",
              "      <td>w/d hookups</td>\n",
              "      <td>attached garage</td>\n",
              "      <td>https://images.craigslist.org/00U0U_c6Td50scIz...</td>\n",
              "      <td>6578 Aston Circle Sparks NV 89436             ...</td>\n",
              "      <td>39.6132</td>\n",
              "      <td>-119.6910</td>\n",
              "      <td>ca</td>\n",
              "      <td>0</td>\n",
              "      <td>9</td>\n",
              "    </tr>\n",
              "    <tr>\n",
              "      <th>...</th>\n",
              "      <td>...</td>\n",
              "      <td>...</td>\n",
              "      <td>...</td>\n",
              "      <td>...</td>\n",
              "      <td>...</td>\n",
              "      <td>...</td>\n",
              "      <td>...</td>\n",
              "      <td>...</td>\n",
              "      <td>...</td>\n",
              "      <td>...</td>\n",
              "      <td>...</td>\n",
              "      <td>...</td>\n",
              "      <td>...</td>\n",
              "      <td>...</td>\n",
              "      <td>...</td>\n",
              "      <td>...</td>\n",
              "      <td>...</td>\n",
              "      <td>...</td>\n",
              "      <td>...</td>\n",
              "      <td>...</td>\n",
              "      <td>...</td>\n",
              "    </tr>\n",
              "    <tr>\n",
              "      <th>346026</th>\n",
              "      <td>7046428127</td>\n",
              "      <td>https://honolulu.craigslist.org/oah/apa/d/hono...</td>\n",
              "      <td>hawaii</td>\n",
              "      <td>https://honolulu.craigslist.org</td>\n",
              "      <td>4500</td>\n",
              "      <td>house</td>\n",
              "      <td>1950</td>\n",
              "      <td>3</td>\n",
              "      <td>2.0</td>\n",
              "      <td>1</td>\n",
              "      <td>...</td>\n",
              "      <td>0</td>\n",
              "      <td>w/d in unit</td>\n",
              "      <td>carport</td>\n",
              "      <td>https://images.craigslist.org/00m0m_cF4sBpSiEe...</td>\n",
              "      <td>This gorgeous three-bedroom two bath single fa...</td>\n",
              "      <td>21.3117</td>\n",
              "      <td>-157.8300</td>\n",
              "      <td>hi</td>\n",
              "      <td>0</td>\n",
              "      <td>1</td>\n",
              "    </tr>\n",
              "    <tr>\n",
              "      <th>346192</th>\n",
              "      <td>7015150936</td>\n",
              "      <td>https://charlottesville.craigslist.org/apa/d/c...</td>\n",
              "      <td>charlottesville</td>\n",
              "      <td>https://charlottesville.craigslist.org</td>\n",
              "      <td>2275</td>\n",
              "      <td>house</td>\n",
              "      <td>3536</td>\n",
              "      <td>4</td>\n",
              "      <td>3.0</td>\n",
              "      <td>0</td>\n",
              "      <td>...</td>\n",
              "      <td>0</td>\n",
              "      <td>w/d in unit</td>\n",
              "      <td>off-street parking</td>\n",
              "      <td>https://images.craigslist.org/00i0i_3ckkrYFzQ4...</td>\n",
              "      <td>Short or Long term considered ( min 4 months w...</td>\n",
              "      <td>38.0580</td>\n",
              "      <td>-78.4411</td>\n",
              "      <td>va</td>\n",
              "      <td>0</td>\n",
              "      <td>1</td>\n",
              "    </tr>\n",
              "    <tr>\n",
              "      <th>346216</th>\n",
              "      <td>7035130210</td>\n",
              "      <td>https://sarasota.craigslist.org/apa/d/venice-2...</td>\n",
              "      <td>sarasota-bradenton</td>\n",
              "      <td>https://sarasota.craigslist.org</td>\n",
              "      <td>1650</td>\n",
              "      <td>house</td>\n",
              "      <td>2043</td>\n",
              "      <td>2</td>\n",
              "      <td>2.0</td>\n",
              "      <td>0</td>\n",
              "      <td>...</td>\n",
              "      <td>0</td>\n",
              "      <td>w/d in unit</td>\n",
              "      <td>attached garage</td>\n",
              "      <td>https://images.craigslist.org/00C0C_5fp3PRC8Yk...</td>\n",
              "      <td>Annual Rental 2BR/2BA/2CG single family home i...</td>\n",
              "      <td>27.0791</td>\n",
              "      <td>-82.3889</td>\n",
              "      <td>fl</td>\n",
              "      <td>0</td>\n",
              "      <td>1</td>\n",
              "    </tr>\n",
              "    <tr>\n",
              "      <th>346338</th>\n",
              "      <td>7050590699</td>\n",
              "      <td>https://harrisburg.craigslist.org/apa/d/carlis...</td>\n",
              "      <td>harrisburg</td>\n",
              "      <td>https://harrisburg.craigslist.org</td>\n",
              "      <td>1025</td>\n",
              "      <td>condo</td>\n",
              "      <td>1883</td>\n",
              "      <td>4</td>\n",
              "      <td>2.0</td>\n",
              "      <td>0</td>\n",
              "      <td>...</td>\n",
              "      <td>0</td>\n",
              "      <td>None</td>\n",
              "      <td>None</td>\n",
              "      <td>https://images.craigslist.org/00v0v_bpPVCDZJhL...</td>\n",
              "      <td>A park-like setting surrounds this updated cha...</td>\n",
              "      <td>40.2526</td>\n",
              "      <td>-77.2002</td>\n",
              "      <td>pa</td>\n",
              "      <td>0</td>\n",
              "      <td>1</td>\n",
              "    </tr>\n",
              "    <tr>\n",
              "      <th>346447</th>\n",
              "      <td>7023150486</td>\n",
              "      <td>https://chattanooga.craigslist.org/apa/d/signa...</td>\n",
              "      <td>chattanooga</td>\n",
              "      <td>https://chattanooga.craigslist.org</td>\n",
              "      <td>2250</td>\n",
              "      <td>house</td>\n",
              "      <td>2268</td>\n",
              "      <td>3</td>\n",
              "      <td>2.0</td>\n",
              "      <td>1</td>\n",
              "      <td>...</td>\n",
              "      <td>0</td>\n",
              "      <td>w/d in unit</td>\n",
              "      <td>attached garage</td>\n",
              "      <td>https://images.craigslist.org/00W0W_3YuqZlbfFl...</td>\n",
              "      <td>Beautiful, spacious, 3 bdrm, 2 bath home. Big ...</td>\n",
              "      <td>35.1732</td>\n",
              "      <td>-85.3338</td>\n",
              "      <td>tn</td>\n",
              "      <td>0</td>\n",
              "      <td>1</td>\n",
              "    </tr>\n",
              "  </tbody>\n",
              "</table>\n",
              "<p>8461 rows × 24 columns</p>\n",
              "</div>\n",
              "      <button class=\"colab-df-convert\" onclick=\"convertToInteractive('df-142ab227-108d-4d3c-bfb9-f4bd320c3bcd')\"\n",
              "              title=\"Convert this dataframe to an interactive table.\"\n",
              "              style=\"display:none;\">\n",
              "        \n",
              "  <svg xmlns=\"http://www.w3.org/2000/svg\" height=\"24px\"viewBox=\"0 0 24 24\"\n",
              "       width=\"24px\">\n",
              "    <path d=\"M0 0h24v24H0V0z\" fill=\"none\"/>\n",
              "    <path d=\"M18.56 5.44l.94 2.06.94-2.06 2.06-.94-2.06-.94-.94-2.06-.94 2.06-2.06.94zm-11 1L8.5 8.5l.94-2.06 2.06-.94-2.06-.94L8.5 2.5l-.94 2.06-2.06.94zm10 10l.94 2.06.94-2.06 2.06-.94-2.06-.94-.94-2.06-.94 2.06-2.06.94z\"/><path d=\"M17.41 7.96l-1.37-1.37c-.4-.4-.92-.59-1.43-.59-.52 0-1.04.2-1.43.59L10.3 9.45l-7.72 7.72c-.78.78-.78 2.05 0 2.83L4 21.41c.39.39.9.59 1.41.59.51 0 1.02-.2 1.41-.59l7.78-7.78 2.81-2.81c.8-.78.8-2.07 0-2.86zM5.41 20L4 18.59l7.72-7.72 1.47 1.35L5.41 20z\"/>\n",
              "  </svg>\n",
              "      </button>\n",
              "      \n",
              "  <style>\n",
              "    .colab-df-container {\n",
              "      display:flex;\n",
              "      flex-wrap:wrap;\n",
              "      gap: 12px;\n",
              "    }\n",
              "\n",
              "    .colab-df-convert {\n",
              "      background-color: #E8F0FE;\n",
              "      border: none;\n",
              "      border-radius: 50%;\n",
              "      cursor: pointer;\n",
              "      display: none;\n",
              "      fill: #1967D2;\n",
              "      height: 32px;\n",
              "      padding: 0 0 0 0;\n",
              "      width: 32px;\n",
              "    }\n",
              "\n",
              "    .colab-df-convert:hover {\n",
              "      background-color: #E2EBFA;\n",
              "      box-shadow: 0px 1px 2px rgba(60, 64, 67, 0.3), 0px 1px 3px 1px rgba(60, 64, 67, 0.15);\n",
              "      fill: #174EA6;\n",
              "    }\n",
              "\n",
              "    [theme=dark] .colab-df-convert {\n",
              "      background-color: #3B4455;\n",
              "      fill: #D2E3FC;\n",
              "    }\n",
              "\n",
              "    [theme=dark] .colab-df-convert:hover {\n",
              "      background-color: #434B5C;\n",
              "      box-shadow: 0px 1px 3px 1px rgba(0, 0, 0, 0.15);\n",
              "      filter: drop-shadow(0px 1px 2px rgba(0, 0, 0, 0.3));\n",
              "      fill: #FFFFFF;\n",
              "    }\n",
              "  </style>\n",
              "\n",
              "      <script>\n",
              "        const buttonEl =\n",
              "          document.querySelector('#df-142ab227-108d-4d3c-bfb9-f4bd320c3bcd button.colab-df-convert');\n",
              "        buttonEl.style.display =\n",
              "          google.colab.kernel.accessAllowed ? 'block' : 'none';\n",
              "\n",
              "        async function convertToInteractive(key) {\n",
              "          const element = document.querySelector('#df-142ab227-108d-4d3c-bfb9-f4bd320c3bcd');\n",
              "          const dataTable =\n",
              "            await google.colab.kernel.invokeFunction('convertToInteractive',\n",
              "                                                     [key], {});\n",
              "          if (!dataTable) return;\n",
              "\n",
              "          const docLinkHtml = 'Like what you see? Visit the ' +\n",
              "            '<a target=\"_blank\" href=https://colab.research.google.com/notebooks/data_table.ipynb>data table notebook</a>'\n",
              "            + ' to learn more about interactive tables.';\n",
              "          element.innerHTML = '';\n",
              "          dataTable['output_type'] = 'display_data';\n",
              "          await google.colab.output.renderOutput(dataTable, element);\n",
              "          const docLink = document.createElement('div');\n",
              "          docLink.innerHTML = docLinkHtml;\n",
              "          element.appendChild(docLink);\n",
              "        }\n",
              "      </script>\n",
              "    </div>\n",
              "  </div>\n",
              "  "
            ]
          },
          "metadata": {},
          "execution_count": 39
        }
      ]
    },
    {
      "cell_type": "code",
      "source": [
        "# Graficamos\n",
        "sns.boxplot(x=\"sqfeet\", data=train)"
      ],
      "metadata": {
        "colab": {
          "base_uri": "https://localhost:8080/",
          "height": 296
        },
        "id": "SzbHBhjMUoaO",
        "outputId": "5bcf63dd-83e4-4ab0-baae-46d6c4e2a23a"
      },
      "execution_count": null,
      "outputs": [
        {
          "output_type": "execute_result",
          "data": {
            "text/plain": [
              "<matplotlib.axes._subplots.AxesSubplot at 0x7f0a41a7ddc0>"
            ]
          },
          "metadata": {},
          "execution_count": 40
        },
        {
          "output_type": "display_data",
          "data": {
            "text/plain": [
              "<Figure size 432x288 with 1 Axes>"
            ],
            "image/png": "[encoded data removed]"
          },
          "metadata": {
            "needs_background": "light"
          }
        }
      ]
    },
    {
      "cell_type": "code",
      "source": [
        "\n",
        "# Graficamos sin outliers\n",
        "sns.boxplot(x = 'sqfeet', data = train, showfliers = False)"
      ],
      "metadata": {
        "colab": {
          "base_uri": "https://localhost:8080/",
          "height": 296
        },
        "id": "akjsJRTWUzUf",
        "outputId": "e501aefd-7fa4-40ed-fa28-aff03c0e7719"
      },
      "execution_count": null,
      "outputs": [
        {
          "output_type": "execute_result",
          "data": {
            "text/plain": [
              "<matplotlib.axes._subplots.AxesSubplot at 0x7f0a41a6da00>"
            ]
          },
          "metadata": {},
          "execution_count": 41
        },
        {
          "output_type": "display_data",
          "data": {
            "text/plain": [
              "<Figure size 432x288 with 1 Axes>"
            ],
            "image/png": "[encoded data removed]"
          },
          "metadata": {
            "needs_background": "light"
          }
        }
      ]
    },
    {
      "cell_type": "markdown",
      "source": [
        "Según las gráficas, hay una gran cantidad de valores erróneos en una columna de tamaño de viviendas en pies cuadrados. El valor mínimo de 75 pies cuadrados es muy bajo en comparación con los 200 pies cuadrados mencionados como mínimo habitable, y el valor máximo de 1.875 es inferior al promedio de tamaño de viviendas en Estados Unidos. Por lo tanto, se tomará un valor mínimo válido de 200 pies cuadrados y un valor máximo de 10,000 pies cuadrados, reemplazando los valores que excedan estos límites."
      ],
      "metadata": {
        "id": "Kk9YjJjkV0bN"
      }
    },
    {
      "cell_type": "code",
      "source": [
        "train['sqfeet'].mask(train['sqfeet'] < 200, 200, inplace=True)\n",
        "test['sqfeet'].mask(test['sqfeet'] < 200, 200, inplace=True)"
      ],
      "metadata": {
        "id": "kygrdKuIV_h2"
      },
      "execution_count": null,
      "outputs": []
    },
    {
      "cell_type": "code",
      "source": [
        "train['sqfeet'].mask(train['sqfeet'] > 10000, 10000, inplace=True)\n",
        "test['sqfeet'].mask(test['sqfeet'] > 10000, 10000, inplace=True)"
      ],
      "metadata": {
        "id": "cb2Rv3HQWSmv"
      },
      "execution_count": null,
      "outputs": []
    },
    {
      "cell_type": "code",
      "source": [
        "#Volvemos a graficar\n",
        "sns.boxplot(x=\"sqfeet\", data=train)"
      ],
      "metadata": {
        "colab": {
          "base_uri": "https://localhost:8080/",
          "height": 296
        },
        "id": "IZDUXfSQWmmG",
        "outputId": "e1f1dbed-ac1a-4304-dd00-d95450cb706b"
      },
      "execution_count": null,
      "outputs": [
        {
          "output_type": "execute_result",
          "data": {
            "text/plain": [
              "<matplotlib.axes._subplots.AxesSubplot at 0x7f0a419c7bb0>"
            ]
          },
          "metadata": {},
          "execution_count": 44
        },
        {
          "output_type": "display_data",
          "data": {
            "text/plain": [
              "<Figure size 432x288 with 1 Axes>"
            ],
            "image/png": "[encoded data removed]"
          },
          "metadata": {
            "needs_background": "light"
          }
        }
      ]
    },
    {
      "cell_type": "markdown",
      "source": [
        "Como vemos en la grfica a pesar de la presencia de outliers en los datos recolectados, estos se relacionan satisfactoriamente con la cantidad de propiedades en alquiler por debajo del tamaño promedio en Estados Unidos y una menor cantidad de propiedades con tamaños muy superiores a la media."
      ],
      "metadata": {
        "id": "LM90_CSGXAPJ"
      }
    },
    {
      "cell_type": "markdown",
      "source": [
        "Este script agrega una nueva columna llamada \"publicaciones\" al dataframe \"train\" que indica cuántas veces aparece cada valor de la columna \"image_url\" en el dataframe. Sin embargo, se considera que hay valores muy superiores a la media, por lo que se establece como máximo 30 publicaciones y se espera que el set de testeo no tenga tantas repeticiones."
      ],
      "metadata": {
        "id": "nP_oMYe7XDLt"
      }
    },
    {
      "cell_type": "code",
      "source": [
        "train['publicaciones'].mask(train['publicaciones'] > 30, 30, inplace=True)\n",
        "test['publicaciones'].mask(test['publicaciones'] > 30, 30, inplace=True)"
      ],
      "metadata": {
        "id": "cmpJ4e0fXJrZ"
      },
      "execution_count": null,
      "outputs": []
    },
    {
      "cell_type": "code",
      "source": [
        "# Graficamos\n",
        "sns.boxplot( y=train[\"publicaciones\"] )\n",
        "plt.ylim(1, 30)\n",
        "plt.show()\n"
      ],
      "metadata": {
        "colab": {
          "base_uri": "https://localhost:8080/",
          "height": 256
        },
        "id": "4xTs9JbgXZhz",
        "outputId": "3dc1452d-33e4-4e2c-f5e4-80151d3c844f"
      },
      "execution_count": null,
      "outputs": [
        {
          "output_type": "display_data",
          "data": {
            "text/plain": [
              "<Figure size 432x288 with 1 Axes>"
            ],
            "image/png": "[encoded data removed]"
          },
          "metadata": {
            "needs_background": "light"
          }
        }
      ]
    },
    {
      "cell_type": "markdown",
      "source": [
        "Observamos las columnas de camas y baños, que parecen tener outliers"
      ],
      "metadata": {
        "id": "-3Xis-JAXfyc"
      }
    },
    {
      "cell_type": "code",
      "source": [
        "# Graficamos camas\n",
        "sns.boxplot(x=\"beds\", data=train)"
      ],
      "metadata": {
        "colab": {
          "base_uri": "https://localhost:8080/",
          "height": 296
        },
        "id": "YXeNn5zZXhW_",
        "outputId": "5afeac3b-3643-4c5a-871f-886299c12eb4"
      },
      "execution_count": null,
      "outputs": [
        {
          "output_type": "execute_result",
          "data": {
            "text/plain": [
              "<matplotlib.axes._subplots.AxesSubplot at 0x7f0a4199c3a0>"
            ]
          },
          "metadata": {},
          "execution_count": 47
        },
        {
          "output_type": "display_data",
          "data": {
            "text/plain": [
              "<Figure size 432x288 with 1 Axes>"
            ],
            "image/png": "[encoded data removed]"
          },
          "metadata": {
            "needs_background": "light"
          }
        }
      ]
    },
    {
      "cell_type": "code",
      "source": [
        "# Ahora sin outliers\n",
        "sns.boxplot(x = 'beds', data = train, showfliers = False)"
      ],
      "metadata": {
        "colab": {
          "base_uri": "https://localhost:8080/",
          "height": 296
        },
        "id": "OWhHvKvVXty-",
        "outputId": "5a8b7db1-145d-4569-d1ec-cfa1a4fcbf66"
      },
      "execution_count": null,
      "outputs": [
        {
          "output_type": "execute_result",
          "data": {
            "text/plain": [
              "<matplotlib.axes._subplots.AxesSubplot at 0x7f0a418e1e50>"
            ]
          },
          "metadata": {},
          "execution_count": 48
        },
        {
          "output_type": "display_data",
          "data": {
            "text/plain": [
              "<Figure size 432x288 with 1 Axes>"
            ],
            "image/png": "[encoded data removed]"
          },
          "metadata": {
            "needs_background": "light"
          }
        }
      ]
    },
    {
      "cell_type": "markdown",
      "source": [
        "Reemplazaremos los valores en 0 por 1 y los valores mayores a 8 por 8."
      ],
      "metadata": {
        "id": "gYYqcYfDXzZX"
      }
    },
    {
      "cell_type": "code",
      "source": [
        "train['beds'].mask(train['beds'] == 0, 1, inplace=True)\n",
        "train['beds'].mask(train['beds'] > 8, 8, inplace=True)\n",
        "test['beds'].mask(test['beds'] == 0, 1, inplace=True)\n",
        "test['beds'].mask(test['beds'] > 8, 8, inplace=True)\n",
        "sns.boxplot(x=\"beds\", data=train)"
      ],
      "metadata": {
        "colab": {
          "base_uri": "https://localhost:8080/",
          "height": 296
        },
        "id": "heObjqx6X9Ol",
        "outputId": "7051ec20-aa1f-4055-ac65-3ba087090dba"
      },
      "execution_count": null,
      "outputs": [
        {
          "output_type": "execute_result",
          "data": {
            "text/plain": [
              "<matplotlib.axes._subplots.AxesSubplot at 0x7f0a418b2130>"
            ]
          },
          "metadata": {},
          "execution_count": 49
        },
        {
          "output_type": "display_data",
          "data": {
            "text/plain": [
              "<Figure size 432x288 with 1 Axes>"
            ],
            "image/png": "[encoded data removed]"
          },
          "metadata": {
            "needs_background": "light"
          }
        }
      ]
    },
    {
      "cell_type": "code",
      "source": [
        "# Graficamos baños\n",
        "sns.boxplot(x=\"baths\", data=train)"
      ],
      "metadata": {
        "colab": {
          "base_uri": "https://localhost:8080/",
          "height": 296
        },
        "id": "C-OPbgAzYYN6",
        "outputId": "0f173853-9dd3-4c0f-d626-0e9960256bba"
      },
      "execution_count": null,
      "outputs": [
        {
          "output_type": "execute_result",
          "data": {
            "text/plain": [
              "<matplotlib.axes._subplots.AxesSubplot at 0x7f0a41815fd0>"
            ]
          },
          "metadata": {},
          "execution_count": 50
        },
        {
          "output_type": "display_data",
          "data": {
            "text/plain": [
              "<Figure size 432x288 with 1 Axes>"
            ],
            "image/png": "[encoded data removed]"
          },
          "metadata": {
            "needs_background": "light"
          }
        }
      ]
    },
    {
      "cell_type": "code",
      "source": [
        "train['baths'].mask(train['baths'] == 0, 1, inplace=True)\n",
        "train['baths'].mask(train['baths'] > 8, 8, inplace=True)\n",
        "test['baths'].mask(test['baths'] == 0, 1, inplace=True)\n",
        "test['baths'].mask(test['baths'] > 8, 8, inplace=True)\n",
        "sns.boxplot(x='baths', data=train)"
      ],
      "metadata": {
        "colab": {
          "base_uri": "https://localhost:8080/",
          "height": 296
        },
        "id": "ga96S6KLYkZT",
        "outputId": "adb57df6-3383-4f87-9d5a-cf0a5b8f8089"
      },
      "execution_count": null,
      "outputs": [
        {
          "output_type": "execute_result",
          "data": {
            "text/plain": [
              "<matplotlib.axes._subplots.AxesSubplot at 0x7f0a417784c0>"
            ]
          },
          "metadata": {},
          "execution_count": 51
        },
        {
          "output_type": "display_data",
          "data": {
            "text/plain": [
              "<Figure size 432x288 with 1 Axes>"
            ],
            "image/png": "[encoded data removed]"
          },
          "metadata": {
            "needs_background": "light"
          }
        }
      ]
    },
    {
      "cell_type": "markdown",
      "source": [
        "El script hace una revisión de la columna de longitud en un dataframe, donde se encuentran valores incorrectos en positivo correspondientes a la ubicación de Arkansas. La solución propuesta es cambiar el signo a los valores en positivo y fijar un límite máximo de -67.482."
      ],
      "metadata": {
        "id": "EOW4ALv6ZCeU"
      }
    },
    {
      "cell_type": "code",
      "source": [
        "train[\"long\"] = train[\"long\"].abs()*(-1)\n",
        "test[\"long\"] = test[\"long\"].abs()*(-1)"
      ],
      "metadata": {
        "id": "BbQdjyMGZRzy"
      },
      "execution_count": null,
      "outputs": []
    },
    {
      "cell_type": "code",
      "source": [
        "train['long'].mask(train['long'] > (-67.482), (-67.482), inplace=True)\n",
        "test['long'].mask(test['long'] > (-67.482), (-67.482), inplace=True)"
      ],
      "metadata": {
        "id": "bsRgX7B5Zf3a"
      },
      "execution_count": null,
      "outputs": []
    },
    {
      "cell_type": "code",
      "source": [
        "# Revisamos existencia de valores nulos\n",
        "train[\"long\"].isnull().sum()"
      ],
      "metadata": {
        "colab": {
          "base_uri": "https://localhost:8080/"
        },
        "id": "0XlRclFEZtLo",
        "outputId": "1d743b45-ebb8-4ce6-b14d-a6d623a171ab"
      },
      "execution_count": null,
      "outputs": [
        {
          "output_type": "execute_result",
          "data": {
            "text/plain": [
              "912"
            ]
          },
          "metadata": {},
          "execution_count": 54
        }
      ]
    },
    {
      "cell_type": "code",
      "source": [
        "# Reemplazamos nulos por el promedio\n",
        "train['long'].fillna(int(train['long'].mean()), inplace=True)\n",
        "test['long'].fillna(int(test['long'].mean()), inplace=True)"
      ],
      "metadata": {
        "id": "DAzhk4mbaElb"
      },
      "execution_count": null,
      "outputs": []
    },
    {
      "cell_type": "markdown",
      "source": [
        "Revisamos la columna de Servicio de Lavanderia. Vemos las opciones que contiene."
      ],
      "metadata": {
        "id": "qs8HQTP6aWSP"
      }
    },
    {
      "cell_type": "code",
      "source": [
        "train[\"laundry_options\"].unique()"
      ],
      "metadata": {
        "colab": {
          "base_uri": "https://localhost:8080/"
        },
        "id": "vpmZDi_9aUVJ",
        "outputId": "f49399ed-1b11-4445-bc1e-dbfc716df6d2"
      },
      "execution_count": null,
      "outputs": [
        {
          "output_type": "execute_result",
          "data": {
            "text/plain": [
              "array(['w/d in unit', 'w/d hookups', 'laundry on site', None,\n",
              "       'laundry in bldg', 'no laundry on site'], dtype=object)"
            ]
          },
          "metadata": {},
          "execution_count": 56
        }
      ]
    },
    {
      "cell_type": "code",
      "source": [
        "train.laundry_options.isnull().sum()"
      ],
      "metadata": {
        "colab": {
          "base_uri": "https://localhost:8080/"
        },
        "id": "sIScq8FhahL3",
        "outputId": "fe94476c-f261-4dfc-e87e-594579598461"
      },
      "execution_count": null,
      "outputs": [
        {
          "output_type": "execute_result",
          "data": {
            "text/plain": [
              "33194"
            ]
          },
          "metadata": {},
          "execution_count": 57
        }
      ]
    },
    {
      "cell_type": "markdown",
      "source": [
        "Vemos que la cantidad de valores nulos es importante. Asumiremos que corresponden a que el inmueble no tiene el servicio"
      ],
      "metadata": {
        "id": "GHbfxtZparXS"
      }
    },
    {
      "cell_type": "code",
      "source": [
        "train[\"laundry_options\"].fillna(\"no laundry on site\", inplace = True)\n",
        "test[\"laundry_options\"].fillna(\"no laundry on site\", inplace = True)\n",
        "train.laundry_options.isnull().sum()"
      ],
      "metadata": {
        "colab": {
          "base_uri": "https://localhost:8080/"
        },
        "id": "Lnt_m31kahKV",
        "outputId": "da6eff98-e1c4-4fff-feb2-ab3bdb1df528"
      },
      "execution_count": null,
      "outputs": [
        {
          "output_type": "execute_result",
          "data": {
            "text/plain": [
              "0"
            ]
          },
          "metadata": {},
          "execution_count": 58
        }
      ]
    },
    {
      "cell_type": "markdown",
      "source": [
        "Convertimos la variable categorica en numérica. Lo hacemos de manera manual para ordenar los valores de acuerdo a la existencia o no del servicio"
      ],
      "metadata": {
        "id": "NKtyOvtDa-iT"
      }
    },
    {
      "cell_type": "code",
      "source": [
        "numeric_var = {'laundry_options': {'no laundry on site':0, 'w/d hookups':1, 'laundry on site':2, 'laundry in bldg':3, \"w/d in unit\":4}}\n",
        "train = train.replace(numeric_var)\n",
        "test = test.replace(numeric_var)"
      ],
      "metadata": {
        "id": "saRQXp-sa9MK"
      },
      "execution_count": null,
      "outputs": []
    },
    {
      "cell_type": "markdown",
      "source": [
        "Revisamos la columna de Estacionamiento. Vemos las opciones que contiene"
      ],
      "metadata": {
        "id": "3P12tBo2b7sH"
      }
    },
    {
      "cell_type": "code",
      "source": [
        "train[\"parking_options\"].unique()"
      ],
      "metadata": {
        "colab": {
          "base_uri": "https://localhost:8080/"
        },
        "id": "oyN5xRhQdHFr",
        "outputId": "b2e180d0-713f-41b8-e4ba-8cbc1a448ebe"
      },
      "execution_count": null,
      "outputs": [
        {
          "output_type": "execute_result",
          "data": {
            "text/plain": [
              "array(['detached garage', 'carport', 'off-street parking', None,\n",
              "       'attached garage', 'street parking', 'no parking', 'valet parking'],\n",
              "      dtype=object)"
            ]
          },
          "metadata": {},
          "execution_count": 60
        }
      ]
    },
    {
      "cell_type": "code",
      "source": [
        "train.parking_options.isnull().sum()"
      ],
      "metadata": {
        "colab": {
          "base_uri": "https://localhost:8080/"
        },
        "id": "9_4tI7e6dQG8",
        "outputId": "0c04e0c9-9290-42c8-e9f1-2fcebf2667e4"
      },
      "execution_count": null,
      "outputs": [
        {
          "output_type": "execute_result",
          "data": {
            "text/plain": [
              "55511"
            ]
          },
          "metadata": {},
          "execution_count": 61
        }
      ]
    },
    {
      "cell_type": "markdown",
      "source": [
        "Nuevamente, no podremos eliminar los nulos, y asumimos que corresponde a propiedad sin estacionamiento. Reemplazamos los nulos y luego convertigos a valores numéricos, agrupando algunas categorias similares"
      ],
      "metadata": {
        "id": "e7jeiq0KdXpI"
      }
    },
    {
      "cell_type": "code",
      "source": [
        "train[\"parking_options\"].fillna(\"no parking\", inplace = True)\n",
        "test[\"parking_options\"].fillna(\"no parking\", inplace = True)\n",
        "train.parking_options.isnull().sum()"
      ],
      "metadata": {
        "colab": {
          "base_uri": "https://localhost:8080/"
        },
        "id": "EkRI73gYdf1W",
        "outputId": "b1af5d8b-11a1-4d6a-e9fa-90ddfa63de15"
      },
      "execution_count": null,
      "outputs": [
        {
          "output_type": "execute_result",
          "data": {
            "text/plain": [
              "0"
            ]
          },
          "metadata": {},
          "execution_count": 62
        }
      ]
    },
    {
      "cell_type": "code",
      "source": [
        "numeric_var = {'parking_options': {'no parking':0, 'street parking':0, 'off-street parking':1, 'carport':2, \"detached garage\":2, \"attached garage\":3, \"valet parking\":4}}\n",
        "train = train.replace(numeric_var)\n",
        "test = test.replace(numeric_var)"
      ],
      "metadata": {
        "id": "j9SHr6GRb8dN"
      },
      "execution_count": null,
      "outputs": []
    },
    {
      "cell_type": "markdown",
      "source": [
        "Revisaremos ahora la correlación de longitud y latitud con el valor del alquiler para evaluar si eliminamos alguna de ellas o ambas"
      ],
      "metadata": {
        "id": "6yzlcnBMclMl"
      }
    },
    {
      "cell_type": "code",
      "source": [
        "correlaciones = train[[\"lat\",\"long\",\"category_price\"]].copy()\n",
        "correlaciones.corr()"
      ],
      "metadata": {
        "colab": {
          "base_uri": "https://localhost:8080/",
          "height": 143
        },
        "id": "YoZArkwidugm",
        "outputId": "ba2b9a04-4db8-4d4c-9963-4e970624a9e2"
      },
      "execution_count": null,
      "outputs": [
        {
          "output_type": "execute_result",
          "data": {
            "text/plain": [
              "                     lat      long  category_price\n",
              "lat             1.000000 -0.107957       -0.020614\n",
              "long           -0.107957  1.000000        0.171137\n",
              "category_price -0.020614  0.171137        1.000000"
            ],
            "text/html": [
              "\n",
              "  <div id=\"df-e29deeea-79c5-44d0-a372-3656255a0623\">\n",
              "    <div class=\"colab-df-container\">\n",
              "      <div>\n",
              "<style scoped>\n",
              "    .dataframe tbody tr th:only-of-type {\n",
              "        vertical-align: middle;\n",
              "    }\n",
              "\n",
              "    .dataframe tbody tr th {\n",
              "        vertical-align: top;\n",
              "    }\n",
              "\n",
              "    .dataframe thead th {\n",
              "        text-align: right;\n",
              "    }\n",
              "</style>\n",
              "<table border=\"1\" class=\"dataframe\">\n",
              "  <thead>\n",
              "    <tr style=\"text-align: right;\">\n",
              "      <th></th>\n",
              "      <th>lat</th>\n",
              "      <th>long</th>\n",
              "      <th>category_price</th>\n",
              "    </tr>\n",
              "  </thead>\n",
              "  <tbody>\n",
              "    <tr>\n",
              "      <th>lat</th>\n",
              "      <td>1.000000</td>\n",
              "      <td>-0.107957</td>\n",
              "      <td>-0.020614</td>\n",
              "    </tr>\n",
              "    <tr>\n",
              "      <th>long</th>\n",
              "      <td>-0.107957</td>\n",
              "      <td>1.000000</td>\n",
              "      <td>0.171137</td>\n",
              "    </tr>\n",
              "    <tr>\n",
              "      <th>category_price</th>\n",
              "      <td>-0.020614</td>\n",
              "      <td>0.171137</td>\n",
              "      <td>1.000000</td>\n",
              "    </tr>\n",
              "  </tbody>\n",
              "</table>\n",
              "</div>\n",
              "      <button class=\"colab-df-convert\" onclick=\"convertToInteractive('df-e29deeea-79c5-44d0-a372-3656255a0623')\"\n",
              "              title=\"Convert this dataframe to an interactive table.\"\n",
              "              style=\"display:none;\">\n",
              "        \n",
              "  <svg xmlns=\"http://www.w3.org/2000/svg\" height=\"24px\"viewBox=\"0 0 24 24\"\n",
              "       width=\"24px\">\n",
              "    <path d=\"M0 0h24v24H0V0z\" fill=\"none\"/>\n",
              "    <path d=\"M18.56 5.44l.94 2.06.94-2.06 2.06-.94-2.06-.94-.94-2.06-.94 2.06-2.06.94zm-11 1L8.5 8.5l.94-2.06 2.06-.94-2.06-.94L8.5 2.5l-.94 2.06-2.06.94zm10 10l.94 2.06.94-2.06 2.06-.94-2.06-.94-.94-2.06-.94 2.06-2.06.94z\"/><path d=\"M17.41 7.96l-1.37-1.37c-.4-.4-.92-.59-1.43-.59-.52 0-1.04.2-1.43.59L10.3 9.45l-7.72 7.72c-.78.78-.78 2.05 0 2.83L4 21.41c.39.39.9.59 1.41.59.51 0 1.02-.2 1.41-.59l7.78-7.78 2.81-2.81c.8-.78.8-2.07 0-2.86zM5.41 20L4 18.59l7.72-7.72 1.47 1.35L5.41 20z\"/>\n",
              "  </svg>\n",
              "      </button>\n",
              "      \n",
              "  <style>\n",
              "    .colab-df-container {\n",
              "      display:flex;\n",
              "      flex-wrap:wrap;\n",
              "      gap: 12px;\n",
              "    }\n",
              "\n",
              "    .colab-df-convert {\n",
              "      background-color: #E8F0FE;\n",
              "      border: none;\n",
              "      border-radius: 50%;\n",
              "      cursor: pointer;\n",
              "      display: none;\n",
              "      fill: #1967D2;\n",
              "      height: 32px;\n",
              "      padding: 0 0 0 0;\n",
              "      width: 32px;\n",
              "    }\n",
              "\n",
              "    .colab-df-convert:hover {\n",
              "      background-color: #E2EBFA;\n",
              "      box-shadow: 0px 1px 2px rgba(60, 64, 67, 0.3), 0px 1px 3px 1px rgba(60, 64, 67, 0.15);\n",
              "      fill: #174EA6;\n",
              "    }\n",
              "\n",
              "    [theme=dark] .colab-df-convert {\n",
              "      background-color: #3B4455;\n",
              "      fill: #D2E3FC;\n",
              "    }\n",
              "\n",
              "    [theme=dark] .colab-df-convert:hover {\n",
              "      background-color: #434B5C;\n",
              "      box-shadow: 0px 1px 3px 1px rgba(0, 0, 0, 0.15);\n",
              "      filter: drop-shadow(0px 1px 2px rgba(0, 0, 0, 0.3));\n",
              "      fill: #FFFFFF;\n",
              "    }\n",
              "  </style>\n",
              "\n",
              "      <script>\n",
              "        const buttonEl =\n",
              "          document.querySelector('#df-e29deeea-79c5-44d0-a372-3656255a0623 button.colab-df-convert');\n",
              "        buttonEl.style.display =\n",
              "          google.colab.kernel.accessAllowed ? 'block' : 'none';\n",
              "\n",
              "        async function convertToInteractive(key) {\n",
              "          const element = document.querySelector('#df-e29deeea-79c5-44d0-a372-3656255a0623');\n",
              "          const dataTable =\n",
              "            await google.colab.kernel.invokeFunction('convertToInteractive',\n",
              "                                                     [key], {});\n",
              "          if (!dataTable) return;\n",
              "\n",
              "          const docLinkHtml = 'Like what you see? Visit the ' +\n",
              "            '<a target=\"_blank\" href=https://colab.research.google.com/notebooks/data_table.ipynb>data table notebook</a>'\n",
              "            + ' to learn more about interactive tables.';\n",
              "          element.innerHTML = '';\n",
              "          dataTable['output_type'] = 'display_data';\n",
              "          await google.colab.output.renderOutput(dataTable, element);\n",
              "          const docLink = document.createElement('div');\n",
              "          docLink.innerHTML = docLinkHtml;\n",
              "          element.appendChild(docLink);\n",
              "        }\n",
              "      </script>\n",
              "    </div>\n",
              "  </div>\n",
              "  "
            ]
          },
          "metadata": {},
          "execution_count": 64
        }
      ]
    },
    {
      "cell_type": "markdown",
      "source": [
        "La columna de longitud tiene una alta correlación con el precio y se cree que esto se debe a que los valores cercanos al mar son más valiosos en los EEUU. Por lo tanto, se decidirá mantener la columna de longitud en el modelo y eliminar otras columnas como \"latitud\", \"price\", \"id\", \"url\", \"region\", \"region_url\", \"image_url\" y \"description\" ya que se consideran que no aportan valor o representan una gran dificultad para ser incorporadas en el modelo."
      ],
      "metadata": {
        "id": "uWTYe5oJeOqn"
      }
    },
    {
      "cell_type": "code",
      "source": [
        "train.drop([\"id\",\"lat\",\"url\", \"region\", \"region_url\", \"image_url\",\"description\",\"price\"],axis = 1, inplace = True)\n",
        "test.drop([\"id\",\"lat\",\"url\", \"region\", \"region_url\", \"image_url\",\"description\"],axis = 1, inplace = True)"
      ],
      "metadata": {
        "id": "j_5WmODUeN7z"
      },
      "execution_count": null,
      "outputs": []
    },
    {
      "cell_type": "markdown",
      "source": [
        "Revisemos las correlaciones del estado actual del dataframe para eliminar algunas columnas adicionales que en principio no serían de utilidad"
      ],
      "metadata": {
        "id": "Yz_rDA_-ef5k"
      }
    },
    {
      "cell_type": "code",
      "source": [
        "# Graficamos\n",
        "plt.figure(figsize=(6, 10))\n",
        "heatmap = sns.heatmap(train.corr(method='spearman')[['category_price']].sort_values(by='category_price', ascending=False), vmin=-1, vmax=1, annot=True, cmap='BrBG')\n",
        "heatmap.set_title('Features Correlating with Category_Price', fontdict={'fontsize':18}, pad=16);"
      ],
      "metadata": {
        "colab": {
          "base_uri": "https://localhost:8080/",
          "height": 622
        },
        "id": "zmNjPlhxehsl",
        "outputId": "21e1d3e6-624e-405c-903d-85b87325d5cf"
      },
      "execution_count": null,
      "outputs": [
        {
          "output_type": "display_data",
          "data": {
            "text/plain": [
              "<Figure size 432x720 with 2 Axes>"
            ],
            "image/png": "[encoded data removed]"
          },
          "metadata": {
            "needs_background": "light"
          }
        }
      ]
    },
    {
      "cell_type": "markdown",
      "source": [
        "De acuerdo al gráfico, en un primer modelo usaremos beds, baths, parking options, laundry options, sqfeet, publicaciones, long y si se permite fumar"
      ],
      "metadata": {
        "id": "Vkhj0IuafOmn"
      }
    },
    {
      "cell_type": "code",
      "source": [
        "# Vemos la distribución de la columna \"type\"\n",
        "sns.countplot(y='type', data=train)"
      ],
      "metadata": {
        "colab": {
          "base_uri": "https://localhost:8080/",
          "height": 296
        },
        "id": "02V6uGFKfQD0",
        "outputId": "56725878-9976-4933-bbfc-989c4572a7e3"
      },
      "execution_count": null,
      "outputs": [
        {
          "output_type": "execute_result",
          "data": {
            "text/plain": [
              "<matplotlib.axes._subplots.AxesSubplot at 0x7f0a42ca6c10>"
            ]
          },
          "metadata": {},
          "execution_count": 67
        },
        {
          "output_type": "display_data",
          "data": {
            "text/plain": [
              "<Figure size 432x288 with 1 Axes>"
            ],
            "image/png": "[encoded data removed]"
          },
          "metadata": {
            "needs_background": "light"
          }
        }
      ]
    },
    {
      "cell_type": "code",
      "source": [
        "# Veamos la relación entre el precio del alquiler y el tipo de vivienda\n",
        "agr = train.groupby(['type', 'category_price']).size().reset_index().pivot(columns='category_price', index='type', values=0)\n",
        "agr.plot(kind='bar', stacked=True)"
      ],
      "metadata": {
        "colab": {
          "base_uri": "https://localhost:8080/",
          "height": 358
        },
        "id": "Jk5duE1qfdKF",
        "outputId": "e1749d5e-8e83-4120-d7ff-cd7a81494e3e"
      },
      "execution_count": null,
      "outputs": [
        {
          "output_type": "execute_result",
          "data": {
            "text/plain": [
              "<matplotlib.axes._subplots.AxesSubplot at 0x7f0a435b3550>"
            ]
          },
          "metadata": {},
          "execution_count": 68
        },
        {
          "output_type": "display_data",
          "data": {
            "text/plain": [
              "<Figure size 432x288 with 1 Axes>"
            ],
            "image/png": "[encoded data removed]"
          },
          "metadata": {
            "needs_background": "light"
          }
        }
      ]
    },
    {
      "cell_type": "markdown",
      "source": [
        "Notamos que en las casas, condominios y townhouses la proporcion de alquileres mayores a $999 es mayor, por lo que en principio dejariamos esta columna. Transformamos a valores numéricos."
      ],
      "metadata": {
        "id": "VIZP87vkfzYq"
      }
    },
    {
      "cell_type": "code",
      "source": [
        "numeric_var = {'type': {'land':0, 'in-law':0, 'assisted living':1, 'manufactured':1, \"apartment\":2, \"flat\":3, \"townhouse\":3, \"loft\":4 ,\"duplex\":4, \"house\":3, \"cottage/cabin\":4, \"condo\":5}}\n",
        "train = train.replace(numeric_var)\n",
        "test = test.replace(numeric_var)"
      ],
      "metadata": {
        "id": "LARqJc6gf9y2"
      },
      "execution_count": null,
      "outputs": []
    },
    {
      "cell_type": "code",
      "source": [
        "# Graficamos las nuevas categorias\n",
        "sns.countplot(y='type', data=train)"
      ],
      "metadata": {
        "colab": {
          "base_uri": "https://localhost:8080/",
          "height": 296
        },
        "id": "QjKpkdmjgYPP",
        "outputId": "b1426caf-2904-4652-9912-3f89c4aaf1a7"
      },
      "execution_count": null,
      "outputs": [
        {
          "output_type": "execute_result",
          "data": {
            "text/plain": [
              "<matplotlib.axes._subplots.AxesSubplot at 0x7f0a434d41f0>"
            ]
          },
          "metadata": {},
          "execution_count": 70
        },
        {
          "output_type": "display_data",
          "data": {
            "text/plain": [
              "<Figure size 432x288 with 1 Axes>"
            ],
            "image/png": "[encoded data removed]"
          },
          "metadata": {
            "needs_background": "light"
          }
        }
      ]
    },
    {
      "cell_type": "code",
      "source": [
        "agr = train.groupby(['type', 'category_price']).size().reset_index().pivot(columns='category_price', index='type', values=0)\n",
        "agr.plot(kind='bar', stacked=True)"
      ],
      "metadata": {
        "colab": {
          "base_uri": "https://localhost:8080/",
          "height": 293
        },
        "id": "wK6OKESrgi4T",
        "outputId": "ba651797-0159-4f65-c404-7fac6157816c"
      },
      "execution_count": null,
      "outputs": [
        {
          "output_type": "execute_result",
          "data": {
            "text/plain": [
              "<matplotlib.axes._subplots.AxesSubplot at 0x7f0a43440a30>"
            ]
          },
          "metadata": {},
          "execution_count": 71
        },
        {
          "output_type": "display_data",
          "data": {
            "text/plain": [
              "<Figure size 432x288 with 1 Axes>"
            ],
            "image/png": "[encoded data removed]"
          },
          "metadata": {
            "needs_background": "light"
          }
        }
      ]
    },
    {
      "cell_type": "markdown",
      "source": [
        "La columna \"state\" será utilizada en el modelo debido a la gran influencia del estado en el precio promedio de las propiedades. La columna será transformada en valores numéricos mediante el método de Binary Encoding, ya que el One-Hot Encoding generaría demasiadas columnas adicionales."
      ],
      "metadata": {
        "id": "s2Pk2zTmjg41"
      }
    },
    {
      "cell_type": "code",
      "source": [
        "#! pip install --upgrade category_encoders\n",
        "import category_encoders as ce"
      ],
      "metadata": {
        "id": "nK6rZv8roJ9W"
      },
      "execution_count": null,
      "outputs": []
    },
    {
      "cell_type": "code",
      "source": [
        "#Usa codificación binaria para convertir las variables categóricas en variables numéricas. Utiliza la librería \"category_encoders\" para codificar la columna \"state\" y crea nuevos dataframes \"train_binary\" y \"test_binary\" con las columnas codificadas. \n",
        "train_ce = train.copy()\n",
        "test_ce = test.copy()\n",
        "\n",
        "encoder = ce.BinaryEncoder(cols=['state'])\n",
        "train_binary = encoder.fit_transform(train_ce)\n",
        "test_binary = encoder.fit_transform(test_ce)\n",
        "\n",
        "train_binary.head()"
      ],
      "metadata": {
        "colab": {
          "base_uri": "https://localhost:8080/",
          "height": 299
        },
        "id": "-wOT-K9Mjjy8",
        "outputId": "990d27fc-d76a-4f4b-a8c4-848d980aae01"
      },
      "execution_count": null,
      "outputs": [
        {
          "output_type": "execute_result",
          "data": {
            "text/plain": [
              "   type  sqfeet  beds  baths  cats_allowed  dogs_allowed  smoking_allowed  \\\n",
              "0     3    1200     2    2.0             1             1                1   \n",
              "1     2     694     1    1.0             1             1                1   \n",
              "2     2     900     2    2.0             0             0                1   \n",
              "3     3    1469     3    2.0             1             1                1   \n",
              "4     2     700     1    1.0             1             1                1   \n",
              "\n",
              "   wheelchair_access  electric_vehicle_charge  comes_furnished  ...  \\\n",
              "0                  0                        0                0  ...   \n",
              "1                  0                        0                0  ...   \n",
              "2                  0                        0                0  ...   \n",
              "3                  0                        0                0  ...   \n",
              "4                  0                        0                0  ...   \n",
              "\n",
              "   parking_options      long  state_0  state_1  state_2  state_3  state_4  \\\n",
              "0                2 -116.2250        0        0        0        0        0   \n",
              "1                2 -104.7800        0        0        0        0        1   \n",
              "2                1  -76.1643        0        0        0        0        1   \n",
              "3                0 -112.0560        0        0        0        1        0   \n",
              "4                2  -86.6592        0        0        0        1        0   \n",
              "\n",
              "   state_5  category_price  publicaciones  \n",
              "0        1               0              1  \n",
              "1        0               0              2  \n",
              "2        1               0              1  \n",
              "3        0               0              1  \n",
              "4        1               1              4  \n",
              "\n",
              "[5 rows x 21 columns]"
            ],
            "text/html": [
              "\n",
              "  <div id=\"df-44340cb6-ae29-4428-a0a7-10a4f9bb3670\">\n",
              "    <div class=\"colab-df-container\">\n",
              "      <div>\n",
              "<style scoped>\n",
              "    .dataframe tbody tr th:only-of-type {\n",
              "        vertical-align: middle;\n",
              "    }\n",
              "\n",
              "    .dataframe tbody tr th {\n",
              "        vertical-align: top;\n",
              "    }\n",
              "\n",
              "    .dataframe thead th {\n",
              "        text-align: right;\n",
              "    }\n",
              "</style>\n",
              "<table border=\"1\" class=\"dataframe\">\n",
              "  <thead>\n",
              "    <tr style=\"text-align: right;\">\n",
              "      <th></th>\n",
              "      <th>type</th>\n",
              "      <th>sqfeet</th>\n",
              "      <th>beds</th>\n",
              "      <th>baths</th>\n",
              "      <th>cats_allowed</th>\n",
              "      <th>dogs_allowed</th>\n",
              "      <th>smoking_allowed</th>\n",
              "      <th>wheelchair_access</th>\n",
              "      <th>electric_vehicle_charge</th>\n",
              "      <th>comes_furnished</th>\n",
              "      <th>...</th>\n",
              "      <th>parking_options</th>\n",
              "      <th>long</th>\n",
              "      <th>state_0</th>\n",
              "      <th>state_1</th>\n",
              "      <th>state_2</th>\n",
              "      <th>state_3</th>\n",
              "      <th>state_4</th>\n",
              "      <th>state_5</th>\n",
              "      <th>category_price</th>\n",
              "      <th>publicaciones</th>\n",
              "    </tr>\n",
              "  </thead>\n",
              "  <tbody>\n",
              "    <tr>\n",
              "      <th>0</th>\n",
              "      <td>3</td>\n",
              "      <td>1200</td>\n",
              "      <td>2</td>\n",
              "      <td>2.0</td>\n",
              "      <td>1</td>\n",
              "      <td>1</td>\n",
              "      <td>1</td>\n",
              "      <td>0</td>\n",
              "      <td>0</td>\n",
              "      <td>0</td>\n",
              "      <td>...</td>\n",
              "      <td>2</td>\n",
              "      <td>-116.2250</td>\n",
              "      <td>0</td>\n",
              "      <td>0</td>\n",
              "      <td>0</td>\n",
              "      <td>0</td>\n",
              "      <td>0</td>\n",
              "      <td>1</td>\n",
              "      <td>0</td>\n",
              "      <td>1</td>\n",
              "    </tr>\n",
              "    <tr>\n",
              "      <th>1</th>\n",
              "      <td>2</td>\n",
              "      <td>694</td>\n",
              "      <td>1</td>\n",
              "      <td>1.0</td>\n",
              "      <td>1</td>\n",
              "      <td>1</td>\n",
              "      <td>1</td>\n",
              "      <td>0</td>\n",
              "      <td>0</td>\n",
              "      <td>0</td>\n",
              "      <td>...</td>\n",
              "      <td>2</td>\n",
              "      <td>-104.7800</td>\n",
              "      <td>0</td>\n",
              "      <td>0</td>\n",
              "      <td>0</td>\n",
              "      <td>0</td>\n",
              "      <td>1</td>\n",
              "      <td>0</td>\n",
              "      <td>0</td>\n",
              "      <td>2</td>\n",
              "    </tr>\n",
              "    <tr>\n",
              "      <th>2</th>\n",
              "      <td>2</td>\n",
              "      <td>900</td>\n",
              "      <td>2</td>\n",
              "      <td>2.0</td>\n",
              "      <td>0</td>\n",
              "      <td>0</td>\n",
              "      <td>1</td>\n",
              "      <td>0</td>\n",
              "      <td>0</td>\n",
              "      <td>0</td>\n",
              "      <td>...</td>\n",
              "      <td>1</td>\n",
              "      <td>-76.1643</td>\n",
              "      <td>0</td>\n",
              "      <td>0</td>\n",
              "      <td>0</td>\n",
              "      <td>0</td>\n",
              "      <td>1</td>\n",
              "      <td>1</td>\n",
              "      <td>0</td>\n",
              "      <td>1</td>\n",
              "    </tr>\n",
              "    <tr>\n",
              "      <th>3</th>\n",
              "      <td>3</td>\n",
              "      <td>1469</td>\n",
              "      <td>3</td>\n",
              "      <td>2.0</td>\n",
              "      <td>1</td>\n",
              "      <td>1</td>\n",
              "      <td>1</td>\n",
              "      <td>0</td>\n",
              "      <td>0</td>\n",
              "      <td>0</td>\n",
              "      <td>...</td>\n",
              "      <td>0</td>\n",
              "      <td>-112.0560</td>\n",
              "      <td>0</td>\n",
              "      <td>0</td>\n",
              "      <td>0</td>\n",
              "      <td>1</td>\n",
              "      <td>0</td>\n",
              "      <td>0</td>\n",
              "      <td>0</td>\n",
              "      <td>1</td>\n",
              "    </tr>\n",
              "    <tr>\n",
              "      <th>4</th>\n",
              "      <td>2</td>\n",
              "      <td>700</td>\n",
              "      <td>1</td>\n",
              "      <td>1.0</td>\n",
              "      <td>1</td>\n",
              "      <td>1</td>\n",
              "      <td>1</td>\n",
              "      <td>0</td>\n",
              "      <td>0</td>\n",
              "      <td>0</td>\n",
              "      <td>...</td>\n",
              "      <td>2</td>\n",
              "      <td>-86.6592</td>\n",
              "      <td>0</td>\n",
              "      <td>0</td>\n",
              "      <td>0</td>\n",
              "      <td>1</td>\n",
              "      <td>0</td>\n",
              "      <td>1</td>\n",
              "      <td>1</td>\n",
              "      <td>4</td>\n",
              "    </tr>\n",
              "  </tbody>\n",
              "</table>\n",
              "<p>5 rows × 21 columns</p>\n",
              "</div>\n",
              "      <button class=\"colab-df-convert\" onclick=\"convertToInteractive('df-44340cb6-ae29-4428-a0a7-10a4f9bb3670')\"\n",
              "              title=\"Convert this dataframe to an interactive table.\"\n",
              "              style=\"display:none;\">\n",
              "        \n",
              "  <svg xmlns=\"http://www.w3.org/2000/svg\" height=\"24px\"viewBox=\"0 0 24 24\"\n",
              "       width=\"24px\">\n",
              "    <path d=\"M0 0h24v24H0V0z\" fill=\"none\"/>\n",
              "    <path d=\"M18.56 5.44l.94 2.06.94-2.06 2.06-.94-2.06-.94-.94-2.06-.94 2.06-2.06.94zm-11 1L8.5 8.5l.94-2.06 2.06-.94-2.06-.94L8.5 2.5l-.94 2.06-2.06.94zm10 10l.94 2.06.94-2.06 2.06-.94-2.06-.94-.94-2.06-.94 2.06-2.06.94z\"/><path d=\"M17.41 7.96l-1.37-1.37c-.4-.4-.92-.59-1.43-.59-.52 0-1.04.2-1.43.59L10.3 9.45l-7.72 7.72c-.78.78-.78 2.05 0 2.83L4 21.41c.39.39.9.59 1.41.59.51 0 1.02-.2 1.41-.59l7.78-7.78 2.81-2.81c.8-.78.8-2.07 0-2.86zM5.41 20L4 18.59l7.72-7.72 1.47 1.35L5.41 20z\"/>\n",
              "  </svg>\n",
              "      </button>\n",
              "      \n",
              "  <style>\n",
              "    .colab-df-container {\n",
              "      display:flex;\n",
              "      flex-wrap:wrap;\n",
              "      gap: 12px;\n",
              "    }\n",
              "\n",
              "    .colab-df-convert {\n",
              "      background-color: #E8F0FE;\n",
              "      border: none;\n",
              "      border-radius: 50%;\n",
              "      cursor: pointer;\n",
              "      display: none;\n",
              "      fill: #1967D2;\n",
              "      height: 32px;\n",
              "      padding: 0 0 0 0;\n",
              "      width: 32px;\n",
              "    }\n",
              "\n",
              "    .colab-df-convert:hover {\n",
              "      background-color: #E2EBFA;\n",
              "      box-shadow: 0px 1px 2px rgba(60, 64, 67, 0.3), 0px 1px 3px 1px rgba(60, 64, 67, 0.15);\n",
              "      fill: #174EA6;\n",
              "    }\n",
              "\n",
              "    [theme=dark] .colab-df-convert {\n",
              "      background-color: #3B4455;\n",
              "      fill: #D2E3FC;\n",
              "    }\n",
              "\n",
              "    [theme=dark] .colab-df-convert:hover {\n",
              "      background-color: #434B5C;\n",
              "      box-shadow: 0px 1px 3px 1px rgba(0, 0, 0, 0.15);\n",
              "      filter: drop-shadow(0px 1px 2px rgba(0, 0, 0, 0.3));\n",
              "      fill: #FFFFFF;\n",
              "    }\n",
              "  </style>\n",
              "\n",
              "      <script>\n",
              "        const buttonEl =\n",
              "          document.querySelector('#df-44340cb6-ae29-4428-a0a7-10a4f9bb3670 button.colab-df-convert');\n",
              "        buttonEl.style.display =\n",
              "          google.colab.kernel.accessAllowed ? 'block' : 'none';\n",
              "\n",
              "        async function convertToInteractive(key) {\n",
              "          const element = document.querySelector('#df-44340cb6-ae29-4428-a0a7-10a4f9bb3670');\n",
              "          const dataTable =\n",
              "            await google.colab.kernel.invokeFunction('convertToInteractive',\n",
              "                                                     [key], {});\n",
              "          if (!dataTable) return;\n",
              "\n",
              "          const docLinkHtml = 'Like what you see? Visit the ' +\n",
              "            '<a target=\"_blank\" href=https://colab.research.google.com/notebooks/data_table.ipynb>data table notebook</a>'\n",
              "            + ' to learn more about interactive tables.';\n",
              "          element.innerHTML = '';\n",
              "          dataTable['output_type'] = 'display_data';\n",
              "          await google.colab.output.renderOutput(dataTable, element);\n",
              "          const docLink = document.createElement('div');\n",
              "          docLink.innerHTML = docLinkHtml;\n",
              "          element.appendChild(docLink);\n",
              "        }\n",
              "      </script>\n",
              "    </div>\n",
              "  </div>\n",
              "  "
            ]
          },
          "metadata": {},
          "execution_count": 75
        }
      ]
    },
    {
      "cell_type": "code",
      "source": [
        "test_binary.head()\n"
      ],
      "metadata": {
        "colab": {
          "base_uri": "https://localhost:8080/",
          "height": 270
        },
        "id": "1d3EyCgwpCzf",
        "outputId": "4ee45274-9299-42ba-c497-9c70ce30e4d0"
      },
      "execution_count": null,
      "outputs": [
        {
          "output_type": "execute_result",
          "data": {
            "text/plain": [
              "   type  sqfeet  beds  baths  cats_allowed  dogs_allowed  smoking_allowed  \\\n",
              "0     1    1344     3    2.0             0             0                1   \n",
              "1     2    1050     2    1.0             0             0                1   \n",
              "2     2    1150     2    2.0             1             1                1   \n",
              "3     2    1280     2    2.5             1             1                0   \n",
              "4     2     783     2    1.0             1             1                1   \n",
              "\n",
              "   wheelchair_access  electric_vehicle_charge  comes_furnished  \\\n",
              "0                  0                        0                0   \n",
              "1                  0                        0                0   \n",
              "2                  1                        0                0   \n",
              "3                  0                        0                0   \n",
              "4                  0                        0                0   \n",
              "\n",
              "   laundry_options  parking_options      long  state_0  state_1  state_2  \\\n",
              "0                4                1  -83.5763        0        0        0   \n",
              "1                1                1  -72.5538        0        0        0   \n",
              "2                4                2  -83.7712        0        0        0   \n",
              "3                4                3 -105.0350        0        0        0   \n",
              "4                2                0  -78.5611        0        0        0   \n",
              "\n",
              "   state_3  state_4  state_5  publicaciones  \n",
              "0        0        0        1              3  \n",
              "1        0        1        0              1  \n",
              "2        0        0        1              2  \n",
              "3        0        1        1              1  \n",
              "4        1        0        0              2  "
            ],
            "text/html": [
              "\n",
              "  <div id=\"df-dad1d0ec-9cea-4426-a8a3-c9fbc87bd0d5\">\n",
              "    <div class=\"colab-df-container\">\n",
              "      <div>\n",
              "<style scoped>\n",
              "    .dataframe tbody tr th:only-of-type {\n",
              "        vertical-align: middle;\n",
              "    }\n",
              "\n",
              "    .dataframe tbody tr th {\n",
              "        vertical-align: top;\n",
              "    }\n",
              "\n",
              "    .dataframe thead th {\n",
              "        text-align: right;\n",
              "    }\n",
              "</style>\n",
              "<table border=\"1\" class=\"dataframe\">\n",
              "  <thead>\n",
              "    <tr style=\"text-align: right;\">\n",
              "      <th></th>\n",
              "      <th>type</th>\n",
              "      <th>sqfeet</th>\n",
              "      <th>beds</th>\n",
              "      <th>baths</th>\n",
              "      <th>cats_allowed</th>\n",
              "      <th>dogs_allowed</th>\n",
              "      <th>smoking_allowed</th>\n",
              "      <th>wheelchair_access</th>\n",
              "      <th>electric_vehicle_charge</th>\n",
              "      <th>comes_furnished</th>\n",
              "      <th>laundry_options</th>\n",
              "      <th>parking_options</th>\n",
              "      <th>long</th>\n",
              "      <th>state_0</th>\n",
              "      <th>state_1</th>\n",
              "      <th>state_2</th>\n",
              "      <th>state_3</th>\n",
              "      <th>state_4</th>\n",
              "      <th>state_5</th>\n",
              "      <th>publicaciones</th>\n",
              "    </tr>\n",
              "  </thead>\n",
              "  <tbody>\n",
              "    <tr>\n",
              "      <th>0</th>\n",
              "      <td>1</td>\n",
              "      <td>1344</td>\n",
              "      <td>3</td>\n",
              "      <td>2.0</td>\n",
              "      <td>0</td>\n",
              "      <td>0</td>\n",
              "      <td>1</td>\n",
              "      <td>0</td>\n",
              "      <td>0</td>\n",
              "      <td>0</td>\n",
              "      <td>4</td>\n",
              "      <td>1</td>\n",
              "      <td>-83.5763</td>\n",
              "      <td>0</td>\n",
              "      <td>0</td>\n",
              "      <td>0</td>\n",
              "      <td>0</td>\n",
              "      <td>0</td>\n",
              "      <td>1</td>\n",
              "      <td>3</td>\n",
              "    </tr>\n",
              "    <tr>\n",
              "      <th>1</th>\n",
              "      <td>2</td>\n",
              "      <td>1050</td>\n",
              "      <td>2</td>\n",
              "      <td>1.0</td>\n",
              "      <td>0</td>\n",
              "      <td>0</td>\n",
              "      <td>1</td>\n",
              "      <td>0</td>\n",
              "      <td>0</td>\n",
              "      <td>0</td>\n",
              "      <td>1</td>\n",
              "      <td>1</td>\n",
              "      <td>-72.5538</td>\n",
              "      <td>0</td>\n",
              "      <td>0</td>\n",
              "      <td>0</td>\n",
              "      <td>0</td>\n",
              "      <td>1</td>\n",
              "      <td>0</td>\n",
              "      <td>1</td>\n",
              "    </tr>\n",
              "    <tr>\n",
              "      <th>2</th>\n",
              "      <td>2</td>\n",
              "      <td>1150</td>\n",
              "      <td>2</td>\n",
              "      <td>2.0</td>\n",
              "      <td>1</td>\n",
              "      <td>1</td>\n",
              "      <td>1</td>\n",
              "      <td>1</td>\n",
              "      <td>0</td>\n",
              "      <td>0</td>\n",
              "      <td>4</td>\n",
              "      <td>2</td>\n",
              "      <td>-83.7712</td>\n",
              "      <td>0</td>\n",
              "      <td>0</td>\n",
              "      <td>0</td>\n",
              "      <td>0</td>\n",
              "      <td>0</td>\n",
              "      <td>1</td>\n",
              "      <td>2</td>\n",
              "    </tr>\n",
              "    <tr>\n",
              "      <th>3</th>\n",
              "      <td>2</td>\n",
              "      <td>1280</td>\n",
              "      <td>2</td>\n",
              "      <td>2.5</td>\n",
              "      <td>1</td>\n",
              "      <td>1</td>\n",
              "      <td>0</td>\n",
              "      <td>0</td>\n",
              "      <td>0</td>\n",
              "      <td>0</td>\n",
              "      <td>4</td>\n",
              "      <td>3</td>\n",
              "      <td>-105.0350</td>\n",
              "      <td>0</td>\n",
              "      <td>0</td>\n",
              "      <td>0</td>\n",
              "      <td>0</td>\n",
              "      <td>1</td>\n",
              "      <td>1</td>\n",
              "      <td>1</td>\n",
              "    </tr>\n",
              "    <tr>\n",
              "      <th>4</th>\n",
              "      <td>2</td>\n",
              "      <td>783</td>\n",
              "      <td>2</td>\n",
              "      <td>1.0</td>\n",
              "      <td>1</td>\n",
              "      <td>1</td>\n",
              "      <td>1</td>\n",
              "      <td>0</td>\n",
              "      <td>0</td>\n",
              "      <td>0</td>\n",
              "      <td>2</td>\n",
              "      <td>0</td>\n",
              "      <td>-78.5611</td>\n",
              "      <td>0</td>\n",
              "      <td>0</td>\n",
              "      <td>0</td>\n",
              "      <td>1</td>\n",
              "      <td>0</td>\n",
              "      <td>0</td>\n",
              "      <td>2</td>\n",
              "    </tr>\n",
              "  </tbody>\n",
              "</table>\n",
              "</div>\n",
              "      <button class=\"colab-df-convert\" onclick=\"convertToInteractive('df-dad1d0ec-9cea-4426-a8a3-c9fbc87bd0d5')\"\n",
              "              title=\"Convert this dataframe to an interactive table.\"\n",
              "              style=\"display:none;\">\n",
              "        \n",
              "  <svg xmlns=\"http://www.w3.org/2000/svg\" height=\"24px\"viewBox=\"0 0 24 24\"\n",
              "       width=\"24px\">\n",
              "    <path d=\"M0 0h24v24H0V0z\" fill=\"none\"/>\n",
              "    <path d=\"M18.56 5.44l.94 2.06.94-2.06 2.06-.94-2.06-.94-.94-2.06-.94 2.06-2.06.94zm-11 1L8.5 8.5l.94-2.06 2.06-.94-2.06-.94L8.5 2.5l-.94 2.06-2.06.94zm10 10l.94 2.06.94-2.06 2.06-.94-2.06-.94-.94-2.06-.94 2.06-2.06.94z\"/><path d=\"M17.41 7.96l-1.37-1.37c-.4-.4-.92-.59-1.43-.59-.52 0-1.04.2-1.43.59L10.3 9.45l-7.72 7.72c-.78.78-.78 2.05 0 2.83L4 21.41c.39.39.9.59 1.41.59.51 0 1.02-.2 1.41-.59l7.78-7.78 2.81-2.81c.8-.78.8-2.07 0-2.86zM5.41 20L4 18.59l7.72-7.72 1.47 1.35L5.41 20z\"/>\n",
              "  </svg>\n",
              "      </button>\n",
              "      \n",
              "  <style>\n",
              "    .colab-df-container {\n",
              "      display:flex;\n",
              "      flex-wrap:wrap;\n",
              "      gap: 12px;\n",
              "    }\n",
              "\n",
              "    .colab-df-convert {\n",
              "      background-color: #E8F0FE;\n",
              "      border: none;\n",
              "      border-radius: 50%;\n",
              "      cursor: pointer;\n",
              "      display: none;\n",
              "      fill: #1967D2;\n",
              "      height: 32px;\n",
              "      padding: 0 0 0 0;\n",
              "      width: 32px;\n",
              "    }\n",
              "\n",
              "    .colab-df-convert:hover {\n",
              "      background-color: #E2EBFA;\n",
              "      box-shadow: 0px 1px 2px rgba(60, 64, 67, 0.3), 0px 1px 3px 1px rgba(60, 64, 67, 0.15);\n",
              "      fill: #174EA6;\n",
              "    }\n",
              "\n",
              "    [theme=dark] .colab-df-convert {\n",
              "      background-color: #3B4455;\n",
              "      fill: #D2E3FC;\n",
              "    }\n",
              "\n",
              "    [theme=dark] .colab-df-convert:hover {\n",
              "      background-color: #434B5C;\n",
              "      box-shadow: 0px 1px 3px 1px rgba(0, 0, 0, 0.15);\n",
              "      filter: drop-shadow(0px 1px 2px rgba(0, 0, 0, 0.3));\n",
              "      fill: #FFFFFF;\n",
              "    }\n",
              "  </style>\n",
              "\n",
              "      <script>\n",
              "        const buttonEl =\n",
              "          document.querySelector('#df-dad1d0ec-9cea-4426-a8a3-c9fbc87bd0d5 button.colab-df-convert');\n",
              "        buttonEl.style.display =\n",
              "          google.colab.kernel.accessAllowed ? 'block' : 'none';\n",
              "\n",
              "        async function convertToInteractive(key) {\n",
              "          const element = document.querySelector('#df-dad1d0ec-9cea-4426-a8a3-c9fbc87bd0d5');\n",
              "          const dataTable =\n",
              "            await google.colab.kernel.invokeFunction('convertToInteractive',\n",
              "                                                     [key], {});\n",
              "          if (!dataTable) return;\n",
              "\n",
              "          const docLinkHtml = 'Like what you see? Visit the ' +\n",
              "            '<a target=\"_blank\" href=https://colab.research.google.com/notebooks/data_table.ipynb>data table notebook</a>'\n",
              "            + ' to learn more about interactive tables.';\n",
              "          element.innerHTML = '';\n",
              "          dataTable['output_type'] = 'display_data';\n",
              "          await google.colab.output.renderOutput(dataTable, element);\n",
              "          const docLink = document.createElement('div');\n",
              "          docLink.innerHTML = docLinkHtml;\n",
              "          element.appendChild(docLink);\n",
              "        }\n",
              "      </script>\n",
              "    </div>\n",
              "  </div>\n",
              "  "
            ]
          },
          "metadata": {},
          "execution_count": 76
        }
      ]
    },
    {
      "cell_type": "code",
      "source": [
        "# Generamos un dataframe para hacer las primeras pruebas\n",
        "train_v1 = train_binary\n",
        "test_v1 = test_binary"
      ],
      "metadata": {
        "id": "vPwjNowJq3Z8"
      },
      "execution_count": null,
      "outputs": []
    },
    {
      "cell_type": "code",
      "source": [
        "X = train_v1.drop([\"cats_allowed\",\"dogs_allowed\",\"wheelchair_access\", \"electric_vehicle_charge\", \"comes_furnished\", \"category_price\"],axis = 1)"
      ],
      "metadata": {
        "id": "b-BidPPZrJSY"
      },
      "execution_count": null,
      "outputs": []
    },
    {
      "cell_type": "code",
      "source": [
        "y = train_v1[\"category_price\"]"
      ],
      "metadata": {
        "id": "bQ_zqjCdrQxS"
      },
      "execution_count": null,
      "outputs": []
    },
    {
      "cell_type": "code",
      "source": [
        "train_v1.columns"
      ],
      "metadata": {
        "colab": {
          "base_uri": "https://localhost:8080/"
        },
        "id": "4312h347xyht",
        "outputId": "1d844954-4967-47a8-a5b6-483f3a008941"
      },
      "execution_count": null,
      "outputs": [
        {
          "output_type": "execute_result",
          "data": {
            "text/plain": [
              "Index(['type', 'sqfeet', 'beds', 'baths', 'cats_allowed', 'dogs_allowed',\n",
              "       'smoking_allowed', 'wheelchair_access', 'electric_vehicle_charge',\n",
              "       'comes_furnished', 'laundry_options', 'parking_options', 'long',\n",
              "       'state_0', 'state_1', 'state_2', 'state_3', 'state_4', 'state_5',\n",
              "       'category_price', 'publicaciones'],\n",
              "      dtype='object')"
            ]
          },
          "metadata": {},
          "execution_count": 80
        }
      ]
    },
    {
      "cell_type": "code",
      "source": [
        "test_v1.columns"
      ],
      "metadata": {
        "colab": {
          "base_uri": "https://localhost:8080/"
        },
        "id": "WfZQwLEKx51b",
        "outputId": "6451c01d-e407-4cf4-f327-be54f3f1cf16"
      },
      "execution_count": null,
      "outputs": [
        {
          "output_type": "execute_result",
          "data": {
            "text/plain": [
              "Index(['type', 'sqfeet', 'beds', 'baths', 'cats_allowed', 'dogs_allowed',\n",
              "       'smoking_allowed', 'wheelchair_access', 'electric_vehicle_charge',\n",
              "       'comes_furnished', 'laundry_options', 'parking_options', 'long',\n",
              "       'state_0', 'state_1', 'state_2', 'state_3', 'state_4', 'state_5',\n",
              "       'publicaciones'],\n",
              "      dtype='object')"
            ]
          },
          "metadata": {},
          "execution_count": 81
        }
      ]
    },
    {
      "cell_type": "code",
      "source": [
        "from sklearn.model_selection import train_test_split\n",
        "from sklearn.preprocessing import StandardScaler\n",
        "from sklearn.tree import DecisionTreeClassifier\n",
        "from sklearn.model_selection import cross_validate\n",
        "from IPython.display import clear_output\n",
        "from sklearn.metrics import accuracy_score\n",
        "from sklearn.metrics import roc_curve, auc"
      ],
      "metadata": {
        "id": "7zM_APIXzCa5"
      },
      "execution_count": null,
      "outputs": []
    },
    {
      "cell_type": "markdown",
      "source": [
        "#Comenzaremos testeando un modelo de árbol de decisión\n",
        "El objetivo es evaluar la precisión de un modelo de árbol de decisión con diferentes profundidades del árbol (de 1 a 50)."
      ],
      "metadata": {
        "id": "NuV3cmE-uBh2"
      }
    },
    {
      "cell_type": "code",
      "source": [
        "tree_train_scores_mean = []\n",
        "tree_train_scores_std = []\n",
        "tree_test_scores_mean = []\n",
        "tree_test_scores_std = []\n",
        "\n",
        "profundidades = np.arange(1,50,1)\n",
        "i = 0\n",
        "i_max = len(profundidades)\n",
        "for profundidad in profundidades:\n",
        "    i = i + 1\n",
        "    clf = DecisionTreeClassifier(max_depth=profundidad)\n",
        "    tree_scores = cross_validate(clf, X, y, cv=5, return_train_score=True, n_jobs = -1)\n",
        "    \n",
        "    tree_train_scores_mean.append(tree_scores['train_score'].mean())\n",
        "    tree_train_scores_std.append(tree_scores['train_score'].std())\n",
        "    \n",
        "    tree_test_scores_mean.append(tree_scores['test_score'].mean())\n",
        "    tree_test_scores_std.append(tree_scores['test_score'].std())\n",
        "    \n",
        "    clear_output(wait=True)\n",
        "    print('Completado: ' + str(round(i / i_max * 100, 2)) + '%')\n",
        "\n",
        "tree_train_scores_mean = np.array(tree_train_scores_mean)\n",
        "tree_train_scores_std = np.array(tree_train_scores_std)\n",
        "tree_test_scores_mean = np.array(tree_test_scores_mean)\n",
        "tree_test_scores_std = np.array(tree_test_scores_std)"
      ],
      "metadata": {
        "colab": {
          "base_uri": "https://localhost:8080/"
        },
        "id": "HShm1RIiuUEl",
        "outputId": "80ca50c8-2911-4824-b2ad-0bc26411a995"
      },
      "execution_count": null,
      "outputs": [
        {
          "output_type": "stream",
          "name": "stdout",
          "text": [
            "Completado: 100.0%\n"
          ]
        }
      ]
    },
    {
      "cell_type": "code",
      "source": [
        "plt.fill_between(profundidades, tree_train_scores_mean - tree_train_scores_std,\n",
        "                 tree_train_scores_mean + tree_train_scores_std, alpha=0.1,\n",
        "                 color=\"r\")\n",
        "plt.fill_between(profundidades, tree_test_scores_mean - tree_test_scores_std,\n",
        "                 tree_test_scores_mean + tree_test_scores_std, alpha=0.1, color=\"g\")\n",
        "\n",
        "plt.plot(profundidades, tree_train_scores_mean, 'o-', color=\"r\",\n",
        "         label=\"Training score\")\n",
        "plt.plot(profundidades, tree_test_scores_mean, 'o-', color=\"g\",\n",
        "         label=\"Test score\")\n",
        "\n",
        "plt.legend()\n",
        "plt.ylabel('Accuracy')\n",
        "plt.xlabel('Profundidad Arbol de Decision')\n",
        "plt.show()\n"
      ],
      "metadata": {
        "colab": {
          "base_uri": "https://localhost:8080/",
          "height": 279
        },
        "id": "jxbIQBQRwfk_",
        "outputId": "5e582dcb-8e5b-493b-c68c-da132997e7f8"
      },
      "execution_count": null,
      "outputs": [
        {
          "output_type": "display_data",
          "data": {
            "text/plain": [
              "<Figure size 432x288 with 1 Axes>"
            ],
            "image/png": "[encoded data removed]"
          },
          "metadata": {
            "needs_background": "light"
          }
        }
      ]
    },
    {
      "cell_type": "markdown",
      "source": [
        "De acuerdo a la gráfica de las sucesivas pruebas, tomaremos como 27 la profundidad ideal del Árbol"
      ],
      "metadata": {
        "id": "vSjnFcI4xitP"
      }
    },
    {
      "cell_type": "code",
      "source": [
        "# Iniciamos un modelo con profundidad 27\n",
        "clf = DecisionTreeClassifier(max_depth = 27, random_state = 42)"
      ],
      "metadata": {
        "id": "138WpwN5wvNw"
      },
      "execution_count": null,
      "outputs": []
    },
    {
      "cell_type": "code",
      "source": [
        "# Separamos el set de entrenamiento de Henry en dos partes para entrenar\n",
        "# y testear\n",
        "X_train, X_test, y_train, y_test = train_test_split(\n",
        "    X, y, test_size=0.2,\n",
        "    random_state=42, stratify=train_v1['category_price'])"
      ],
      "metadata": {
        "id": "GF3VC7p-w8ip"
      },
      "execution_count": null,
      "outputs": []
    },
    {
      "cell_type": "code",
      "source": [
        "# Entrenamos el modelo\n",
        "clf.fit(X_train, y_train)"
      ],
      "metadata": {
        "colab": {
          "base_uri": "https://localhost:8080/"
        },
        "id": "0xNcB-FWyVI3",
        "outputId": "8f29a221-3db3-4227-90f1-dfc987b0901c"
      },
      "execution_count": null,
      "outputs": [
        {
          "output_type": "execute_result",
          "data": {
            "text/plain": [
              "DecisionTreeClassifier(max_depth=27, random_state=42)"
            ]
          },
          "metadata": {},
          "execution_count": 87
        }
      ]
    },
    {
      "cell_type": "code",
      "source": [
        "# Verificamos la precisión del modelo\n",
        "print('Precisión en el set de entrenamiento: {0: .2f}'.format(clf.score(X_train, y_train)))\n",
        "print('Precisión en el set de testeo: {0: .2f}'.format(clf.score(X_test, y_test)))"
      ],
      "metadata": {
        "colab": {
          "base_uri": "https://localhost:8080/"
        },
        "id": "6a4MPu2ZyfYB",
        "outputId": "e67a2d91-dcb9-4bc1-90f2-b73b4ed58e9e"
      },
      "execution_count": null,
      "outputs": [
        {
          "output_type": "stream",
          "name": "stdout",
          "text": [
            "Precisión en el set de entrenamiento:  0.99\n",
            "Precisión en el set de testeo:  0.87\n"
          ]
        }
      ]
    },
    {
      "cell_type": "code",
      "source": [
        "# Realizamos las predicciones\n",
        "X_test = test_v1.drop([\"cats_allowed\",\"dogs_allowed\",\"wheelchair_access\", \"electric_vehicle_charge\", \"comes_furnished\"],axis = 1)\n",
        "y_pred = clf.predict(X_test)"
      ],
      "metadata": {
        "id": "3efHbQsxypnr"
      },
      "execution_count": null,
      "outputs": []
    },
    {
      "cell_type": "code",
      "source": [
        "y_pred"
      ],
      "metadata": {
        "id": "McQzEaz6yr8J",
        "colab": {
          "base_uri": "https://localhost:8080/"
        },
        "outputId": "6b223bba-bb01-44a9-9494-ae199cd11985"
      },
      "execution_count": null,
      "outputs": [
        {
          "output_type": "execute_result",
          "data": {
            "text/plain": [
              "array([0, 0, 0, ..., 1, 0, 0])"
            ]
          },
          "metadata": {},
          "execution_count": 90
        }
      ]
    },
    {
      "cell_type": "code",
      "source": [
        "# Generamos el archivo con las predicciones para enviar a Henry\n",
        "pd.DataFrame(y_pred).to_csv('JassonLr.csv', index=False, header = False)"
      ],
      "metadata": {
        "id": "G9Wl0g3wJtIv"
      },
      "execution_count": null,
      "outputs": []
    },
    {
      "cell_type": "markdown",
      "source": [
        "Primera prueba"
      ],
      "metadata": {
        "id": "lTs1b0tjB1Ow"
      }
    },
    {
      "cell_type": "code",
      "source": [
        "clf = DecisionTreeClassifier(max_depth = 10, random_state = 42)"
      ],
      "metadata": {
        "id": "t60Z9hLwBh0M"
      },
      "execution_count": null,
      "outputs": []
    },
    {
      "cell_type": "code",
      "source": [
        "X_train, X_test, y_train, y_test = train_test_split(\n",
        "    X, y, test_size=0.2,\n",
        "    random_state=42, stratify=train_v1['category_price'])"
      ],
      "metadata": {
        "id": "q-E198UUBnXO"
      },
      "execution_count": null,
      "outputs": []
    },
    {
      "cell_type": "code",
      "source": [
        "X_train, X_test, y_train, y_test = train_test_split(\n",
        "    X, y, test_size=0.2,\n",
        "    random_state=42, stratify=train_v1['category_price'])"
      ],
      "metadata": {
        "id": "kKFObLm8BwcP"
      },
      "execution_count": null,
      "outputs": []
    },
    {
      "cell_type": "code",
      "source": [
        "# Entrenamos el modelo\n",
        "clf.fit(X_train, y_train)"
      ],
      "metadata": {
        "colab": {
          "base_uri": "https://localhost:8080/"
        },
        "id": "-kaCjH4fFJPu",
        "outputId": "b0ab2d89-06d9-49f0-f03d-e925184af885"
      },
      "execution_count": null,
      "outputs": [
        {
          "output_type": "execute_result",
          "data": {
            "text/plain": [
              "DecisionTreeClassifier(max_depth=10, random_state=42)"
            ]
          },
          "metadata": {},
          "execution_count": 97
        }
      ]
    },
    {
      "cell_type": "code",
      "source": [
        "# Verificamos la precisión del modelo\n",
        "print('Precisión en el set de entrenamiento: {0: .2f}'.format(clf.score(X_train, y_train)))\n",
        "print('Precisión en el set de testeo: {0: .2f}'.format(clf.score(X_test, y_test)))"
      ],
      "metadata": {
        "colab": {
          "base_uri": "https://localhost:8080/"
        },
        "id": "JxLz2ezzCAm8",
        "outputId": "b148e327-1af1-49a0-dbab-894d0346cb28"
      },
      "execution_count": null,
      "outputs": [
        {
          "output_type": "stream",
          "name": "stdout",
          "text": [
            "Precisión en el set de entrenamiento:  0.82\n",
            "Precisión en el set de testeo:  0.82\n"
          ]
        }
      ]
    },
    {
      "cell_type": "code",
      "source": [
        "# Realizamos las predicciones\n",
        "X_test = test_v1.drop([\"cats_allowed\",\"dogs_allowed\",\"wheelchair_access\", \"electric_vehicle_charge\", \"comes_furnished\"],axis = 1)\n",
        "y_pred = clf.predict(X_test)"
      ],
      "metadata": {
        "id": "Hf82n4sZCEmZ"
      },
      "execution_count": null,
      "outputs": []
    },
    {
      "cell_type": "code",
      "source": [
        "y_pred"
      ],
      "metadata": {
        "colab": {
          "base_uri": "https://localhost:8080/"
        },
        "id": "efpx4RTYCHF1",
        "outputId": "a963e924-7d57-4c1c-b256-d2771cd929bd"
      },
      "execution_count": null,
      "outputs": [
        {
          "output_type": "execute_result",
          "data": {
            "text/plain": [
              "array([0, 0, 0, ..., 1, 0, 1])"
            ]
          },
          "metadata": {},
          "execution_count": 100
        }
      ]
    },
    {
      "cell_type": "code",
      "source": [
        "# Generamos el archivo con las predicciones para enviar a Henry\n",
        "pd.DataFrame(y_pred).to_csv('01_JassonLr.csv', index=False, header = False)"
      ],
      "metadata": {
        "id": "_tHPALKtCJNP"
      },
      "execution_count": null,
      "outputs": []
    }
  ]
}